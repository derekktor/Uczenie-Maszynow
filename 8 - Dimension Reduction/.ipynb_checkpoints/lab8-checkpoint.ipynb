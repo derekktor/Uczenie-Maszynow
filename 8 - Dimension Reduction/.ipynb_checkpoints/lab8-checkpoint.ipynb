{
 "cells": [
  {
   "cell_type": "markdown",
   "id": "22f60ad6-6dfe-4cee-a0ad-5ba40e33e877",
   "metadata": {
    "jp-MarkdownHeadingCollapsed": true,
    "tags": []
   },
   "source": [
    "# imports"
   ]
  },
  {
   "cell_type": "code",
   "execution_count": 1,
   "id": "adaa4632-185d-40cc-ae85-9fc78568cca7",
   "metadata": {},
   "outputs": [],
   "source": [
    "import numpy as np\n",
    "import pandas as pd\n",
    "from sklearn.datasets import load_breast_cancer\n",
    "from sklearn.datasets import load_iris\n",
    "\n",
    "import pickle\n",
    "import seaborn as sns\n",
    "from sklearn.decomposition import PCA\n",
    "\n"
   ]
  },
  {
   "cell_type": "code",
   "execution_count": 2,
   "id": "eb741be1-088f-4690-ae52-4cd1d38c0b2a",
   "metadata": {},
   "outputs": [],
   "source": [
    "from sklearn.model_selection import train_test_split"
   ]
  },
  {
   "cell_type": "code",
   "execution_count": 3,
   "id": "7dc3dbb2-62b6-4bc0-bd4a-88a8007c3a81",
   "metadata": {},
   "outputs": [],
   "source": [
    "import matplotlib.pyplot as plt"
   ]
  },
  {
   "cell_type": "code",
   "execution_count": 56,
   "id": "ec9fef9f-cda1-44a4-ad09-35fbe8065795",
   "metadata": {},
   "outputs": [],
   "source": [
    "from sklearn.preprocessing import StandardScaler"
   ]
  },
  {
   "cell_type": "markdown",
   "id": "f20e8261-14cc-471a-931e-4b6b2f7fa754",
   "metadata": {
    "tags": []
   },
   "source": [
    "# load data"
   ]
  },
  {
   "cell_type": "code",
   "execution_count": 4,
   "id": "e751cdef-9fa5-4fbe-91ef-72b2e49018a0",
   "metadata": {},
   "outputs": [],
   "source": [
    "dbc = load_breast_cancer(as_frame=True)\n",
    "iris = load_iris(as_frame=True)"
   ]
  },
  {
   "cell_type": "code",
   "execution_count": 5,
   "id": "77445bf5-b390-475d-9fb5-df0ac15eff65",
   "metadata": {},
   "outputs": [],
   "source": [
    "X_dbc = dbc[\"data\"]\n",
    "y_dbc = dbc[\"target\"]"
   ]
  },
  {
   "cell_type": "code",
   "execution_count": 6,
   "id": "1bc77318-94dc-464b-93a4-2c1c7c30550d",
   "metadata": {},
   "outputs": [],
   "source": [
    "X_iris = iris[\"data\"]\n",
    "y_iris = iris[\"target\"]"
   ]
  },
  {
   "cell_type": "code",
   "execution_count": 105,
   "id": "67500ffe-097c-489b-ad17-af3759b5db25",
   "metadata": {},
   "outputs": [
    {
     "name": "stdout",
     "output_type": "stream",
     "text": [
      "<class 'pandas.core.frame.DataFrame'>\n",
      "RangeIndex: 569 entries, 0 to 568\n",
      "Data columns (total 30 columns):\n",
      " #   Column                   Non-Null Count  Dtype  \n",
      "---  ------                   --------------  -----  \n",
      " 0   mean radius              569 non-null    float64\n",
      " 1   mean texture             569 non-null    float64\n",
      " 2   mean perimeter           569 non-null    float64\n",
      " 3   mean area                569 non-null    float64\n",
      " 4   mean smoothness          569 non-null    float64\n",
      " 5   mean compactness         569 non-null    float64\n",
      " 6   mean concavity           569 non-null    float64\n",
      " 7   mean concave points      569 non-null    float64\n",
      " 8   mean symmetry            569 non-null    float64\n",
      " 9   mean fractal dimension   569 non-null    float64\n",
      " 10  radius error             569 non-null    float64\n",
      " 11  texture error            569 non-null    float64\n",
      " 12  perimeter error          569 non-null    float64\n",
      " 13  area error               569 non-null    float64\n",
      " 14  smoothness error         569 non-null    float64\n",
      " 15  compactness error        569 non-null    float64\n",
      " 16  concavity error          569 non-null    float64\n",
      " 17  concave points error     569 non-null    float64\n",
      " 18  symmetry error           569 non-null    float64\n",
      " 19  fractal dimension error  569 non-null    float64\n",
      " 20  worst radius             569 non-null    float64\n",
      " 21  worst texture            569 non-null    float64\n",
      " 22  worst perimeter          569 non-null    float64\n",
      " 23  worst area               569 non-null    float64\n",
      " 24  worst smoothness         569 non-null    float64\n",
      " 25  worst compactness        569 non-null    float64\n",
      " 26  worst concavity          569 non-null    float64\n",
      " 27  worst concave points     569 non-null    float64\n",
      " 28  worst symmetry           569 non-null    float64\n",
      " 29  worst fractal dimension  569 non-null    float64\n",
      "dtypes: float64(30)\n",
      "memory usage: 133.5 KB\n"
     ]
    }
   ],
   "source": [
    "X_dbc.info()"
   ]
  },
  {
   "cell_type": "code",
   "execution_count": 106,
   "id": "cd057b57-0450-43f8-a101-2dab53f248d0",
   "metadata": {},
   "outputs": [
    {
     "name": "stdout",
     "output_type": "stream",
     "text": [
      "<class 'pandas.core.frame.DataFrame'>\n",
      "RangeIndex: 150 entries, 0 to 149\n",
      "Data columns (total 4 columns):\n",
      " #   Column             Non-Null Count  Dtype  \n",
      "---  ------             --------------  -----  \n",
      " 0   sepal length (cm)  150 non-null    float64\n",
      " 1   sepal width (cm)   150 non-null    float64\n",
      " 2   petal length (cm)  150 non-null    float64\n",
      " 3   petal width (cm)   150 non-null    float64\n",
      "dtypes: float64(4)\n",
      "memory usage: 4.8 KB\n"
     ]
    }
   ],
   "source": [
    "X_iris.info()"
   ]
  },
  {
   "cell_type": "code",
   "execution_count": 103,
   "id": "64d5f6a0-33da-4bce-beb7-f76f403b1ae1",
   "metadata": {},
   "outputs": [
    {
     "data": {
      "text/html": [
       "<div>\n",
       "<style scoped>\n",
       "    .dataframe tbody tr th:only-of-type {\n",
       "        vertical-align: middle;\n",
       "    }\n",
       "\n",
       "    .dataframe tbody tr th {\n",
       "        vertical-align: top;\n",
       "    }\n",
       "\n",
       "    .dataframe thead th {\n",
       "        text-align: right;\n",
       "    }\n",
       "</style>\n",
       "<table border=\"1\" class=\"dataframe\">\n",
       "  <thead>\n",
       "    <tr style=\"text-align: right;\">\n",
       "      <th></th>\n",
       "      <th>mean radius</th>\n",
       "      <th>mean texture</th>\n",
       "      <th>mean perimeter</th>\n",
       "      <th>mean area</th>\n",
       "      <th>mean smoothness</th>\n",
       "      <th>mean compactness</th>\n",
       "      <th>mean concavity</th>\n",
       "      <th>mean concave points</th>\n",
       "      <th>mean symmetry</th>\n",
       "      <th>mean fractal dimension</th>\n",
       "      <th>...</th>\n",
       "      <th>worst radius</th>\n",
       "      <th>worst texture</th>\n",
       "      <th>worst perimeter</th>\n",
       "      <th>worst area</th>\n",
       "      <th>worst smoothness</th>\n",
       "      <th>worst compactness</th>\n",
       "      <th>worst concavity</th>\n",
       "      <th>worst concave points</th>\n",
       "      <th>worst symmetry</th>\n",
       "      <th>worst fractal dimension</th>\n",
       "    </tr>\n",
       "  </thead>\n",
       "  <tbody>\n",
       "    <tr>\n",
       "      <th>378</th>\n",
       "      <td>13.660</td>\n",
       "      <td>15.15</td>\n",
       "      <td>88.27</td>\n",
       "      <td>580.6</td>\n",
       "      <td>0.08268</td>\n",
       "      <td>0.07548</td>\n",
       "      <td>0.04249</td>\n",
       "      <td>0.02471</td>\n",
       "      <td>0.1792</td>\n",
       "      <td>0.05897</td>\n",
       "      <td>...</td>\n",
       "      <td>14.54</td>\n",
       "      <td>19.64</td>\n",
       "      <td>97.96</td>\n",
       "      <td>657.0</td>\n",
       "      <td>0.1275</td>\n",
       "      <td>0.3104</td>\n",
       "      <td>0.25690</td>\n",
       "      <td>0.10540</td>\n",
       "      <td>0.3387</td>\n",
       "      <td>0.09638</td>\n",
       "    </tr>\n",
       "    <tr>\n",
       "      <th>370</th>\n",
       "      <td>16.350</td>\n",
       "      <td>23.29</td>\n",
       "      <td>109.00</td>\n",
       "      <td>840.4</td>\n",
       "      <td>0.09742</td>\n",
       "      <td>0.14970</td>\n",
       "      <td>0.18110</td>\n",
       "      <td>0.08773</td>\n",
       "      <td>0.2175</td>\n",
       "      <td>0.06218</td>\n",
       "      <td>...</td>\n",
       "      <td>19.38</td>\n",
       "      <td>31.03</td>\n",
       "      <td>129.30</td>\n",
       "      <td>1165.0</td>\n",
       "      <td>0.1415</td>\n",
       "      <td>0.4665</td>\n",
       "      <td>0.70870</td>\n",
       "      <td>0.22480</td>\n",
       "      <td>0.4824</td>\n",
       "      <td>0.09614</td>\n",
       "    </tr>\n",
       "    <tr>\n",
       "      <th>273</th>\n",
       "      <td>9.742</td>\n",
       "      <td>15.67</td>\n",
       "      <td>61.50</td>\n",
       "      <td>289.9</td>\n",
       "      <td>0.09037</td>\n",
       "      <td>0.04689</td>\n",
       "      <td>0.01103</td>\n",
       "      <td>0.01407</td>\n",
       "      <td>0.2081</td>\n",
       "      <td>0.06312</td>\n",
       "      <td>...</td>\n",
       "      <td>10.75</td>\n",
       "      <td>20.88</td>\n",
       "      <td>68.09</td>\n",
       "      <td>355.2</td>\n",
       "      <td>0.1467</td>\n",
       "      <td>0.0937</td>\n",
       "      <td>0.04043</td>\n",
       "      <td>0.05159</td>\n",
       "      <td>0.2841</td>\n",
       "      <td>0.08175</td>\n",
       "    </tr>\n",
       "    <tr>\n",
       "      <th>13</th>\n",
       "      <td>15.850</td>\n",
       "      <td>23.95</td>\n",
       "      <td>103.70</td>\n",
       "      <td>782.7</td>\n",
       "      <td>0.08401</td>\n",
       "      <td>0.10020</td>\n",
       "      <td>0.09938</td>\n",
       "      <td>0.05364</td>\n",
       "      <td>0.1847</td>\n",
       "      <td>0.05338</td>\n",
       "      <td>...</td>\n",
       "      <td>16.84</td>\n",
       "      <td>27.66</td>\n",
       "      <td>112.00</td>\n",
       "      <td>876.5</td>\n",
       "      <td>0.1131</td>\n",
       "      <td>0.1924</td>\n",
       "      <td>0.23220</td>\n",
       "      <td>0.11190</td>\n",
       "      <td>0.2809</td>\n",
       "      <td>0.06287</td>\n",
       "    </tr>\n",
       "  </tbody>\n",
       "</table>\n",
       "<p>4 rows × 30 columns</p>\n",
       "</div>"
      ],
      "text/plain": [
       "     mean radius  mean texture  mean perimeter  mean area  mean smoothness  \\\n",
       "378       13.660         15.15           88.27      580.6          0.08268   \n",
       "370       16.350         23.29          109.00      840.4          0.09742   \n",
       "273        9.742         15.67           61.50      289.9          0.09037   \n",
       "13        15.850         23.95          103.70      782.7          0.08401   \n",
       "\n",
       "     mean compactness  mean concavity  mean concave points  mean symmetry  \\\n",
       "378           0.07548         0.04249              0.02471         0.1792   \n",
       "370           0.14970         0.18110              0.08773         0.2175   \n",
       "273           0.04689         0.01103              0.01407         0.2081   \n",
       "13            0.10020         0.09938              0.05364         0.1847   \n",
       "\n",
       "     mean fractal dimension  ...  worst radius  worst texture  \\\n",
       "378                 0.05897  ...         14.54          19.64   \n",
       "370                 0.06218  ...         19.38          31.03   \n",
       "273                 0.06312  ...         10.75          20.88   \n",
       "13                  0.05338  ...         16.84          27.66   \n",
       "\n",
       "     worst perimeter  worst area  worst smoothness  worst compactness  \\\n",
       "378            97.96       657.0            0.1275             0.3104   \n",
       "370           129.30      1165.0            0.1415             0.4665   \n",
       "273            68.09       355.2            0.1467             0.0937   \n",
       "13            112.00       876.5            0.1131             0.1924   \n",
       "\n",
       "     worst concavity  worst concave points  worst symmetry  \\\n",
       "378          0.25690               0.10540          0.3387   \n",
       "370          0.70870               0.22480          0.4824   \n",
       "273          0.04043               0.05159          0.2841   \n",
       "13           0.23220               0.11190          0.2809   \n",
       "\n",
       "     worst fractal dimension  \n",
       "378                  0.09638  \n",
       "370                  0.09614  \n",
       "273                  0.08175  \n",
       "13                   0.06287  \n",
       "\n",
       "[4 rows x 30 columns]"
      ]
     },
     "execution_count": 103,
     "metadata": {},
     "output_type": "execute_result"
    }
   ],
   "source": [
    "X_dbc.sample(4)"
   ]
  },
  {
   "cell_type": "code",
   "execution_count": 104,
   "id": "5a911532-007e-4a98-b869-997627f4044d",
   "metadata": {},
   "outputs": [
    {
     "data": {
      "text/html": [
       "<div>\n",
       "<style scoped>\n",
       "    .dataframe tbody tr th:only-of-type {\n",
       "        vertical-align: middle;\n",
       "    }\n",
       "\n",
       "    .dataframe tbody tr th {\n",
       "        vertical-align: top;\n",
       "    }\n",
       "\n",
       "    .dataframe thead th {\n",
       "        text-align: right;\n",
       "    }\n",
       "</style>\n",
       "<table border=\"1\" class=\"dataframe\">\n",
       "  <thead>\n",
       "    <tr style=\"text-align: right;\">\n",
       "      <th></th>\n",
       "      <th>sepal length (cm)</th>\n",
       "      <th>sepal width (cm)</th>\n",
       "      <th>petal length (cm)</th>\n",
       "      <th>petal width (cm)</th>\n",
       "    </tr>\n",
       "  </thead>\n",
       "  <tbody>\n",
       "    <tr>\n",
       "      <th>40</th>\n",
       "      <td>5.0</td>\n",
       "      <td>3.5</td>\n",
       "      <td>1.3</td>\n",
       "      <td>0.3</td>\n",
       "    </tr>\n",
       "    <tr>\n",
       "      <th>19</th>\n",
       "      <td>5.1</td>\n",
       "      <td>3.8</td>\n",
       "      <td>1.5</td>\n",
       "      <td>0.3</td>\n",
       "    </tr>\n",
       "    <tr>\n",
       "      <th>122</th>\n",
       "      <td>7.7</td>\n",
       "      <td>2.8</td>\n",
       "      <td>6.7</td>\n",
       "      <td>2.0</td>\n",
       "    </tr>\n",
       "    <tr>\n",
       "      <th>113</th>\n",
       "      <td>5.7</td>\n",
       "      <td>2.5</td>\n",
       "      <td>5.0</td>\n",
       "      <td>2.0</td>\n",
       "    </tr>\n",
       "  </tbody>\n",
       "</table>\n",
       "</div>"
      ],
      "text/plain": [
       "     sepal length (cm)  sepal width (cm)  petal length (cm)  petal width (cm)\n",
       "40                 5.0               3.5                1.3               0.3\n",
       "19                 5.1               3.8                1.5               0.3\n",
       "122                7.7               2.8                6.7               2.0\n",
       "113                5.7               2.5                5.0               2.0"
      ]
     },
     "execution_count": 104,
     "metadata": {},
     "output_type": "execute_result"
    }
   ],
   "source": [
    "X_iris.sample(4)"
   ]
  },
  {
   "cell_type": "markdown",
   "id": "e5ed5376-d586-4e94-9840-ecea6c7468c0",
   "metadata": {},
   "source": [
    "# enter PCA"
   ]
  },
  {
   "cell_type": "code",
   "execution_count": 7,
   "id": "0ec3f5f6-87d1-4818-b075-69151e36027d",
   "metadata": {},
   "outputs": [],
   "source": [
    "pca_dbc = PCA(n_components=.9)"
   ]
  },
  {
   "cell_type": "code",
   "execution_count": 8,
   "id": "aac30a98-c82e-4245-ba68-4160b107996c",
   "metadata": {},
   "outputs": [],
   "source": [
    "X_dbc_pca = pca_dbc.fit_transform(X_dbc)"
   ]
  },
  {
   "cell_type": "code",
   "execution_count": 51,
   "id": "962400fa-152a-42f7-9097-d835cba2834c",
   "metadata": {},
   "outputs": [
    {
     "name": "stdout",
     "output_type": "stream",
     "text": [
      "[0.98204467] 1\n"
     ]
    }
   ],
   "source": [
    "print(pca_dbc.explained_variance_ratio_, pca_dbc.n_components_)"
   ]
  },
  {
   "cell_type": "code",
   "execution_count": 53,
   "id": "3f8f710a-1f9d-4c23-b4e6-d4f7e5ad3340",
   "metadata": {},
   "outputs": [],
   "source": [
    "pca_iris = PCA(n_components=.9)"
   ]
  },
  {
   "cell_type": "code",
   "execution_count": 54,
   "id": "fa35604f-204e-48e6-9391-e8307418e970",
   "metadata": {},
   "outputs": [],
   "source": [
    "X_iris_pca = pca_iris.fit_transform(X_iris)"
   ]
  },
  {
   "cell_type": "code",
   "execution_count": 55,
   "id": "7f4e7b57-06ea-4faf-afd4-3f08dbdc3f5a",
   "metadata": {},
   "outputs": [
    {
     "name": "stdout",
     "output_type": "stream",
     "text": [
      "[0.92461872] 1\n"
     ]
    }
   ],
   "source": [
    "print(pca_iris.explained_variance_ratio_, pca_iris.n_components_)"
   ]
  },
  {
   "cell_type": "markdown",
   "id": "fcf324c8-c880-452f-b505-cbfd3f8d571b",
   "metadata": {},
   "source": [
    "# scale"
   ]
  },
  {
   "cell_type": "code",
   "execution_count": 90,
   "id": "8bd97028-c59b-4d90-a95d-615a6b3736a1",
   "metadata": {},
   "outputs": [],
   "source": [
    "scaler_dbc = StandardScaler()"
   ]
  },
  {
   "cell_type": "code",
   "execution_count": 107,
   "id": "4610675e-54df-4089-8e61-66f69ec5ae33",
   "metadata": {},
   "outputs": [],
   "source": [
    "X_dbc_scaled = scaler_dbc.fit_transform(X_dbc)"
   ]
  },
  {
   "cell_type": "code",
   "execution_count": 108,
   "id": "0b82715b-b0e6-4e9e-a8e4-8612d9f06d1a",
   "metadata": {},
   "outputs": [],
   "source": [
    "pca_dbc_scaled = PCA(n_components=.9)"
   ]
  },
  {
   "cell_type": "code",
   "execution_count": 109,
   "id": "5e9098a9-4c33-4284-a0ae-7129f5071bee",
   "metadata": {},
   "outputs": [],
   "source": [
    "X_dbc_pca_scaled = pca_dbc_scaled.fit_transform(X_dbc_scaled)"
   ]
  },
  {
   "cell_type": "code",
   "execution_count": 110,
   "id": "0c6265c6-ecea-4c26-bf1e-e9a1b4fd0c27",
   "metadata": {},
   "outputs": [
    {
     "name": "stdout",
     "output_type": "stream",
     "text": [
      "[0.44272026 0.18971182 0.09393163 0.06602135 0.05495768 0.04024522\n",
      " 0.02250734] 7\n"
     ]
    }
   ],
   "source": [
    "print(pca_dbc_scaled.explained_variance_ratio_, pca_dbc_scaled.n_components_)"
   ]
  },
  {
   "cell_type": "code",
   "execution_count": null,
   "id": "c72bd7a6-b868-48a5-a4d2-2cb9f59ab626",
   "metadata": {},
   "outputs": [],
   "source": []
  },
  {
   "cell_type": "code",
   "execution_count": 95,
   "id": "f29ed1e9-c04e-40b4-a8c1-8f7a08d71b1e",
   "metadata": {},
   "outputs": [],
   "source": [
    "scaler_iris = StandardScaler()"
   ]
  },
  {
   "cell_type": "code",
   "execution_count": 97,
   "id": "5080f040-2118-408a-bb06-b3163366601f",
   "metadata": {},
   "outputs": [],
   "source": [
    "scaled_X_iris = scaler_dbc.fit_transform(X_iris)"
   ]
  },
  {
   "cell_type": "code",
   "execution_count": 98,
   "id": "1f5abecd-aade-483a-805d-7c24f491ac02",
   "metadata": {},
   "outputs": [],
   "source": [
    "pca_iris_scaled = PCA(n_components=.9)"
   ]
  },
  {
   "cell_type": "code",
   "execution_count": 99,
   "id": "f3701975-6094-4e01-9775-c8aa435323e6",
   "metadata": {},
   "outputs": [],
   "source": [
    "X_iris_pca_scaled = pca_iris_scaled.fit_transform(scaled_X_iris)"
   ]
  },
  {
   "cell_type": "code",
   "execution_count": 100,
   "id": "d6fe1d19-0c99-4a87-aca2-cb3dfa974705",
   "metadata": {},
   "outputs": [
    {
     "name": "stdout",
     "output_type": "stream",
     "text": [
      "[0.72962445 0.22850762] 2\n"
     ]
    }
   ],
   "source": [
    "print(pca_iris_scaled.explained_variance_ratio_, pca_iris_scaled.n_components_)"
   ]
  },
  {
   "cell_type": "code",
   "execution_count": null,
   "id": "d3988d4b-aba5-4e75-8774-3ccba91adf6b",
   "metadata": {},
   "outputs": [],
   "source": [
    "fig, ax = plt.subplots(1, 4, figsize=(20, 10))\n",
    "\n",
    "sns.histplot(X_dbc, ax=ax[0])\n",
    "ax[0].set_title(\"orig\")\n",
    "\n",
    "sns.histplot(X_dbc_scaled, ax=ax[1])\n",
    "ax[1].set_title(\"scaled\")\n",
    "\n",
    "sns.histplot(X_dbc_pca, ax=ax[2])\n",
    "ax[2].set_title(\"pca\")\n",
    "\n",
    "sns.histplot(X_dbc_pca_scaled, ax=ax[3])\n",
    "ax[3].set_title(\"pca scaled\")\n",
    "\n",
    "plt.show()\n",
    "\n",
    "fig = \"X_dbc.png\"\n",
    "\n",
    "plt.save(fig)"
   ]
  },
  {
   "cell_type": "code",
   "execution_count": null,
   "id": "7e880a52-7c76-4dd9-8475-b6d193ca59c7",
   "metadata": {},
   "outputs": [],
   "source": []
  },
  {
   "cell_type": "code",
   "execution_count": null,
   "id": "4b092d93-9c30-4ae1-9885-5af3bca11519",
   "metadata": {},
   "outputs": [],
   "source": []
  },
  {
   "cell_type": "code",
   "execution_count": null,
   "id": "4ca7cfc6-8c3d-4359-b66d-64b0de7630b6",
   "metadata": {},
   "outputs": [],
   "source": []
  },
  {
   "cell_type": "code",
   "execution_count": null,
   "id": "b9e4e80a-7f5e-4705-aa48-74ff8f23d775",
   "metadata": {},
   "outputs": [],
   "source": []
  }
 ],
 "metadata": {
  "kernelspec": {
   "display_name": "Python 3 (ipykernel)",
   "language": "python",
   "name": "python3"
  },
  "language_info": {
   "codemirror_mode": {
    "name": "ipython",
    "version": 3
   },
   "file_extension": ".py",
   "mimetype": "text/x-python",
   "name": "python",
   "nbconvert_exporter": "python",
   "pygments_lexer": "ipython3",
   "version": "3.9.10"
  }
 },
 "nbformat": 4,
 "nbformat_minor": 5
}

{
 "cells": [
  {
   "cell_type": "markdown",
   "id": "22f60ad6-6dfe-4cee-a0ad-5ba40e33e877",
   "metadata": {
    "tags": []
   },
   "source": [
    "# imports"
   ]
  },
  {
   "cell_type": "code",
   "execution_count": 2,
   "id": "adaa4632-185d-40cc-ae85-9fc78568cca7",
   "metadata": {},
   "outputs": [],
   "source": [
    "import numpy as np\n",
    "import pandas as pd\n",
    "from sklearn.datasets import load_breast_cancer\n",
    "from sklearn.datasets import load_iris\n",
    "\n",
    "import pickle\n",
    "import seaborn as sns\n",
    "from sklearn.decomposition import PCA"
   ]
  },
  {
   "cell_type": "code",
   "execution_count": 3,
   "id": "eb741be1-088f-4690-ae52-4cd1d38c0b2a",
   "metadata": {},
   "outputs": [],
   "source": [
    "from sklearn.model_selection import train_test_split"
   ]
  },
  {
   "cell_type": "code",
   "execution_count": 4,
   "id": "7dc3dbb2-62b6-4bc0-bd4a-88a8007c3a81",
   "metadata": {},
   "outputs": [],
   "source": [
    "import matplotlib.pyplot as plt"
   ]
  },
  {
   "cell_type": "code",
   "execution_count": 5,
   "id": "ec9fef9f-cda1-44a4-ad09-35fbe8065795",
   "metadata": {},
   "outputs": [],
   "source": [
    "from sklearn.preprocessing import StandardScaler"
   ]
  },
  {
   "cell_type": "markdown",
   "id": "f20e8261-14cc-471a-931e-4b6b2f7fa754",
   "metadata": {
    "tags": []
   },
   "source": [
    "# load data"
   ]
  },
  {
   "cell_type": "code",
   "execution_count": 6,
   "id": "e751cdef-9fa5-4fbe-91ef-72b2e49018a0",
   "metadata": {},
   "outputs": [],
   "source": [
    "bc = load_breast_cancer(as_frame=True)\n",
    "iris = load_iris(as_frame=True)"
   ]
  },
  {
   "cell_type": "code",
   "execution_count": 7,
   "id": "77445bf5-b390-475d-9fb5-df0ac15eff65",
   "metadata": {},
   "outputs": [],
   "source": [
    "X_bc = bc[\"data\"]\n",
    "y_bc = bc[\"target\"]"
   ]
  },
  {
   "cell_type": "code",
   "execution_count": 8,
   "id": "1bc77318-94dc-464b-93a4-2c1c7c30550d",
   "metadata": {},
   "outputs": [],
   "source": [
    "X_iris = iris[\"data\"]\n",
    "y_iris = iris[\"target\"]"
   ]
  },
  {
   "cell_type": "code",
   "execution_count": 9,
   "id": "67500ffe-097c-489b-ad17-af3759b5db25",
   "metadata": {},
   "outputs": [],
   "source": [
    "# X_bc.info()"
   ]
  },
  {
   "cell_type": "code",
   "execution_count": 10,
   "id": "cd057b57-0450-43f8-a101-2dab53f248d0",
   "metadata": {},
   "outputs": [],
   "source": [
    "# X_iris.info()"
   ]
  },
  {
   "cell_type": "code",
   "execution_count": 11,
   "id": "64d5f6a0-33da-4bce-beb7-f76f403b1ae1",
   "metadata": {},
   "outputs": [],
   "source": [
    "# X_dbc.sample(4)"
   ]
  },
  {
   "cell_type": "code",
   "execution_count": 12,
   "id": "5a911532-007e-4a98-b869-997627f4044d",
   "metadata": {},
   "outputs": [],
   "source": [
    "# X_iris.sample(4)"
   ]
  },
  {
   "cell_type": "markdown",
   "id": "e5ed5376-d586-4e94-9840-ecea6c7468c0",
   "metadata": {},
   "source": [
    "# Breast Cancer"
   ]
  },
  {
   "cell_type": "markdown",
   "id": "3cf2a9fb-981e-47d3-8d5c-97cfdd2a736b",
   "metadata": {},
   "source": [
    "## PCA"
   ]
  },
  {
   "cell_type": "code",
   "execution_count": 13,
   "id": "0ec3f5f6-87d1-4818-b075-69151e36027d",
   "metadata": {},
   "outputs": [],
   "source": [
    "pca_bc = PCA(n_components=.9)"
   ]
  },
  {
   "cell_type": "code",
   "execution_count": 14,
   "id": "aac30a98-c82e-4245-ba68-4160b107996c",
   "metadata": {},
   "outputs": [],
   "source": [
    "X_bc_pca = pca_bc.fit_transform(X_bc)"
   ]
  },
  {
   "cell_type": "code",
   "execution_count": 15,
   "id": "962400fa-152a-42f7-9097-d835cba2834c",
   "metadata": {},
   "outputs": [
    {
     "name": "stdout",
     "output_type": "stream",
     "text": [
      "[0.98204467] 1\n"
     ]
    }
   ],
   "source": [
    "print(pca_bc.explained_variance_ratio_, pca_bc.n_components_)"
   ]
  },
  {
   "cell_type": "markdown",
   "id": "a64b069c-3794-4b5f-915d-edadbd65fd60",
   "metadata": {},
   "source": [
    "## Scaled"
   ]
  },
  {
   "cell_type": "code",
   "execution_count": 16,
   "id": "8bd97028-c59b-4d90-a95d-615a6b3736a1",
   "metadata": {},
   "outputs": [],
   "source": [
    "scaler_bc = StandardScaler()"
   ]
  },
  {
   "cell_type": "code",
   "execution_count": 51,
   "id": "4610675e-54df-4089-8e61-66f69ec5ae33",
   "metadata": {},
   "outputs": [],
   "source": [
    "X_bc_scaled = scaler_bc.fit_transform(X_bc)"
   ]
  },
  {
   "cell_type": "code",
   "execution_count": 18,
   "id": "0b82715b-b0e6-4e9e-a8e4-8612d9f06d1a",
   "metadata": {},
   "outputs": [],
   "source": [
    "pca_bc_scaled = PCA(n_components=.9)"
   ]
  },
  {
   "cell_type": "code",
   "execution_count": 19,
   "id": "5e9098a9-4c33-4284-a0ae-7129f5071bee",
   "metadata": {},
   "outputs": [],
   "source": [
    "X_bc_pca_scaled = pca_bc_scaled.fit_transform(X_bc_scaled)"
   ]
  },
  {
   "cell_type": "code",
   "execution_count": 20,
   "id": "0c6265c6-ecea-4c26-bf1e-e9a1b4fd0c27",
   "metadata": {},
   "outputs": [],
   "source": [
    "# print(f\"\"\"\n",
    "# {pca_bc_scaled.explained_variance_ratio_}\n",
    "# {pca_bc_scaled.n_components_}\n",
    "# {pca_bc_scaled.components_}\n",
    "# \"\"\")"
   ]
  },
  {
   "cell_type": "markdown",
   "id": "508e94f1-6b00-406d-b2f9-c52f7e996cb1",
   "metadata": {},
   "source": [
    "### Wspolczynniki zmiennosci"
   ]
  },
  {
   "cell_type": "code",
   "execution_count": 21,
   "id": "d3988d4b-aba5-4e75-8774-3ccba91adf6b",
   "metadata": {},
   "outputs": [
    {
     "data": {
      "text/plain": [
       "[0.44272025607526316,\n",
       " 0.18971182044033116,\n",
       " 0.09393163257431392,\n",
       " 0.06602134915470158,\n",
       " 0.054957684923462695,\n",
       " 0.040245220398833444,\n",
       " 0.022507337129825104]"
      ]
     },
     "execution_count": 21,
     "metadata": {},
     "output_type": "execute_result"
    }
   ],
   "source": [
    "list_var_ratio_bc = list(pca_bc_scaled.explained_variance_ratio_)\n",
    "list_var_ratio_bc"
   ]
  },
  {
   "cell_type": "markdown",
   "id": "f4a2b4a6-81fd-4567-91a1-51fbe0bf2c06",
   "metadata": {},
   "source": [
    "### pickle the list"
   ]
  },
  {
   "cell_type": "code",
   "execution_count": 37,
   "id": "796d555a-3962-4ee4-a4a6-335bedae5d19",
   "metadata": {},
   "outputs": [],
   "source": [
    "with open(\"pca_bc.pkl\", \"wb\") as f:\n",
    "    pickle.dump(list_var_ratio_bc, f, pickle.HIGHEST_PROTOCOL)"
   ]
  },
  {
   "cell_type": "markdown",
   "id": "7aaeb102-8c10-47c0-97c6-e0102a08291c",
   "metadata": {},
   "source": [
    "## pickle indices"
   ]
  },
  {
   "cell_type": "code",
   "execution_count": 61,
   "id": "f2352bbe-6763-4168-830e-ec826941cfc9",
   "metadata": {},
   "outputs": [],
   "source": [
    "list_indices_max_bc = pd.DataFrame(pca_bc_scaled.components_).idxmax(axis=\"columns\").tolist()"
   ]
  },
  {
   "cell_type": "code",
   "execution_count": 62,
   "id": "9e4bd1eb-f53f-4ec7-8dea-a4c1abd466bd",
   "metadata": {},
   "outputs": [],
   "source": [
    "with open(\"idx_bc.pkl\", \"wb\") as f:\n",
    "    pickle.dump(list_indices_max_bc, f, pickle.HIGHEST_PROTOCOL)"
   ]
  },
  {
   "cell_type": "code",
   "execution_count": null,
   "id": "d04245cd-cbd9-4913-b98b-8879d3211e98",
   "metadata": {},
   "outputs": [],
   "source": []
  },
  {
   "cell_type": "code",
   "execution_count": null,
   "id": "9d852daa-12a4-46c7-a2c3-7d0c7dec531a",
   "metadata": {},
   "outputs": [],
   "source": []
  },
  {
   "cell_type": "code",
   "execution_count": null,
   "id": "194a9f3d-8525-4a1a-b565-6600f638a690",
   "metadata": {},
   "outputs": [],
   "source": []
  },
  {
   "cell_type": "markdown",
   "id": "18028628-0b22-48f4-acf8-5cbd1813467d",
   "metadata": {},
   "source": [
    "# Iris"
   ]
  },
  {
   "cell_type": "markdown",
   "id": "19fc7a90-e3fc-4fd5-899c-c54af9638c30",
   "metadata": {},
   "source": [
    "## PCA"
   ]
  },
  {
   "cell_type": "code",
   "execution_count": 23,
   "id": "a5824cde-8f16-429b-9854-fece09b50525",
   "metadata": {},
   "outputs": [],
   "source": [
    "pca_iris = PCA(n_components=.9)"
   ]
  },
  {
   "cell_type": "code",
   "execution_count": 24,
   "id": "b7facf44-9fea-42f6-bfb3-ba4862410348",
   "metadata": {},
   "outputs": [],
   "source": [
    "X_iris_pca = pca_iris.fit_transform(X_iris)"
   ]
  },
  {
   "cell_type": "code",
   "execution_count": 25,
   "id": "08d92d51-2baa-4bbb-a4f1-6faefdb7e0e0",
   "metadata": {},
   "outputs": [
    {
     "name": "stdout",
     "output_type": "stream",
     "text": [
      "[0.92461872] 1\n"
     ]
    }
   ],
   "source": [
    "print(pca_iris.explained_variance_ratio_, pca_iris.n_components_)"
   ]
  },
  {
   "cell_type": "markdown",
   "id": "1bf26a1d-a642-4686-998e-33d9ec29e8db",
   "metadata": {},
   "source": [
    "## Scaled"
   ]
  },
  {
   "cell_type": "code",
   "execution_count": 26,
   "id": "f29ed1e9-c04e-40b4-a8c1-8f7a08d71b1e",
   "metadata": {},
   "outputs": [],
   "source": [
    "scaler_iris = StandardScaler()"
   ]
  },
  {
   "cell_type": "code",
   "execution_count": 27,
   "id": "5080f040-2118-408a-bb06-b3163366601f",
   "metadata": {},
   "outputs": [],
   "source": [
    "X_iris_scaled = scaler_iris.fit_transform(X_iris)"
   ]
  },
  {
   "cell_type": "code",
   "execution_count": 28,
   "id": "1f5abecd-aade-483a-805d-7c24f491ac02",
   "metadata": {},
   "outputs": [],
   "source": [
    "pca_iris_scaled = PCA(n_components=.9)"
   ]
  },
  {
   "cell_type": "code",
   "execution_count": 29,
   "id": "f3701975-6094-4e01-9775-c8aa435323e6",
   "metadata": {},
   "outputs": [],
   "source": [
    "X_iris_pca_scaled = pca_iris_scaled.fit_transform(X_iris_scaled)"
   ]
  },
  {
   "cell_type": "code",
   "execution_count": 30,
   "id": "d6fe1d19-0c99-4a87-aca2-cb3dfa974705",
   "metadata": {},
   "outputs": [
    {
     "name": "stdout",
     "output_type": "stream",
     "text": [
      "[0.72962445 0.22850762] 2\n"
     ]
    }
   ],
   "source": [
    "print(pca_iris_scaled.explained_variance_ratio_, pca_iris_scaled.n_components_)"
   ]
  },
  {
   "cell_type": "markdown",
   "id": "2fd9a8b0-a8ec-4bb9-834b-af191168a894",
   "metadata": {},
   "source": [
    "### Wspolczynniki zmiennosci"
   ]
  },
  {
   "cell_type": "code",
   "execution_count": 32,
   "id": "ac6c2178-28d6-49fe-b4e9-cee290696881",
   "metadata": {},
   "outputs": [
    {
     "data": {
      "text/plain": [
       "[2.9380850501999953, 0.9201649041624882]"
      ]
     },
     "execution_count": 32,
     "metadata": {},
     "output_type": "execute_result"
    }
   ],
   "source": [
    "list_var_ratio_iris = list(pca_iris_scaled.explained_variance_)\n",
    "list_var_ratio_iris"
   ]
  },
  {
   "cell_type": "markdown",
   "id": "15dcd622-bc3c-4f00-96ff-0f71d246a032",
   "metadata": {},
   "source": [
    "### pickle the list"
   ]
  },
  {
   "cell_type": "code",
   "execution_count": 36,
   "id": "e7696c3f-f26e-4902-b125-ed5c53ffd2eb",
   "metadata": {},
   "outputs": [],
   "source": [
    "with open(\"pca_ir.pkl\", \"wb\") as f:\n",
    "    pickle.dump(list_var_ratio_iris, f, pickle.HIGHEST_PROTOCOL)"
   ]
  },
  {
   "cell_type": "markdown",
   "id": "b9ca1fb8-c5bd-421d-83cf-8a8040bfcf5a",
   "metadata": {},
   "source": [
    "## pickle indices"
   ]
  },
  {
   "cell_type": "code",
   "execution_count": 58,
   "id": "88312de3-4a67-437b-9692-80966fa49756",
   "metadata": {},
   "outputs": [],
   "source": [
    "list_indices_max_iris = pd.DataFrame(pca_iris_scaled.components_).idxmax(axis=\"columns\").tolist()"
   ]
  },
  {
   "cell_type": "code",
   "execution_count": 63,
   "id": "8da437a8-6736-4edd-a878-7bf276b02711",
   "metadata": {},
   "outputs": [],
   "source": [
    "with open(\"idx_ir.pkl\", \"wb\") as f:\n",
    "    pickle.dump(list_var_ratio_iris, f, pickle.HIGHEST_PROTOCOL)"
   ]
  },
  {
   "cell_type": "code",
   "execution_count": null,
   "id": "831c952b-1abe-4216-9a2e-1b304a13467f",
   "metadata": {},
   "outputs": [],
   "source": []
  },
  {
   "cell_type": "code",
   "execution_count": null,
   "id": "55aa3cee-466b-4b37-94d9-b57eea7f7eca",
   "metadata": {},
   "outputs": [],
   "source": []
  },
  {
   "cell_type": "code",
   "execution_count": null,
   "id": "2e926e31-2ec8-4325-8109-10726f1cec15",
   "metadata": {},
   "outputs": [],
   "source": []
  },
  {
   "cell_type": "code",
   "execution_count": null,
   "id": "545bae77-a097-4c71-a2b7-5ed15b3ec8b4",
   "metadata": {},
   "outputs": [],
   "source": []
  },
  {
   "cell_type": "code",
   "execution_count": null,
   "id": "cc8f48b0-077e-4afd-8db1-a8f73f74003a",
   "metadata": {},
   "outputs": [],
   "source": []
  },
  {
   "cell_type": "code",
   "execution_count": null,
   "id": "00eaaffd-d01b-467e-bea6-06156ef35c90",
   "metadata": {},
   "outputs": [],
   "source": []
  },
  {
   "cell_type": "code",
   "execution_count": null,
   "id": "d4a4e40b-7715-4d78-a0db-71fa2d2c0dcd",
   "metadata": {},
   "outputs": [],
   "source": []
  }
 ],
 "metadata": {
  "kernelspec": {
   "display_name": "Python 3 (ipykernel)",
   "language": "python",
   "name": "python3"
  },
  "language_info": {
   "codemirror_mode": {
    "name": "ipython",
    "version": 3
   },
   "file_extension": ".py",
   "mimetype": "text/x-python",
   "name": "python",
   "nbconvert_exporter": "python",
   "pygments_lexer": "ipython3",
   "version": "3.9.12"
  }
 },
 "nbformat": 4,
 "nbformat_minor": 5
}

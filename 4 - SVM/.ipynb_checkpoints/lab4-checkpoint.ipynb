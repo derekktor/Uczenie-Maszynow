{
 "cells": [
  {
   "cell_type": "markdown",
   "id": "4a8d5ef9-cfbc-4ee0-b30c-f20245e71db4",
   "metadata": {
    "jp-MarkdownHeadingCollapsed": true,
    "tags": []
   },
   "source": [
    "### Importing the modules"
   ]
  },
  {
   "cell_type": "code",
   "execution_count": 143,
   "id": "39906c6a-8453-40fe-ba30-32374511d8ac",
   "metadata": {},
   "outputs": [],
   "source": [
    "import numpy as np\n",
    "# breast_cancer; iris\n",
    "from sklearn import datasets\n",
    "from sklearn.svm import LinearSVC\n",
    "from sklearn.pipeline import Pipeline\n",
    "from sklearn.preprocessing import StandardScaler\n",
    "from sklearn.model_selection import train_test_split"
   ]
  },
  {
   "cell_type": "markdown",
   "id": "6c08d711-0904-4abb-9fc8-da6063b2f39d",
   "metadata": {
    "jp-MarkdownHeadingCollapsed": true,
    "tags": []
   },
   "source": [
    "### Loading the data"
   ]
  },
  {
   "cell_type": "code",
   "execution_count": 144,
   "id": "0b646a28-4cff-41eb-a6ed-4251d1267648",
   "metadata": {},
   "outputs": [
    {
     "data": {
      "text/html": [
       "<div>\n",
       "<style scoped>\n",
       "    .dataframe tbody tr th:only-of-type {\n",
       "        vertical-align: middle;\n",
       "    }\n",
       "\n",
       "    .dataframe tbody tr th {\n",
       "        vertical-align: top;\n",
       "    }\n",
       "\n",
       "    .dataframe thead th {\n",
       "        text-align: right;\n",
       "    }\n",
       "</style>\n",
       "<table border=\"1\" class=\"dataframe\">\n",
       "  <thead>\n",
       "    <tr style=\"text-align: right;\">\n",
       "      <th></th>\n",
       "      <th>mean area</th>\n",
       "      <th>mean smoothness</th>\n",
       "    </tr>\n",
       "  </thead>\n",
       "  <tbody>\n",
       "    <tr>\n",
       "      <th>0</th>\n",
       "      <td>1001.0</td>\n",
       "      <td>0.11840</td>\n",
       "    </tr>\n",
       "    <tr>\n",
       "      <th>1</th>\n",
       "      <td>1326.0</td>\n",
       "      <td>0.08474</td>\n",
       "    </tr>\n",
       "    <tr>\n",
       "      <th>2</th>\n",
       "      <td>1203.0</td>\n",
       "      <td>0.10960</td>\n",
       "    </tr>\n",
       "    <tr>\n",
       "      <th>3</th>\n",
       "      <td>386.1</td>\n",
       "      <td>0.14250</td>\n",
       "    </tr>\n",
       "    <tr>\n",
       "      <th>4</th>\n",
       "      <td>1297.0</td>\n",
       "      <td>0.10030</td>\n",
       "    </tr>\n",
       "    <tr>\n",
       "      <th>...</th>\n",
       "      <td>...</td>\n",
       "      <td>...</td>\n",
       "    </tr>\n",
       "    <tr>\n",
       "      <th>564</th>\n",
       "      <td>1479.0</td>\n",
       "      <td>0.11100</td>\n",
       "    </tr>\n",
       "    <tr>\n",
       "      <th>565</th>\n",
       "      <td>1261.0</td>\n",
       "      <td>0.09780</td>\n",
       "    </tr>\n",
       "    <tr>\n",
       "      <th>566</th>\n",
       "      <td>858.1</td>\n",
       "      <td>0.08455</td>\n",
       "    </tr>\n",
       "    <tr>\n",
       "      <th>567</th>\n",
       "      <td>1265.0</td>\n",
       "      <td>0.11780</td>\n",
       "    </tr>\n",
       "    <tr>\n",
       "      <th>568</th>\n",
       "      <td>181.0</td>\n",
       "      <td>0.05263</td>\n",
       "    </tr>\n",
       "  </tbody>\n",
       "</table>\n",
       "<p>569 rows × 2 columns</p>\n",
       "</div>"
      ],
      "text/plain": [
       "     mean area  mean smoothness\n",
       "0       1001.0          0.11840\n",
       "1       1326.0          0.08474\n",
       "2       1203.0          0.10960\n",
       "3        386.1          0.14250\n",
       "4       1297.0          0.10030\n",
       "..         ...              ...\n",
       "564     1479.0          0.11100\n",
       "565     1261.0          0.09780\n",
       "566      858.1          0.08455\n",
       "567     1265.0          0.11780\n",
       "568      181.0          0.05263\n",
       "\n",
       "[569 rows x 2 columns]"
      ]
     },
     "execution_count": 144,
     "metadata": {},
     "output_type": "execute_result"
    }
   ],
   "source": [
    "data_breast_cancer = datasets.load_breast_cancer(as_frame=True)\n",
    "# print(data_breast_cancer[\"DESCR\"])\n",
    "# data_breast_cancer.target\n",
    "data_breast_cancer.data[[\"mean area\", \"mean smoothness\"]]\n",
    "# data_breast_cancer.frame"
   ]
  },
  {
   "cell_type": "code",
   "execution_count": 151,
   "id": "09a0c36d-d787-4a65-93d4-2a2595baff87",
   "metadata": {},
   "outputs": [
    {
     "data": {
      "text/html": [
       "<div>\n",
       "<style scoped>\n",
       "    .dataframe tbody tr th:only-of-type {\n",
       "        vertical-align: middle;\n",
       "    }\n",
       "\n",
       "    .dataframe tbody tr th {\n",
       "        vertical-align: top;\n",
       "    }\n",
       "\n",
       "    .dataframe thead th {\n",
       "        text-align: right;\n",
       "    }\n",
       "</style>\n",
       "<table border=\"1\" class=\"dataframe\">\n",
       "  <thead>\n",
       "    <tr style=\"text-align: right;\">\n",
       "      <th></th>\n",
       "      <th>petal length (cm)</th>\n",
       "      <th>petal width (cm)</th>\n",
       "    </tr>\n",
       "  </thead>\n",
       "  <tbody>\n",
       "    <tr>\n",
       "      <th>0</th>\n",
       "      <td>1.4</td>\n",
       "      <td>0.2</td>\n",
       "    </tr>\n",
       "    <tr>\n",
       "      <th>1</th>\n",
       "      <td>1.4</td>\n",
       "      <td>0.2</td>\n",
       "    </tr>\n",
       "    <tr>\n",
       "      <th>2</th>\n",
       "      <td>1.3</td>\n",
       "      <td>0.2</td>\n",
       "    </tr>\n",
       "    <tr>\n",
       "      <th>3</th>\n",
       "      <td>1.5</td>\n",
       "      <td>0.2</td>\n",
       "    </tr>\n",
       "    <tr>\n",
       "      <th>4</th>\n",
       "      <td>1.4</td>\n",
       "      <td>0.2</td>\n",
       "    </tr>\n",
       "    <tr>\n",
       "      <th>...</th>\n",
       "      <td>...</td>\n",
       "      <td>...</td>\n",
       "    </tr>\n",
       "    <tr>\n",
       "      <th>145</th>\n",
       "      <td>5.2</td>\n",
       "      <td>2.3</td>\n",
       "    </tr>\n",
       "    <tr>\n",
       "      <th>146</th>\n",
       "      <td>5.0</td>\n",
       "      <td>1.9</td>\n",
       "    </tr>\n",
       "    <tr>\n",
       "      <th>147</th>\n",
       "      <td>5.2</td>\n",
       "      <td>2.0</td>\n",
       "    </tr>\n",
       "    <tr>\n",
       "      <th>148</th>\n",
       "      <td>5.4</td>\n",
       "      <td>2.3</td>\n",
       "    </tr>\n",
       "    <tr>\n",
       "      <th>149</th>\n",
       "      <td>5.1</td>\n",
       "      <td>1.8</td>\n",
       "    </tr>\n",
       "  </tbody>\n",
       "</table>\n",
       "<p>150 rows × 2 columns</p>\n",
       "</div>"
      ],
      "text/plain": [
       "     petal length (cm)  petal width (cm)\n",
       "0                  1.4               0.2\n",
       "1                  1.4               0.2\n",
       "2                  1.3               0.2\n",
       "3                  1.5               0.2\n",
       "4                  1.4               0.2\n",
       "..                 ...               ...\n",
       "145                5.2               2.3\n",
       "146                5.0               1.9\n",
       "147                5.2               2.0\n",
       "148                5.4               2.3\n",
       "149                5.1               1.8\n",
       "\n",
       "[150 rows x 2 columns]"
      ]
     },
     "execution_count": 151,
     "metadata": {},
     "output_type": "execute_result"
    }
   ],
   "source": [
    "data_iris = datasets.load_iris(as_frame=True)\n",
    "# print(data_iris[\"DESCR\"])\n",
    "# data_iris.target\n",
    "data_iris.data[[\"petal length (cm)\", \"petal width (cm)\"]]\n",
    "# data_iris.frame"
   ]
  },
  {
   "cell_type": "markdown",
   "id": "77fc411a-4a0d-49a3-84a6-96494b68790f",
   "metadata": {
    "jp-MarkdownHeadingCollapsed": true,
    "tags": []
   },
   "source": [
    "## Breast Cancer"
   ]
  },
  {
   "cell_type": "markdown",
   "id": "2eca6ef0-443e-473e-a7fe-ad4a9422262c",
   "metadata": {
    "tags": []
   },
   "source": [
    "### Target features(X), Prediction target(y) "
   ]
  },
  {
   "cell_type": "code",
   "execution_count": 152,
   "id": "c8bb2981-d2d2-45c0-ac54-bacb3a54c15e",
   "metadata": {},
   "outputs": [],
   "source": [
    "X_b = data_breast_cancer.data[[\"mean area\", \"mean smoothness\"]]\n",
    "y_b = data_breast_cancer.target"
   ]
  },
  {
   "cell_type": "markdown",
   "id": "955948ac-2e14-4a61-a26a-9308534a5c26",
   "metadata": {},
   "source": [
    "### Splitting the data"
   ]
  },
  {
   "cell_type": "code",
   "execution_count": 147,
   "id": "f1a2345c-ad4a-4c5b-b98a-499e5532dd82",
   "metadata": {},
   "outputs": [],
   "source": [
    "X_b_train, X_b_test, y_b_train, y_b_test = train_test_split(X_b, y_b, test_size=.2)"
   ]
  },
  {
   "cell_type": "markdown",
   "id": "ec121a9e-8aee-4e9d-88f2-f8934a5b733f",
   "metadata": {},
   "source": [
    "### Creating the models"
   ]
  },
  {
   "cell_type": "code",
   "execution_count": 148,
   "id": "466b627d-2fff-4a4a-9969-0f2592b3ac6b",
   "metadata": {},
   "outputs": [],
   "source": [
    "svm_b_without_clf = LinearSVC(C=1, loss=\"hinge\", random_state=42, max_iter=1000)\n",
    "\n",
    "svm_b_with_clf = Pipeline([\n",
    "    (\"scaler\", StandardScaler()),\n",
    "    (\"linear_svc\", LinearSVC(C=1, loss=\"hinge\", random_state=42))\n",
    "])"
   ]
  },
  {
   "cell_type": "markdown",
   "id": "7d5983ce-60c7-40fb-a1b6-59c51b35d017",
   "metadata": {},
   "source": [
    "### Fitting the model"
   ]
  },
  {
   "cell_type": "code",
   "execution_count": 153,
   "id": "cf8d3396-b58e-4356-99f9-7df406b4ac1b",
   "metadata": {},
   "outputs": [
    {
     "name": "stderr",
     "output_type": "stream",
     "text": [
      "/usr/local/lib/python3.9/site-packages/sklearn/svm/_base.py:1206: ConvergenceWarning: Liblinear failed to converge, increase the number of iterations.\n",
      "  warnings.warn(\n"
     ]
    },
    {
     "data": {
      "text/plain": [
       "Pipeline(steps=[('scaler', StandardScaler()),\n",
       "                ('linear_svc', LinearSVC(C=1, loss='hinge', random_state=42))])"
      ]
     },
     "execution_count": 153,
     "metadata": {},
     "output_type": "execute_result"
    }
   ],
   "source": [
    "svm_b_without_clf.fit(X_b_train, y_b_train)\n",
    "svm_b_with_clf.fit(X_b_train, y_b_train)"
   ]
  },
  {
   "cell_type": "markdown",
   "id": "e3fb7481-ba3d-442c-afdc-27330c18c870",
   "metadata": {},
   "source": [
    "### Calculating accuracy"
   ]
  },
  {
   "cell_type": "code",
   "execution_count": 154,
   "id": "dfffe46e-a283-46dc-b8bd-d40cf8f5cab9",
   "metadata": {},
   "outputs": [],
   "source": [
    "from sklearn.metrics import accuracy_score"
   ]
  },
  {
   "cell_type": "code",
   "execution_count": 155,
   "id": "cff424f9-f226-4d98-bba5-009c94e88a77",
   "metadata": {},
   "outputs": [],
   "source": [
    "b_train_pred_without = svm_b_without_clf.predict(X_b_train)\n",
    "b_test_pred_without = svm_b_without_clf.predict(X_b_test)\n",
    "\n",
    "b_train_pred_with = svm_b_with_clf.predict(X_b_train)\n",
    "b_test_pred_with = svm_b_with_clf.predict(X_b_test)"
   ]
  },
  {
   "cell_type": "code",
   "execution_count": 156,
   "id": "f1a7b3dd-be5f-4a96-8b93-329cb25b34ef",
   "metadata": {},
   "outputs": [],
   "source": [
    "acc_train_with = accuracy_score(y_b_train, b_train_pred_with)\n",
    "acc_test_with = accuracy_score(y_b_test, b_test_pred_with)"
   ]
  },
  {
   "cell_type": "code",
   "execution_count": 157,
   "id": "6ea9e807-d66a-49e6-a7d2-6a7c9fd18b87",
   "metadata": {},
   "outputs": [],
   "source": [
    "acc_train_without = accuracy_score(y_b_train, b_train_pred_without)\n",
    "acc_test_without = accuracy_score(y_b_test, b_test_pred_without)"
   ]
  },
  {
   "cell_type": "code",
   "execution_count": 158,
   "id": "f39ad885-bcb7-46cc-8085-0d403f64edee",
   "metadata": {},
   "outputs": [
    {
     "data": {
      "text/plain": [
       "[0.6351648351648351,\n",
       " 0.5964912280701754,\n",
       " 0.9010989010989011,\n",
       " 0.8947368421052632]"
      ]
     },
     "execution_count": 158,
     "metadata": {},
     "output_type": "execute_result"
    }
   ],
   "source": [
    "bc_list = [acc_train_without, acc_test_without, acc_train_with, acc_test_with]\n",
    "bc_list"
   ]
  },
  {
   "cell_type": "markdown",
   "id": "f1f10981-a66f-406b-bf46-ac9a5c1a4f7c",
   "metadata": {
    "tags": []
   },
   "source": [
    "## Iris"
   ]
  },
  {
   "cell_type": "markdown",
   "id": "4ccbde55-ce04-4e24-933f-255ed386fc95",
   "metadata": {},
   "source": [
    "### Target features(X), Prediction target(y: Petal [Length | Width])"
   ]
  },
  {
   "cell_type": "code",
   "execution_count": 109,
   "id": "92da3899-2c1d-45b2-9ded-b9abde8b7be2",
   "metadata": {},
   "outputs": [],
   "source": [
    "X_i = data_iris.data[[\"petal length (cm)\", \"petal width (cm)\"]]\n",
    "y_i = (data_iris.target == 2).astype(int)"
   ]
  },
  {
   "cell_type": "markdown",
   "id": "600e17a0-179d-41c3-9fe1-71c4d70e6c6b",
   "metadata": {},
   "source": [
    "### Splitting the data: {train, test}"
   ]
  },
  {
   "cell_type": "code",
   "execution_count": 110,
   "id": "502b2ba2-47d3-425b-9b5d-366848c81d14",
   "metadata": {},
   "outputs": [],
   "source": [
    "X_i_train, X_i_test, y_i_train, y_i_test = train_test_split(X_i, y_i, test_size=.2)"
   ]
  },
  {
   "cell_type": "markdown",
   "id": "fb1143c4-d142-4381-a00e-1bf43addf407",
   "metadata": {},
   "source": [
    "### Creating the models"
   ]
  },
  {
   "cell_type": "code",
   "execution_count": 111,
   "id": "53d733ee-6a88-4535-97fc-748defa8c4ee",
   "metadata": {},
   "outputs": [],
   "source": [
    "svm_i_without_clf = LinearSVC(C=1, loss=\"hinge\", random_state=42, max_iter=10000)\n",
    "\n",
    "svm_i_with_clf = Pipeline([\n",
    "    (\"scaler\", StandardScaler()),\n",
    "    (\"linear_svc\", LinearSVC(C=1, loss=\"hinge\", random_state=42))\n",
    "])"
   ]
  },
  {
   "cell_type": "markdown",
   "id": "63f1c439-70c5-405b-ab8a-eb74e7b306b2",
   "metadata": {},
   "source": [
    "### Fitting the models"
   ]
  },
  {
   "cell_type": "code",
   "execution_count": 112,
   "id": "dfe2f61e-7ebd-4fd9-b6eb-e847d1ee6025",
   "metadata": {},
   "outputs": [
    {
     "data": {
      "text/plain": [
       "Pipeline(steps=[('scaler', StandardScaler()),\n",
       "                ('linear_svc', LinearSVC(C=1, loss='hinge', random_state=42))])"
      ]
     },
     "execution_count": 112,
     "metadata": {},
     "output_type": "execute_result"
    }
   ],
   "source": [
    "svm_i_without_clf.fit(X_i_train, y_i_train)\n",
    "svm_i_with_clf.fit(X_i_train, y_i_train)"
   ]
  },
  {
   "cell_type": "code",
   "execution_count": 113,
   "id": "68f79918-a629-4417-93e4-7d9c9918ceb6",
   "metadata": {},
   "outputs": [],
   "source": [
    "i_train_pred_without = svm_i_without_clf.predict(X_i_train)\n",
    "i_test_pred_without = svm_i_without_clf.predict(X_i_test)\n",
    "\n",
    "i_train_pred_with = svm_i_with_clf.predict(X_i_train)\n",
    "i_test_pred_with = svm_i_with_clf.predict(X_i_test)"
   ]
  },
  {
   "cell_type": "code",
   "execution_count": 114,
   "id": "8e806898-ad3b-46ce-8e98-de144257efa9",
   "metadata": {},
   "outputs": [],
   "source": [
    "acc_i_train_with = accuracy_score(y_i_train, i_train_pred_with)\n",
    "acc_i_test_with = accuracy_score(y_i_test, i_test_pred_with)\n",
    "\n",
    "acc_i_train_without = accuracy_score(y_i_train, i_train_pred_without)\n",
    "acc_i_test_without = accuracy_score(y_i_test, i_test_pred_without)"
   ]
  },
  {
   "cell_type": "code",
   "execution_count": 122,
   "id": "c4809736-485e-486c-afcc-1e42cb4c51cd",
   "metadata": {},
   "outputs": [
    {
     "data": {
      "text/plain": [
       "[0.9583333333333334, 0.9333333333333333, 0.9666666666666667, 0.9]"
      ]
     },
     "execution_count": 122,
     "metadata": {},
     "output_type": "execute_result"
    }
   ],
   "source": [
    "i_list = [acc_i_train_without, acc_i_test_without, acc_i_train_with, acc_i_test_with]\n",
    "i_list"
   ]
  },
  {
   "cell_type": "code",
   "execution_count": 129,
   "id": "f85337a2-bb78-426b-92df-f63ede31b017",
   "metadata": {},
   "outputs": [],
   "source": [
    "import pickle"
   ]
  },
  {
   "cell_type": "markdown",
   "id": "71c54113-8975-4fdf-be79-bdb3d0acf154",
   "metadata": {},
   "source": [
    "## Pickle the results"
   ]
  },
  {
   "cell_type": "code",
   "execution_count": 130,
   "id": "7ae983a3-8b72-404b-9f18-7520aa0dbc19",
   "metadata": {},
   "outputs": [],
   "source": [
    "with open(\"bc_acc.pkl\", \"wb\") as f:\n",
    "    pickle.dump(bc_list, f, pickle.HIGHEST_PROTOCOL)"
   ]
  },
  {
   "cell_type": "code",
   "execution_count": 131,
   "id": "a58fbd0e-7ee8-4fb0-aab9-429c11ea5ece",
   "metadata": {},
   "outputs": [],
   "source": [
    "with open(\"iris_acc.pkl\", \"wb\") as f:\n",
    "    pickle.dump(i_list, f, pickle.HIGHEST_PROTOCOL)"
   ]
  },
  {
   "cell_type": "code",
   "execution_count": null,
   "id": "83c76a82-25d0-4fac-aeaa-4ed2ca277e2e",
   "metadata": {},
   "outputs": [],
   "source": []
  }
 ],
 "metadata": {
  "kernelspec": {
   "display_name": "Python 3 (ipykernel)",
   "language": "python",
   "name": "python3"
  },
  "language_info": {
   "codemirror_mode": {
    "name": "ipython",
    "version": 3
   },
   "file_extension": ".py",
   "mimetype": "text/x-python",
   "name": "python",
   "nbconvert_exporter": "python",
   "pygments_lexer": "ipython3",
   "version": "3.9.10"
  }
 },
 "nbformat": 4,
 "nbformat_minor": 5
}

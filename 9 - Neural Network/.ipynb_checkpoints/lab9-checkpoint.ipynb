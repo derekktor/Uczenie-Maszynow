{
 "cells": [
  {
   "cell_type": "markdown",
   "id": "55a64380-fc7c-4e25-b698-87683abaf7e7",
   "metadata": {},
   "source": [
    "# imports"
   ]
  },
  {
   "cell_type": "code",
   "execution_count": 3,
   "id": "ad9f04cc-0f00-45bc-914d-7be7bec9ce9f",
   "metadata": {},
   "outputs": [],
   "source": [
    "import numpy as np\n",
    "import pandas as pd"
   ]
  },
  {
   "cell_type": "code",
   "execution_count": 4,
   "id": "26792d0a-72cb-4d49-ac4e-b46281aa3778",
   "metadata": {},
   "outputs": [],
   "source": [
    "from sklearn.datasets import load_iris"
   ]
  },
  {
   "cell_type": "code",
   "execution_count": 5,
   "id": "4d55c259-28d3-4cba-a801-487d452bbf76",
   "metadata": {},
   "outputs": [],
   "source": [
    "from sklearn.model_selection import train_test_split"
   ]
  },
  {
   "cell_type": "code",
   "execution_count": 6,
   "id": "ec0f3f24-7994-4347-bd45-1ed2f3ec9f25",
   "metadata": {},
   "outputs": [],
   "source": [
    "from sklearn.linear_model import Perceptron"
   ]
  },
  {
   "cell_type": "code",
   "execution_count": 7,
   "id": "e83fcf4c-33c8-4c0e-911a-6c2b38703bfc",
   "metadata": {},
   "outputs": [],
   "source": [
    "import seaborn as sns"
   ]
  },
  {
   "cell_type": "code",
   "execution_count": 1,
   "id": "89871397-518c-40e5-8caa-2388a4eeb9a7",
   "metadata": {},
   "outputs": [],
   "source": [
    "import pickle"
   ]
  },
  {
   "cell_type": "code",
   "execution_count": 2,
   "id": "7ac85f83-c42f-4b4c-b32a-dbb9388375b4",
   "metadata": {},
   "outputs": [],
   "source": [
    "import tensorflow as tf\n",
    "from tensorflow import keras"
   ]
  },
  {
   "cell_type": "markdown",
   "id": "9b271e45-92d3-4202-9a1d-e92ad747d727",
   "metadata": {},
   "source": [
    "# load data"
   ]
  },
  {
   "cell_type": "code",
   "execution_count": 8,
   "id": "a43672b5-4b6d-4bea-a94c-96ed52b61120",
   "metadata": {},
   "outputs": [],
   "source": [
    "iris = load_iris(as_frame=True)"
   ]
  },
  {
   "cell_type": "code",
   "execution_count": 43,
   "id": "23135747-878f-4a1a-bb1a-14951dd58895",
   "metadata": {},
   "outputs": [],
   "source": [
    "X_ir = iris.data[['petal length (cm)', 'petal width (cm)']]"
   ]
  },
  {
   "cell_type": "code",
   "execution_count": 44,
   "id": "5d3ec96c-82ea-4e9b-ab84-fab7ae3746e8",
   "metadata": {},
   "outputs": [],
   "source": [
    "y_ir = iris.target"
   ]
  },
  {
   "cell_type": "code",
   "execution_count": 45,
   "id": "0234db18-6a73-4544-8a2f-f92bf8e7acfa",
   "metadata": {},
   "outputs": [],
   "source": [
    "y0 = (y_ir == 0).astype(int)\n",
    "y1 = (y_ir == 1).astype(int)\n",
    "y2 = (y_ir == 2).astype(int)"
   ]
  },
  {
   "cell_type": "code",
   "execution_count": 46,
   "id": "52203de2-30b9-499b-a397-8f863b5c331c",
   "metadata": {},
   "outputs": [],
   "source": [
    "X0_train, X0_test, y0_train, y0_test = train_test_split(X_ir, y0, test_size=.2)\n",
    "X1_train, X1_test, y1_train, y1_test = train_test_split(X_ir, y1, test_size=.2)\n",
    "X2_train, X2_test, y2_train, y2_test = train_test_split(X_ir, y2, test_size=.2)"
   ]
  },
  {
   "cell_type": "markdown",
   "id": "29755b29-6810-46dd-90d8-39fa6239782d",
   "metadata": {},
   "source": [
    "# visualization"
   ]
  },
  {
   "cell_type": "code",
   "execution_count": 47,
   "id": "8b3b2702-b951-4ade-b43f-607ebeac0473",
   "metadata": {},
   "outputs": [
    {
     "data": {
      "image/png": "[encoded data removed]",
      "text/plain": [
       "<Figure size 432x288 with 2 Axes>"
      ]
     },
     "metadata": {
      "needs_background": "light"
     },
     "output_type": "display_data"
    }
   ],
   "source": [
    "def draw(X, y):\n",
    "    pd.concat([X, y], axis=1).plot.scatter(\n",
    "        x='petal length (cm)',\n",
    "        y='petal width (cm)',\n",
    "        c='target',\n",
    "        colormap='viridis'\n",
    "    )\n",
    "    \n",
    "draw(iris.data, iris.target)"
   ]
  },
  {
   "cell_type": "markdown",
   "id": "100b497e-c282-420c-b826-f36786946b7e",
   "metadata": {},
   "source": [
    "## Class 0"
   ]
  },
  {
   "cell_type": "code",
   "execution_count": 59,
   "id": "90f1a321-396c-45e7-8e4d-5078efa0e1d2",
   "metadata": {},
   "outputs": [
    {
     "data": {
      "text/html": [
       "<div>\n",
       "<style scoped>\n",
       "    .dataframe tbody tr th:only-of-type {\n",
       "        vertical-align: middle;\n",
       "    }\n",
       "\n",
       "    .dataframe tbody tr th {\n",
       "        vertical-align: top;\n",
       "    }\n",
       "\n",
       "    .dataframe thead th {\n",
       "        text-align: right;\n",
       "    }\n",
       "</style>\n",
       "<table border=\"1\" class=\"dataframe\">\n",
       "  <thead>\n",
       "    <tr style=\"text-align: right;\">\n",
       "      <th></th>\n",
       "      <th>petal length (cm)</th>\n",
       "      <th>petal width (cm)</th>\n",
       "      <th>target</th>\n",
       "    </tr>\n",
       "  </thead>\n",
       "  <tbody>\n",
       "    <tr>\n",
       "      <th>41</th>\n",
       "      <td>1.3</td>\n",
       "      <td>0.3</td>\n",
       "      <td>1</td>\n",
       "    </tr>\n",
       "    <tr>\n",
       "      <th>49</th>\n",
       "      <td>1.4</td>\n",
       "      <td>0.2</td>\n",
       "      <td>1</td>\n",
       "    </tr>\n",
       "    <tr>\n",
       "      <th>31</th>\n",
       "      <td>1.5</td>\n",
       "      <td>0.4</td>\n",
       "      <td>1</td>\n",
       "    </tr>\n",
       "    <tr>\n",
       "      <th>86</th>\n",
       "      <td>4.7</td>\n",
       "      <td>1.5</td>\n",
       "      <td>0</td>\n",
       "    </tr>\n",
       "    <tr>\n",
       "      <th>128</th>\n",
       "      <td>5.6</td>\n",
       "      <td>2.1</td>\n",
       "      <td>0</td>\n",
       "    </tr>\n",
       "  </tbody>\n",
       "</table>\n",
       "</div>"
      ],
      "text/plain": [
       "     petal length (cm)  petal width (cm)  target\n",
       "41                 1.3               0.3       1\n",
       "49                 1.4               0.2       1\n",
       "31                 1.5               0.4       1\n",
       "86                 4.7               1.5       0\n",
       "128                5.6               2.1       0"
      ]
     },
     "execution_count": 59,
     "metadata": {},
     "output_type": "execute_result"
    }
   ],
   "source": [
    "pd.concat([X_ir, y0], axis=1).sample(5)"
   ]
  },
  {
   "cell_type": "code",
   "execution_count": 53,
   "id": "f38942d5-dd42-476c-8b84-cc3bf1b24462",
   "metadata": {},
   "outputs": [
    {
     "data": {
      "text/plain": [
       "<AxesSubplot:xlabel='petal length (cm)', ylabel='petal width (cm)'>"
      ]
     },
     "execution_count": 53,
     "metadata": {},
     "output_type": "execute_result"
    },
    {
     "data": {
      "image/png": "[encoded data removed]",
      "text/plain": [
       "<Figure size 432x288 with 2 Axes>"
      ]
     },
     "metadata": {
      "needs_background": "light"
     },
     "output_type": "display_data"
    }
   ],
   "source": [
    "pd.concat([X_ir, y0], axis=1).plot.scatter(\n",
    "    x = 'petal length (cm)',\n",
    "    y = 'petal width (cm)',\n",
    "    c = 'target',\n",
    "    colormap = 'viridis'\n",
    ")"
   ]
  },
  {
   "cell_type": "markdown",
   "id": "b94137c3-134a-43f7-9e41-c17d0c5b05d4",
   "metadata": {},
   "source": [
    "## Class 1"
   ]
  },
  {
   "cell_type": "code",
   "execution_count": 57,
   "id": "0786ec66-47d0-4380-a6cd-6b34fa75a414",
   "metadata": {},
   "outputs": [
    {
     "data": {
      "text/html": [
       "<div>\n",
       "<style scoped>\n",
       "    .dataframe tbody tr th:only-of-type {\n",
       "        vertical-align: middle;\n",
       "    }\n",
       "\n",
       "    .dataframe tbody tr th {\n",
       "        vertical-align: top;\n",
       "    }\n",
       "\n",
       "    .dataframe thead th {\n",
       "        text-align: right;\n",
       "    }\n",
       "</style>\n",
       "<table border=\"1\" class=\"dataframe\">\n",
       "  <thead>\n",
       "    <tr style=\"text-align: right;\">\n",
       "      <th></th>\n",
       "      <th>petal length (cm)</th>\n",
       "      <th>petal width (cm)</th>\n",
       "      <th>target</th>\n",
       "    </tr>\n",
       "  </thead>\n",
       "  <tbody>\n",
       "    <tr>\n",
       "      <th>134</th>\n",
       "      <td>5.6</td>\n",
       "      <td>1.4</td>\n",
       "      <td>0</td>\n",
       "    </tr>\n",
       "    <tr>\n",
       "      <th>96</th>\n",
       "      <td>4.2</td>\n",
       "      <td>1.3</td>\n",
       "      <td>1</td>\n",
       "    </tr>\n",
       "    <tr>\n",
       "      <th>95</th>\n",
       "      <td>4.2</td>\n",
       "      <td>1.2</td>\n",
       "      <td>1</td>\n",
       "    </tr>\n",
       "    <tr>\n",
       "      <th>114</th>\n",
       "      <td>5.1</td>\n",
       "      <td>2.4</td>\n",
       "      <td>0</td>\n",
       "    </tr>\n",
       "    <tr>\n",
       "      <th>3</th>\n",
       "      <td>1.5</td>\n",
       "      <td>0.2</td>\n",
       "      <td>0</td>\n",
       "    </tr>\n",
       "  </tbody>\n",
       "</table>\n",
       "</div>"
      ],
      "text/plain": [
       "     petal length (cm)  petal width (cm)  target\n",
       "134                5.6               1.4       0\n",
       "96                 4.2               1.3       1\n",
       "95                 4.2               1.2       1\n",
       "114                5.1               2.4       0\n",
       "3                  1.5               0.2       0"
      ]
     },
     "execution_count": 57,
     "metadata": {},
     "output_type": "execute_result"
    }
   ],
   "source": [
    "pd.concat([X_ir, y1], axis=1).sample(5)"
   ]
  },
  {
   "cell_type": "code",
   "execution_count": 56,
   "id": "3f4ab2cb-3ab4-436b-981f-daa6678849e5",
   "metadata": {},
   "outputs": [
    {
     "data": {
      "text/plain": [
       "<AxesSubplot:xlabel='petal length (cm)', ylabel='petal width (cm)'>"
      ]
     },
     "execution_count": 56,
     "metadata": {},
     "output_type": "execute_result"
    },
    {
     "data": {
      "image/png": "[encoded data removed]",
      "text/plain": [
       "<Figure size 432x288 with 2 Axes>"
      ]
     },
     "metadata": {
      "needs_background": "light"
     },
     "output_type": "display_data"
    }
   ],
   "source": [
    "pd.concat([X_ir, y1], axis=1).plot.scatter(\n",
    "    x = 'petal length (cm)',\n",
    "    y = 'petal width (cm)',\n",
    "    c = 'target',\n",
    "    colormap = 'viridis'\n",
    ")"
   ]
  },
  {
   "cell_type": "markdown",
   "id": "4f09c628-b46d-4516-aea1-0bc429630e4d",
   "metadata": {},
   "source": [
    "## Class 2"
   ]
  },
  {
   "cell_type": "code",
   "execution_count": 60,
   "id": "0649e6bb-72a8-4cc5-ad69-a0bd0f00c698",
   "metadata": {},
   "outputs": [
    {
     "data": {
      "text/html": [
       "<div>\n",
       "<style scoped>\n",
       "    .dataframe tbody tr th:only-of-type {\n",
       "        vertical-align: middle;\n",
       "    }\n",
       "\n",
       "    .dataframe tbody tr th {\n",
       "        vertical-align: top;\n",
       "    }\n",
       "\n",
       "    .dataframe thead th {\n",
       "        text-align: right;\n",
       "    }\n",
       "</style>\n",
       "<table border=\"1\" class=\"dataframe\">\n",
       "  <thead>\n",
       "    <tr style=\"text-align: right;\">\n",
       "      <th></th>\n",
       "      <th>petal length (cm)</th>\n",
       "      <th>petal width (cm)</th>\n",
       "      <th>target</th>\n",
       "    </tr>\n",
       "  </thead>\n",
       "  <tbody>\n",
       "    <tr>\n",
       "      <th>114</th>\n",
       "      <td>5.1</td>\n",
       "      <td>2.4</td>\n",
       "      <td>1</td>\n",
       "    </tr>\n",
       "    <tr>\n",
       "      <th>0</th>\n",
       "      <td>1.4</td>\n",
       "      <td>0.2</td>\n",
       "      <td>0</td>\n",
       "    </tr>\n",
       "    <tr>\n",
       "      <th>99</th>\n",
       "      <td>4.1</td>\n",
       "      <td>1.3</td>\n",
       "      <td>0</td>\n",
       "    </tr>\n",
       "    <tr>\n",
       "      <th>29</th>\n",
       "      <td>1.6</td>\n",
       "      <td>0.2</td>\n",
       "      <td>0</td>\n",
       "    </tr>\n",
       "    <tr>\n",
       "      <th>41</th>\n",
       "      <td>1.3</td>\n",
       "      <td>0.3</td>\n",
       "      <td>0</td>\n",
       "    </tr>\n",
       "  </tbody>\n",
       "</table>\n",
       "</div>"
      ],
      "text/plain": [
       "     petal length (cm)  petal width (cm)  target\n",
       "114                5.1               2.4       1\n",
       "0                  1.4               0.2       0\n",
       "99                 4.1               1.3       0\n",
       "29                 1.6               0.2       0\n",
       "41                 1.3               0.3       0"
      ]
     },
     "execution_count": 60,
     "metadata": {},
     "output_type": "execute_result"
    }
   ],
   "source": [
    "pd.concat([X_ir, y2], axis=1).sample(5)"
   ]
  },
  {
   "cell_type": "code",
   "execution_count": 61,
   "id": "f917367d-d81f-45c2-b481-e466229be864",
   "metadata": {},
   "outputs": [
    {
     "data": {
      "text/plain": [
       "<AxesSubplot:xlabel='petal length (cm)', ylabel='petal width (cm)'>"
      ]
     },
     "execution_count": 61,
     "metadata": {},
     "output_type": "execute_result"
    },
    {
     "data": {
      "image/png": "[encoded data removed]",
      "text/plain": [
       "<Figure size 432x288 with 2 Axes>"
      ]
     },
     "metadata": {
      "needs_background": "light"
     },
     "output_type": "display_data"
    }
   ],
   "source": [
    "pd.concat([X_ir, y2], axis=1).plot.scatter(\n",
    "    x = 'petal length (cm)',\n",
    "    y = 'petal width (cm)',\n",
    "    c = 'target',\n",
    "    colormap = 'viridis'\n",
    ")"
   ]
  },
  {
   "cell_type": "markdown",
   "id": "21f41390-cb19-4160-8c02-73bf14c86748",
   "metadata": {},
   "source": [
    "# perceptrons"
   ]
  },
  {
   "cell_type": "code",
   "execution_count": 14,
   "id": "41e26729-6d76-4659-84aa-84242d80f7d9",
   "metadata": {},
   "outputs": [],
   "source": [
    "per0 = Perceptron()\n",
    "per1 = Perceptron()\n",
    "per2 = Perceptron()"
   ]
  },
  {
   "cell_type": "markdown",
   "id": "cb4465ef-162b-476d-8e78-c6ff8f8ea1f5",
   "metadata": {},
   "source": [
    "## fit perceptrons"
   ]
  },
  {
   "cell_type": "code",
   "execution_count": 15,
   "id": "a85c9423-fd19-4a6b-bd6e-5e5e40b1982e",
   "metadata": {},
   "outputs": [
    {
     "data": {
      "text/plain": [
       "Perceptron()"
      ]
     },
     "execution_count": 15,
     "metadata": {},
     "output_type": "execute_result"
    }
   ],
   "source": [
    "per1.fit(X1_train, y1_train)\n",
    "per0.fit(X0_train, y0_train)\n",
    "per2.fit(X2_train, y2_train)"
   ]
  },
  {
   "cell_type": "markdown",
   "id": "e497b9bf-0196-40d3-927d-c037fe83db49",
   "metadata": {},
   "source": [
    "## get predictions"
   ]
  },
  {
   "cell_type": "code",
   "execution_count": 16,
   "id": "07973fc8-ed25-4c0a-b441-8540804cda69",
   "metadata": {},
   "outputs": [],
   "source": [
    "# bit useless, when using score() method\n",
    "\n",
    "y0_pred = pd.Series(per0.predict(X0_test))\n",
    "y1_pred = pd.Series(per1.predict(X1_test))\n",
    "y2_pred = pd.Series(per2.predict(X2_test))"
   ]
  },
  {
   "cell_type": "markdown",
   "id": "cda4d8a3-b883-4b90-8500-f2b5946ef164",
   "metadata": {},
   "source": [
    "## get classes"
   ]
  },
  {
   "cell_type": "code",
   "execution_count": 33,
   "id": "76c74320-e08d-48cb-ba34-19bbd5037dc9",
   "metadata": {},
   "outputs": [
    {
     "name": "stdout",
     "output_type": "stream",
     "text": [
      "\n",
      "[0 1]\n",
      "[[-1.2 -2.1]]\n",
      "\n"
     ]
    }
   ],
   "source": [
    "print(f\"\"\"\n",
    "{per0.classes_}\n",
    "{per0.coef_}\n",
    "\"\"\")"
   ]
  },
  {
   "cell_type": "markdown",
   "id": "93c2ea91-2ccd-483d-8e6b-501ffc916551",
   "metadata": {},
   "source": [
    "## get accuracy scores from perceptrons"
   ]
  },
  {
   "cell_type": "code",
   "execution_count": 20,
   "id": "edd51ddd-8243-4844-a5c2-b660bb5c3243",
   "metadata": {},
   "outputs": [
    {
     "name": "stdout",
     "output_type": "stream",
     "text": [
      "\n",
      "tr\tte\n",
      "\n",
      "1.0\t0.9666666666666667\n",
      "0.675\t0.6\n",
      "0.95\t1.0\n",
      "\n"
     ]
    }
   ],
   "source": [
    "a0_tr = per0.score(X0_train, y0_train)\n",
    "a0_te = per0.score(X0_test, y0_test)\n",
    "\n",
    "a1_tr = per1.score(X1_train, y1_train)\n",
    "a1_te = per1.score(X1_test, y1_test)\n",
    "\n",
    "a2_tr = per2.score(X2_train, y2_train)\n",
    "a2_te = per2.score(X2_test, y2_test)\n",
    "\n",
    "print(f\"\"\"\n",
    "tr\\tte\n",
    "\n",
    "{a0_tr}\\t{a0_te}\n",
    "{a1_tr}\\t{a1_te}\n",
    "{a2_tr}\\t{a2_te}\n",
    "\"\"\")"
   ]
  },
  {
   "cell_type": "code",
   "execution_count": 21,
   "id": "f13c599e-bd7d-42ba-9341-d395c53776fb",
   "metadata": {},
   "outputs": [],
   "source": [
    "per_acc = []\n",
    "per_acc.append((a0_tr, a0_te))\n",
    "per_acc.append((a1_tr, a1_te))\n",
    "per_acc.append((a2_tr, a2_te))"
   ]
  },
  {
   "cell_type": "markdown",
   "id": "0d15a0df-e3f8-45ca-a5bf-fdf1cad80c73",
   "metadata": {},
   "source": [
    "### pickle accuracies"
   ]
  },
  {
   "cell_type": "code",
   "execution_count": 71,
   "id": "a6c557e0-a91a-40f4-b621-419d42da197a",
   "metadata": {},
   "outputs": [],
   "source": [
    "with open(\"per_acc.pkl\", \"wb\") as f:\n",
    "    pickle.dump(per_acc, f, pickle.HIGHEST_PROTOCOL)"
   ]
  },
  {
   "cell_type": "markdown",
   "id": "e0004a0a-ca30-4216-862b-a11b8993443e",
   "metadata": {},
   "source": [
    "## get weights"
   ]
  },
  {
   "cell_type": "code",
   "execution_count": 81,
   "id": "869c7423-93b6-4e6c-a273-0b7552b52180",
   "metadata": {},
   "outputs": [
    {
     "name": "stdout",
     "output_type": "stream",
     "text": [
      "\n",
      "[6.]\t-1.2000000000000002\t-2.099999999999999\n",
      "[-11.]\t6.200000000000002\t-15.899999999999983\n",
      "[-36.]\t-0.10000000000001297\t21.1\n",
      "\n"
     ]
    }
   ],
   "source": [
    "print(f\"\"\"\n",
    "{per0.intercept_}\\t{per0.coef_[0][0]}\\t{per0.coef_[0][1]}\n",
    "{per1.intercept_}\\t{per1.coef_[0][0]}\\t{per1.coef_[0][1]}\n",
    "{per2.intercept_}\\t{per2.coef_[0][0]}\\t{per2.coef_[0][1]}\n",
    "\"\"\")"
   ]
  },
  {
   "cell_type": "code",
   "execution_count": 88,
   "id": "e81fe20c-6855-476b-b918-6052aef9c044",
   "metadata": {},
   "outputs": [],
   "source": [
    "per_wgt = []\n",
    "per_wgt.append((per0.intercept_[0], per0.coef_[0][0], per0.coef_[0][1]))\n",
    "per_wgt.append((per1.intercept_[0], per1.coef_[0][0], per1.coef_[0][1]))\n",
    "per_wgt.append((per2.intercept_[0], per2.coef_[0][0], per2.coef_[0][1]))"
   ]
  },
  {
   "cell_type": "markdown",
   "id": "544f7d25-e07a-44b1-a478-dc6c967bf258",
   "metadata": {},
   "source": [
    "### pickle weights"
   ]
  },
  {
   "cell_type": "code",
   "execution_count": 87,
   "id": "425e8c5d-55b8-48ed-a2d5-2ba1591df40f",
   "metadata": {},
   "outputs": [],
   "source": [
    "with open(\"per_wgt.pkl\", \"wb\") as f:\n",
    "    pickle.dump(per_wgt, f, pickle.HIGHEST_PROTOCOL)"
   ]
  },
  {
   "cell_type": "markdown",
   "id": "601c28f4-b927-4a49-8ac2-86df6952570f",
   "metadata": {},
   "source": [
    "# Perceptron XOR"
   ]
  },
  {
   "cell_type": "code",
   "execution_count": 37,
   "id": "c130d596-e4d5-484d-bd5a-d5414fb77ecf",
   "metadata": {},
   "outputs": [],
   "source": [
    "X_xor = np.array([[0, 0], [0, 1], [1, 0], [1, 1]])\n",
    "y_xor= np.array([0, 1, 1, 0])"
   ]
  },
  {
   "cell_type": "code",
   "execution_count": 38,
   "id": "e50b1468-18d6-4840-bda7-286249723b7f",
   "metadata": {},
   "outputs": [],
   "source": [
    "per_xor = Perceptron()"
   ]
  },
  {
   "cell_type": "code",
   "execution_count": 39,
   "id": "33905448-587a-4344-ab8e-11a553c00dd3",
   "metadata": {},
   "outputs": [
    {
     "data": {
      "text/plain": [
       "Perceptron()"
      ]
     },
     "execution_count": 39,
     "metadata": {},
     "output_type": "execute_result"
    }
   ],
   "source": [
    "per_xor.fit(X, y)"
   ]
  },
  {
   "cell_type": "code",
   "execution_count": 40,
   "id": "faa62b46-135d-48dd-8d42-b78bf5e22fad",
   "metadata": {},
   "outputs": [
    {
     "data": {
      "text/plain": [
       "array([0, 0, 0, 0])"
      ]
     },
     "execution_count": 40,
     "metadata": {},
     "output_type": "execute_result"
    }
   ],
   "source": [
    "per_xor.predict(X)"
   ]
  },
  {
   "cell_type": "code",
   "execution_count": 41,
   "id": "3d93b79d-7783-4ae2-90ad-3b5475a9845a",
   "metadata": {},
   "outputs": [
    {
     "data": {
      "text/plain": [
       "0.5"
      ]
     },
     "execution_count": 41,
     "metadata": {},
     "output_type": "execute_result"
    }
   ],
   "source": [
    "per_xor.score(X, y)"
   ]
  },
  {
   "cell_type": "code",
   "execution_count": 42,
   "id": "b5b30399-c491-4928-8aaf-495aee056053",
   "metadata": {},
   "outputs": [
    {
     "data": {
      "text/plain": [
       "array([[0., 0.]])"
      ]
     },
     "execution_count": 42,
     "metadata": {},
     "output_type": "execute_result"
    }
   ],
   "source": [
    "per_xor.coef_"
   ]
  },
  {
   "cell_type": "markdown",
   "id": "625ee167-8bd1-48ae-8d54-183c6ff13271",
   "metadata": {},
   "source": [
    "# MLP XOR"
   ]
  },
  {
   "cell_type": "code",
   "execution_count": 244,
   "id": "408a880d-0b0b-4f81-b49f-9c5ae222f949",
   "metadata": {},
   "outputs": [],
   "source": [
    "opt = keras.optimizers.Adam(learning_rate=0.1)"
   ]
  },
  {
   "cell_type": "code",
   "execution_count": 255,
   "id": "b24eafae-8114-4a2a-a39f-1030ca07ab62",
   "metadata": {},
   "outputs": [
    {
     "name": "stdout",
     "output_type": "stream",
     "text": [
      "\n",
      "0.744979977607727\n",
      "0.0007334038382396102\n",
      "\n"
     ]
    }
   ],
   "source": [
    "mlp = keras.models.Sequential([\n",
    "    keras.layers.Dense(2, activation=\"tanh\"),\n",
    "    keras.layers.Dense(1, activation=\"sigmoid\")\n",
    "])\n",
    "\n",
    "mlp.compile(\n",
    "    loss = tf.keras.losses.BinaryCrossentropy(),\n",
    "    optimizer = opt,\n",
    "    metrics=[\"mae\"]\n",
    ")\n",
    "\n",
    "history = mlp.fit(X_xor, y_xor, epochs=100, verbose=False)\n",
    "\n",
    "print(f\"\"\"\n",
    "{history.history['loss'][0]}\n",
    "{history.history['loss'][-1]}\n",
    "\"\"\")"
   ]
  },
  {
   "cell_type": "code",
   "execution_count": 257,
   "id": "c912c00c-2abc-4c00-905b-ffabe4ef715b",
   "metadata": {},
   "outputs": [],
   "source": [
    "w = mlp.get_weights()"
   ]
  },
  {
   "cell_type": "code",
   "execution_count": 258,
   "id": "846c266d-f958-48a8-9fb0-3bfb4bb0f4c8",
   "metadata": {},
   "outputs": [],
   "source": [
    "with open(\"mlp_xor_weights.pkl\", \"wb\") as f:\n",
    "    pickle.dump(w, f, pickle.HIGHEST_PROTOCOL)"
   ]
  }
 ],
 "metadata": {
  "kernelspec": {
   "display_name": "Python 3 (ipykernel)",
   "language": "python",
   "name": "python3"
  },
  "language_info": {
   "codemirror_mode": {
    "name": "ipython",
    "version": 3
   },
   "file_extension": ".py",
   "mimetype": "text/x-python",
   "name": "python",
   "nbconvert_exporter": "python",
   "pygments_lexer": "ipython3",
   "version": "3.9.12"
  }
 },
 "nbformat": 4,
 "nbformat_minor": 5
}

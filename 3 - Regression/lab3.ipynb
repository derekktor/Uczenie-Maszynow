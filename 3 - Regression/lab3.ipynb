{
 "cells": [
  {
   "cell_type": "code",
   "execution_count": 1,
   "id": "0e619ffd",
   "metadata": {},
   "outputs": [],
   "source": [
    "import numpy as np\n",
    "import pandas as pd\n",
    "import matplotlib.pyplot as plt\n",
    "from sklearn.model_selection import train_test_split"
   ]
  },
  {
   "cell_type": "code",
   "execution_count": 2,
   "id": "f28f01f6",
   "metadata": {},
   "outputs": [],
   "source": [
    "import matplotlib.pyplot as plt"
   ]
  },
  {
   "cell_type": "code",
   "execution_count": 34,
   "id": "150dff2f-4a11-4eb3-adf6-3576445c0456",
   "metadata": {},
   "outputs": [],
   "source": [
    "from sklearn.metrics import mean_squared_error"
   ]
  },
  {
   "cell_type": "code",
   "execution_count": 3,
   "id": "0b8bd0d8",
   "metadata": {},
   "outputs": [],
   "source": [
    "size = 300"
   ]
  },
  {
   "cell_type": "markdown",
   "id": "4dfb9ded-5628-4568-a37c-01ea9550e74d",
   "metadata": {},
   "source": [
    "### Target features"
   ]
  },
  {
   "cell_type": "code",
   "execution_count": 4,
   "id": "1644b4b4",
   "metadata": {},
   "outputs": [],
   "source": [
    "X = np.random.rand(size) * 5 - 2.5"
   ]
  },
  {
   "cell_type": "markdown",
   "id": "7f1ef721-9ee9-4648-ab92-da0b50929637",
   "metadata": {},
   "source": [
    "### Prediction target"
   ]
  },
  {
   "cell_type": "markdown",
   "id": "b6ade523-1596-4b0a-862e-cc1f1e63e55e",
   "metadata": {},
   "source": [
    "$$\n",
    "y = 1 \\cdot x^{4} + 1 \\cdot x^{3} + 2 \\cdot x^{3} + 1 \\cdot x^{2} + -4 \\cdot x + 2\n",
    "$$"
   ]
  },
  {
   "cell_type": "code",
   "execution_count": 5,
   "id": "8d983b30",
   "metadata": {},
   "outputs": [],
   "source": [
    "coefs = [2, -4, 1, 2, 1]\n",
    "y = coefs[4]*(X**4) + coefs[3]*(X**3) + coefs[2]*(X**2) + coefs[1]*X + coefs[0] + np.random.rand(size)*8-4"
   ]
  },
  {
   "cell_type": "markdown",
   "id": "78ab4d9a-981e-4cb0-a29e-7a4786ee66ca",
   "metadata": {},
   "source": [
    "### Load data"
   ]
  },
  {
   "cell_type": "code",
   "execution_count": 6,
   "id": "eb1b2f01",
   "metadata": {
    "tags": []
   },
   "outputs": [],
   "source": [
    "df = pd.DataFrame({'X': X, 'y': y})"
   ]
  },
  {
   "cell_type": "markdown",
   "id": "23aaf863-bc2b-4074-b0b6-c97c09dcbf97",
   "metadata": {},
   "source": [
    "### Choose target features"
   ]
  },
  {
   "cell_type": "code",
   "execution_count": 16,
   "id": "e4d24b28-df55-4c9e-b3b5-a45c140205f4",
   "metadata": {},
   "outputs": [
    {
     "data": {
      "text/html": [
       "<div>\n",
       "<style scoped>\n",
       "    .dataframe tbody tr th:only-of-type {\n",
       "        vertical-align: middle;\n",
       "    }\n",
       "\n",
       "    .dataframe tbody tr th {\n",
       "        vertical-align: top;\n",
       "    }\n",
       "\n",
       "    .dataframe thead th {\n",
       "        text-align: right;\n",
       "    }\n",
       "</style>\n",
       "<table border=\"1\" class=\"dataframe\">\n",
       "  <thead>\n",
       "    <tr style=\"text-align: right;\">\n",
       "      <th></th>\n",
       "      <th>X</th>\n",
       "    </tr>\n",
       "  </thead>\n",
       "  <tbody>\n",
       "    <tr>\n",
       "      <th>0</th>\n",
       "      <td>-0.514948</td>\n",
       "    </tr>\n",
       "    <tr>\n",
       "      <th>1</th>\n",
       "      <td>0.339651</td>\n",
       "    </tr>\n",
       "    <tr>\n",
       "      <th>2</th>\n",
       "      <td>0.991530</td>\n",
       "    </tr>\n",
       "    <tr>\n",
       "      <th>3</th>\n",
       "      <td>1.812553</td>\n",
       "    </tr>\n",
       "    <tr>\n",
       "      <th>4</th>\n",
       "      <td>-1.712460</td>\n",
       "    </tr>\n",
       "  </tbody>\n",
       "</table>\n",
       "</div>"
      ],
      "text/plain": [
       "          X\n",
       "0 -0.514948\n",
       "1  0.339651\n",
       "2  0.991530\n",
       "3  1.812553\n",
       "4 -1.712460"
      ]
     },
     "execution_count": 16,
     "metadata": {},
     "output_type": "execute_result"
    }
   ],
   "source": [
    "X = df[['X']]\n",
    "X.head()"
   ]
  },
  {
   "cell_type": "markdown",
   "id": "5a0c1eb8-d9b6-425f-81e7-fe686386eb32",
   "metadata": {},
   "source": [
    "### Choose prediction target"
   ]
  },
  {
   "cell_type": "code",
   "execution_count": 17,
   "id": "e4387c51-79f8-4cf8-9894-4e3f0dff8a28",
   "metadata": {},
   "outputs": [
    {
     "data": {
      "text/html": [
       "<div>\n",
       "<style scoped>\n",
       "    .dataframe tbody tr th:only-of-type {\n",
       "        vertical-align: middle;\n",
       "    }\n",
       "\n",
       "    .dataframe tbody tr th {\n",
       "        vertical-align: top;\n",
       "    }\n",
       "\n",
       "    .dataframe thead th {\n",
       "        text-align: right;\n",
       "    }\n",
       "</style>\n",
       "<table border=\"1\" class=\"dataframe\">\n",
       "  <thead>\n",
       "    <tr style=\"text-align: right;\">\n",
       "      <th></th>\n",
       "      <th>y</th>\n",
       "    </tr>\n",
       "  </thead>\n",
       "  <tbody>\n",
       "    <tr>\n",
       "      <th>0</th>\n",
       "      <td>6.168488</td>\n",
       "    </tr>\n",
       "    <tr>\n",
       "      <th>1</th>\n",
       "      <td>0.112858</td>\n",
       "    </tr>\n",
       "    <tr>\n",
       "      <th>2</th>\n",
       "      <td>-1.585361</td>\n",
       "    </tr>\n",
       "    <tr>\n",
       "      <th>3</th>\n",
       "      <td>20.599224</td>\n",
       "    </tr>\n",
       "    <tr>\n",
       "      <th>4</th>\n",
       "      <td>10.133632</td>\n",
       "    </tr>\n",
       "  </tbody>\n",
       "</table>\n",
       "</div>"
      ],
      "text/plain": [
       "           y\n",
       "0   6.168488\n",
       "1   0.112858\n",
       "2  -1.585361\n",
       "3  20.599224\n",
       "4  10.133632"
      ]
     },
     "execution_count": 17,
     "metadata": {},
     "output_type": "execute_result"
    }
   ],
   "source": [
    "y = df[['y']]\n",
    "y.head()"
   ]
  },
  {
   "cell_type": "markdown",
   "id": "a1279181-766e-49a1-abe3-242f96a5562c",
   "metadata": {},
   "source": [
    "### Split the data"
   ]
  },
  {
   "cell_type": "code",
   "execution_count": 18,
   "id": "020504ca",
   "metadata": {},
   "outputs": [],
   "source": [
    "X_train, X_test, y_train, y_test = train_test_split(X, y, test_size=.2, random_state=42)"
   ]
  },
  {
   "cell_type": "code",
   "execution_count": 19,
   "id": "33a5bf2b",
   "metadata": {},
   "outputs": [],
   "source": [
    "df.to_csv(\"dane.csv\", index=None)"
   ]
  },
  {
   "cell_type": "code",
   "execution_count": 20,
   "id": "601423be",
   "metadata": {},
   "outputs": [
    {
     "data": {
      "text/plain": [
       "<AxesSubplot:xlabel='X', ylabel='y'>"
      ]
     },
     "execution_count": 20,
     "metadata": {},
     "output_type": "execute_result"
    },
    {
     "data": {
      "image/png": "[encoded data removed]",
      "text/plain": [
       "<Figure size 432x288 with 1 Axes>"
      ]
     },
     "metadata": {
      "needs_background": "light"
     },
     "output_type": "display_data"
    }
   ],
   "source": [
    "df.plot.scatter(x='X', y='y')"
   ]
  },
  {
   "cell_type": "markdown",
   "id": "8527626e",
   "metadata": {},
   "source": [
    "## Linear regressor"
   ]
  },
  {
   "cell_type": "code",
   "execution_count": 21,
   "id": "296c4789",
   "metadata": {},
   "outputs": [],
   "source": [
    "from sklearn.linear_model import LinearRegression"
   ]
  },
  {
   "cell_type": "code",
   "execution_count": 24,
   "id": "c8c1ec84",
   "metadata": {},
   "outputs": [
    {
     "data": {
      "text/plain": [
       "LinearRegression()"
      ]
     },
     "execution_count": 24,
     "metadata": {},
     "output_type": "execute_result"
    }
   ],
   "source": [
    "lin_reg = LinearRegression()\n",
    "lin_reg.fit(X_train, y_train)"
   ]
  },
  {
   "cell_type": "code",
   "execution_count": 25,
   "id": "9b42bafd",
   "metadata": {},
   "outputs": [],
   "source": [
    "sep = \"\\t\\t:\\t\""
   ]
  },
  {
   "cell_type": "code",
   "execution_count": 120,
   "id": "cc11a2a9",
   "metadata": {},
   "outputs": [
    {
     "name": "stdout",
     "output_type": "stream",
     "text": [
      "\n",
      "intercept\t\t:\t[12.94053555]\n",
      "coef\t\t:\t[[3.74796985]]\n",
      "f(x=2)\t\t:\t[[20.43647524]]\n",
      "MSE\t\t:\t212.02463582277954\n",
      "\n"
     ]
    },
    {
     "name": "stderr",
     "output_type": "stream",
     "text": [
      "/usr/local/lib/python3.9/site-packages/sklearn/base.py:450: UserWarning: X does not have valid feature names, but LinearRegression was fitted with feature names\n",
      "  warnings.warn(\n"
     ]
    }
   ],
   "source": [
    "print(f\"\"\"\n",
    "intercept{sep}{lin_reg.intercept_}\n",
    "coef{sep}{lin_reg.coef_}\n",
    "f(x=2){sep}{lin_reg.predict([[2]])}\n",
    "MSE{sep}{mean_squared_error(y_test, lin_reg.predict(X_test))}\n",
    "\"\"\")"
   ]
  },
  {
   "cell_type": "code",
   "execution_count": 125,
   "id": "debb12b3-6478-44f2-995f-bad2a278140f",
   "metadata": {},
   "outputs": [
    {
     "name": "stdout",
     "output_type": "stream",
     "text": [
      "212.02463582277954 185.06372147892307\n"
     ]
    }
   ],
   "source": [
    "lin_reg_mse_test = mean_squared_error(y_test, lin_reg.predict(X_test))\n",
    "lin_reg_mse_train = mean_squared_error(y_train, lin_reg.predict(X_train))\n",
    "# print(lin_reg_mse_test, lin_reg_mse_train)"
   ]
  },
  {
   "cell_type": "markdown",
   "id": "b4bce721",
   "metadata": {},
   "source": [
    "## K-Nearest Neighbors"
   ]
  },
  {
   "cell_type": "code",
   "execution_count": 37,
   "id": "24bf6608",
   "metadata": {},
   "outputs": [],
   "source": [
    "from sklearn.neighbors import KNeighborsRegressor"
   ]
  },
  {
   "cell_type": "markdown",
   "id": "c85cd707",
   "metadata": {},
   "source": [
    "#### k = 3"
   ]
  },
  {
   "cell_type": "code",
   "execution_count": 38,
   "id": "dd465906",
   "metadata": {},
   "outputs": [],
   "source": [
    "knn_3_reg = KNeighborsRegressor(n_neighbors=3)"
   ]
  },
  {
   "cell_type": "code",
   "execution_count": 39,
   "id": "181c4114",
   "metadata": {},
   "outputs": [
    {
     "data": {
      "text/plain": [
       "KNeighborsRegressor(n_neighbors=3)"
      ]
     },
     "execution_count": 39,
     "metadata": {},
     "output_type": "execute_result"
    }
   ],
   "source": [
    "knn_3_reg.fit(X_train, y_train)"
   ]
  },
  {
   "cell_type": "code",
   "execution_count": 40,
   "id": "621b9a78",
   "metadata": {},
   "outputs": [
    {
     "name": "stdout",
     "output_type": "stream",
     "text": [
      "\n",
      "f(x=2)\t\t:\t[[29.78559001]]\n",
      "MSE\t\t:\t5.842559174843406\n",
      "\n"
     ]
    },
    {
     "name": "stderr",
     "output_type": "stream",
     "text": [
      "/usr/local/lib/python3.9/site-packages/sklearn/base.py:450: UserWarning: X does not have valid feature names, but KNeighborsRegressor was fitted with feature names\n",
      "  warnings.warn(\n"
     ]
    }
   ],
   "source": [
    "print(f\"\"\"\n",
    "f(x=2){sep}{knn_3_reg.predict([[2]])}\n",
    "MSE{sep}{mean_squared_error(y_test, knn_3_reg.predict(X_test))}\n",
    "\"\"\")"
   ]
  },
  {
   "cell_type": "code",
   "execution_count": 126,
   "id": "8754a495-0aad-4927-b12a-143af4e39b92",
   "metadata": {},
   "outputs": [
    {
     "name": "stdout",
     "output_type": "stream",
     "text": [
      "5.842559174843406 3.9532030100595295\n"
     ]
    }
   ],
   "source": [
    "knn_3_reg_mse_test = mean_squared_error(y_test, knn_3_reg.predict(X_test))\n",
    "knn_3_reg_mse_train = mean_squared_error(y_train, knn_3_reg.predict(X_train))\n",
    "print(knn_3_reg_mse_test, knn_3_reg_mse_train)"
   ]
  },
  {
   "cell_type": "markdown",
   "id": "2e53bf32",
   "metadata": {},
   "source": [
    "#### k = 5"
   ]
  },
  {
   "cell_type": "code",
   "execution_count": 41,
   "id": "274d7426",
   "metadata": {},
   "outputs": [],
   "source": [
    "knn_5_reg = KNeighborsRegressor(n_neighbors=5)"
   ]
  },
  {
   "cell_type": "code",
   "execution_count": 98,
   "id": "94a3ac54",
   "metadata": {},
   "outputs": [
    {
     "data": {
      "text/plain": [
       "KNeighborsRegressor()"
      ]
     },
     "execution_count": 98,
     "metadata": {},
     "output_type": "execute_result"
    }
   ],
   "source": [
    "knn_5_reg.fit(X_train, y_train)"
   ]
  },
  {
   "cell_type": "code",
   "execution_count": 99,
   "id": "cf1028a5",
   "metadata": {},
   "outputs": [
    {
     "name": "stdout",
     "output_type": "stream",
     "text": [
      "\n",
      "f(x=2)\t\t:\t[[29.78151721]]\n",
      "MSE\t\t:\t5.1084019257790825\n",
      "\n"
     ]
    },
    {
     "name": "stderr",
     "output_type": "stream",
     "text": [
      "/usr/local/lib/python3.9/site-packages/sklearn/base.py:450: UserWarning: X does not have valid feature names, but KNeighborsRegressor was fitted with feature names\n",
      "  warnings.warn(\n"
     ]
    }
   ],
   "source": [
    "print(f\"\"\"\n",
    "f(x=2){sep}{knn_5_reg.predict([[2]])}\n",
    "MSE{sep}{mean_squared_error(y_test, knn_5_reg.predict(X_test))}\n",
    "\"\"\")"
   ]
  },
  {
   "cell_type": "code",
   "execution_count": 127,
   "id": "ab53b002-f883-48c0-8f2a-8a3f5923f00f",
   "metadata": {},
   "outputs": [
    {
     "name": "stdout",
     "output_type": "stream",
     "text": [
      "5.1084019257790825 4.847593492660225\n"
     ]
    }
   ],
   "source": [
    "knn_5_reg_mse_test = mean_squared_error(y_test, knn_5_reg.predict(X_test))\n",
    "knn_5_reg_mse_train = mean_squared_error(y_train, knn_5_reg.predict(X_train))\n",
    "print(knn_5_reg_mse_test, knn_5_reg_mse_train)"
   ]
  },
  {
   "cell_type": "markdown",
   "id": "ac89fc80",
   "metadata": {},
   "source": [
    "## Polynomial Regressor"
   ]
  },
  {
   "cell_type": "code",
   "execution_count": 44,
   "id": "107a1e44",
   "metadata": {},
   "outputs": [],
   "source": [
    "from sklearn.preprocessing import PolynomialFeatures"
   ]
  },
  {
   "cell_type": "markdown",
   "id": "6aa944ed-9b4b-4952-8e49-45317eeb399e",
   "metadata": {},
   "source": [
    "##### Polynomial Features"
   ]
  },
  {
   "cell_type": "code",
   "execution_count": 115,
   "id": "fedcaba9",
   "metadata": {},
   "outputs": [],
   "source": [
    "poly_2 = PolynomialFeatures(degree=2, include_bias=False)\n",
    "poly_3 = PolynomialFeatures(degree=3, include_bias=False)\n",
    "poly_4 = PolynomialFeatures(degree=4, include_bias=False)\n",
    "poly_5 = PolynomialFeatures(degree=5, include_bias=False)"
   ]
  },
  {
   "cell_type": "markdown",
   "id": "579d7798-8cb7-43b2-bc0a-8e046e136b26",
   "metadata": {},
   "source": [
    "##### Transform X"
   ]
  },
  {
   "cell_type": "code",
   "execution_count": 116,
   "id": "ebd64a56-ac44-4ccb-96ad-c10ac0700fd6",
   "metadata": {},
   "outputs": [],
   "source": [
    "X_train_2 = poly_2.fit_transform(X_train)\n",
    "X_test_2 = poly_2.fit_transform(X_test)\n",
    "\n",
    "X_train_3 = poly_3.fit_transform(X_train)\n",
    "X_test_3 = poly_3.fit_transform(X_test)\n",
    "\n",
    "X_train_4 = poly_4.fit_transform(X_train)\n",
    "X_test_4 = poly_4.fit_transform(X_test)\n",
    "\n",
    "X_train_5 = poly_5.fit_transform(X_train)\n",
    "X_test_5 = poly_5.fit_transform(X_test)"
   ]
  },
  {
   "cell_type": "code",
   "execution_count": 117,
   "id": "852ca344-b379-4d4f-8e23-a8f5cc857264",
   "metadata": {},
   "outputs": [
    {
     "data": {
      "text/plain": [
       "LinearRegression()"
      ]
     },
     "execution_count": 117,
     "metadata": {},
     "output_type": "execute_result"
    }
   ],
   "source": [
    "lin_2_reg = LinearRegression()\n",
    "lin_2_reg.fit(X_train_2, y_train)\n",
    "\n",
    "lin_3_reg = LinearRegression()\n",
    "lin_3_reg.fit(X_train_3, y_train)\n",
    "\n",
    "lin_4_reg = LinearRegression()\n",
    "lin_4_reg.fit(X_train_4, y_train)\n",
    "\n",
    "lin_5_reg = LinearRegression()\n",
    "lin_5_reg.fit(X_train_5, y_train)"
   ]
  },
  {
   "cell_type": "code",
   "execution_count": 118,
   "id": "649e8d3e-2135-4dc8-806a-21ef296ba233",
   "metadata": {},
   "outputs": [],
   "source": [
    "# print(f\"y-intercept: {lin_2_reg.intercept_[0]}\")\n",
    "# ind = 0\n",
    "# for c in lin_2_reg.coef_[0]:\n",
    "#     print(f\"coef{ind}: {c}\")\n",
    "#     ind += 1"
   ]
  },
  {
   "cell_type": "markdown",
   "id": "25af640b-dacd-449b-9605-d4030ce2cbb7",
   "metadata": {},
   "source": [
    "$$\n",
    "    y = 6.5 \\cdot x^{2} + 3.5 \\cdot x -1.3\n",
    "$$"
   ]
  },
  {
   "cell_type": "code",
   "execution_count": 119,
   "id": "310b818b-c17e-4c1c-9bb8-f186f14f9e59",
   "metadata": {},
   "outputs": [],
   "source": [
    "# print(lin_2_reg.coef_[0][1] * 2**2 + lin_2_reg.coef_[0][0] * 2 + lin_reg.intercept_[0])"
   ]
  },
  {
   "cell_type": "code",
   "execution_count": 114,
   "id": "2b7d3120-01ec-40ea-9374-eb8107c5656b",
   "metadata": {},
   "outputs": [
    {
     "name": "stdout",
     "output_type": "stream",
     "text": [
      "MSE: 40.16612817192206\n"
     ]
    }
   ],
   "source": [
    "pred_2 = lin_2_reg.predict(X_test_2)\n",
    "print(f\"MSE: {mean_squared_error(y_test, pred_2)}\")"
   ]
  },
  {
   "cell_type": "code",
   "execution_count": 128,
   "id": "7552870f-b8c6-442b-ae33-a4f12d7b9c6d",
   "metadata": {},
   "outputs": [
    {
     "name": "stdout",
     "output_type": "stream",
     "text": [
      "40.16612817192206 38.497938002858504\n"
     ]
    }
   ],
   "source": [
    "poly_2_reg_mse_test = mean_squared_error(y_test, lin_2_reg.predict(X_test_2))\n",
    "poly_2_reg_mse_train = mean_squared_error(y_train, lin_2_reg.predict(X_train_2))\n",
    "print(poly_2_reg_mse_test, poly_2_reg_mse_train)"
   ]
  },
  {
   "cell_type": "code",
   "execution_count": 129,
   "id": "ff71bf8b-50cc-4b97-b341-cadaf09bedbe",
   "metadata": {},
   "outputs": [
    {
     "name": "stdout",
     "output_type": "stream",
     "text": [
      "17.57411051404602 14.239734175914892\n"
     ]
    }
   ],
   "source": [
    "poly_3_reg_mse_test = mean_squared_error(y_test, lin_3_reg.predict(X_test_3))\n",
    "poly_3_reg_mse_train = mean_squared_error(y_train, lin_3_reg.predict(X_train_3))\n",
    "print(poly_3_reg_mse_test, poly_3_reg_mse_train)"
   ]
  },
  {
   "cell_type": "code",
   "execution_count": 130,
   "id": "80b8102a-579f-49d4-ae80-c96fbbe30837",
   "metadata": {},
   "outputs": [
    {
     "name": "stdout",
     "output_type": "stream",
     "text": [
      "4.688543744107737 4.867469025475779\n"
     ]
    }
   ],
   "source": [
    "poly_4_reg_mse_test = mean_squared_error(y_test, lin_4_reg.predict(X_test_4))\n",
    "poly_4_reg_mse_train = mean_squared_error(y_train, lin_4_reg.predict(X_train_4))\n",
    "print(poly_4_reg_mse_test, poly_4_reg_mse_train)"
   ]
  },
  {
   "cell_type": "code",
   "execution_count": 131,
   "id": "e60753a8-4217-4ee9-a2db-43a514d915fd",
   "metadata": {},
   "outputs": [
    {
     "name": "stdout",
     "output_type": "stream",
     "text": [
      "4.708257785505959 4.865697958890069\n"
     ]
    }
   ],
   "source": [
    "poly_5_reg_mse_test = mean_squared_error(y_test, lin_5_reg.predict(X_test_5))\n",
    "poly_5_reg_mse_train = mean_squared_error(y_train, lin_5_reg.predict(X_train_5))\n",
    "print(poly_5_reg_mse_test, poly_5_reg_mse_train)"
   ]
  },
  {
   "cell_type": "markdown",
   "id": "80889188-96b4-4e5f-b8e6-5e95acba8494",
   "metadata": {},
   "source": [
    "#### DataFrame containing MSE values"
   ]
  },
  {
   "cell_type": "code",
   "execution_count": 135,
   "id": "97346b9a-a575-44a8-9ea1-9e1a336ebe61",
   "metadata": {},
   "outputs": [],
   "source": [
    "train_mse = [lin_reg_mse_train, knn_3_reg_mse_train, knn_5_reg_mse_train, poly_2_reg_mse_train, poly_3_reg_mse_train, poly_4_reg_mse_train, poly_5_reg_mse_train]\n",
    "test_mse = [lin_reg_mse_test, knn_3_reg_mse_test, knn_5_reg_mse_test, poly_2_reg_mse_test, poly_3_reg_mse_test, poly_4_reg_mse_test, poly_5_reg_mse_test]\n",
    "\n",
    "index_mse = [\"lin_reg\", \"knn_3_reg\", \"knn_5_reg\", \"poly_2_reg\", \"poly_3_reg\", \"poly_4_reg\", \"poly_5_reg\"]"
   ]
  },
  {
   "cell_type": "code",
   "execution_count": 136,
   "id": "732f3a6d-32cf-4816-8dfe-a4df69109b61",
   "metadata": {},
   "outputs": [
    {
     "data": {
      "text/html": [
       "<div>\n",
       "<style scoped>\n",
       "    .dataframe tbody tr th:only-of-type {\n",
       "        vertical-align: middle;\n",
       "    }\n",
       "\n",
       "    .dataframe tbody tr th {\n",
       "        vertical-align: top;\n",
       "    }\n",
       "\n",
       "    .dataframe thead th {\n",
       "        text-align: right;\n",
       "    }\n",
       "</style>\n",
       "<table border=\"1\" class=\"dataframe\">\n",
       "  <thead>\n",
       "    <tr style=\"text-align: right;\">\n",
       "      <th></th>\n",
       "      <th>train_mse</th>\n",
       "      <th>test_mse</th>\n",
       "    </tr>\n",
       "  </thead>\n",
       "  <tbody>\n",
       "    <tr>\n",
       "      <th>lin_reg</th>\n",
       "      <td>185.063721</td>\n",
       "      <td>212.024636</td>\n",
       "    </tr>\n",
       "    <tr>\n",
       "      <th>knn_3_reg</th>\n",
       "      <td>3.953203</td>\n",
       "      <td>5.842559</td>\n",
       "    </tr>\n",
       "    <tr>\n",
       "      <th>knn_5_reg</th>\n",
       "      <td>4.847593</td>\n",
       "      <td>5.108402</td>\n",
       "    </tr>\n",
       "    <tr>\n",
       "      <th>poly_2_reg</th>\n",
       "      <td>38.497938</td>\n",
       "      <td>40.166128</td>\n",
       "    </tr>\n",
       "    <tr>\n",
       "      <th>poly_3_reg</th>\n",
       "      <td>14.239734</td>\n",
       "      <td>17.574111</td>\n",
       "    </tr>\n",
       "    <tr>\n",
       "      <th>poly_4_reg</th>\n",
       "      <td>4.867469</td>\n",
       "      <td>4.688544</td>\n",
       "    </tr>\n",
       "    <tr>\n",
       "      <th>poly_5_reg</th>\n",
       "      <td>4.865698</td>\n",
       "      <td>4.708258</td>\n",
       "    </tr>\n",
       "  </tbody>\n",
       "</table>\n",
       "</div>"
      ],
      "text/plain": [
       "             train_mse    test_mse\n",
       "lin_reg     185.063721  212.024636\n",
       "knn_3_reg     3.953203    5.842559\n",
       "knn_5_reg     4.847593    5.108402\n",
       "poly_2_reg   38.497938   40.166128\n",
       "poly_3_reg   14.239734   17.574111\n",
       "poly_4_reg    4.867469    4.688544\n",
       "poly_5_reg    4.865698    4.708258"
      ]
     },
     "execution_count": 136,
     "metadata": {},
     "output_type": "execute_result"
    }
   ],
   "source": [
    "df_mse = pd.DataFrame({\"train_mse\": train_mse, \"test_mse\": test_mse}, index=index_mse)\n",
    "df_mse"
   ]
  },
  {
   "cell_type": "code",
   "execution_count": 137,
   "id": "25cb1f47-9055-484f-ac24-7500effda269",
   "metadata": {},
   "outputs": [],
   "source": [
    "import pickle"
   ]
  },
  {
   "cell_type": "code",
   "execution_count": 138,
   "id": "be6c82b6-ba2e-4139-bafc-b333cb7b0037",
   "metadata": {},
   "outputs": [],
   "source": [
    "with open('mse.pkl', 'wb') as f:\n",
    "    pickle.dump(df_mse, f, pickle.HIGHEST_PROTOCOL)"
   ]
  },
  {
   "cell_type": "code",
   "execution_count": 141,
   "id": "3e0cd551-d6a5-4dde-a66d-071b97f5293f",
   "metadata": {},
   "outputs": [],
   "source": [
    "list_reg = [(lin_reg, None), (knn_3_reg, None), (knn_5_reg, None), (lin_2_reg, poly_2), (lin_3_reg, poly_3), (lin_4_reg, poly_4), (lin_5_reg, poly_5)]\n",
    "with open('reg.pkl', 'wb') as f:\n",
    "    pickle.dump(list_reg, f, pickle.HIGHEST_PROTOCOL)"
   ]
  },
  {
   "cell_type": "code",
   "execution_count": 142,
   "id": "e7a09f6c-1187-4500-a071-4af6bcb98af4",
   "metadata": {},
   "outputs": [
    {
     "name": "stdout",
     "output_type": "stream",
     "text": [
      "             train_mse    test_mse\n",
      "lin_reg     185.063721  212.024636\n",
      "knn_3_reg     3.953203    5.842559\n",
      "knn_5_reg     4.847593    5.108402\n",
      "poly_2_reg   38.497938   40.166128\n",
      "poly_3_reg   14.239734   17.574111\n",
      "poly_4_reg    4.867469    4.688544\n",
      "poly_5_reg    4.865698    4.708258\n",
      "[(LinearRegression(), None), (KNeighborsRegressor(n_neighbors=3), None), (KNeighborsRegressor(), None), (LinearRegression(), PolynomialFeatures(include_bias=False)), (LinearRegression(), PolynomialFeatures(degree=3, include_bias=False)), (LinearRegression(), PolynomialFeatures(degree=4, include_bias=False)), (LinearRegression(), PolynomialFeatures(degree=5, include_bias=False))]\n"
     ]
    }
   ],
   "source": [
    "with open('mse.pkl', 'rb') as f:\n",
    "    print(pickle.load(f))\n",
    "    \n",
    "with open('reg.pkl', 'rb') as f:\n",
    "    print(pickle.load(f))"
   ]
  },
  {
   "cell_type": "code",
   "execution_count": null,
   "id": "bbf9c921-47a0-42c2-972f-a7dd11f19cec",
   "metadata": {},
   "outputs": [],
   "source": []
  }
 ],
 "metadata": {
  "kernelspec": {
   "display_name": "Python 3 (ipykernel)",
   "language": "python",
   "name": "python3"
  },
  "language_info": {
   "codemirror_mode": {
    "name": "ipython",
    "version": 3
   },
   "file_extension": ".py",
   "mimetype": "text/x-python",
   "name": "python",
   "nbconvert_exporter": "python",
   "pygments_lexer": "ipython3",
   "version": "3.9.12"
  },
  "toc-autonumbering": false,
  "toc-showcode": false,
  "toc-showmarkdowntxt": false
 },
 "nbformat": 4,
 "nbformat_minor": 5
}

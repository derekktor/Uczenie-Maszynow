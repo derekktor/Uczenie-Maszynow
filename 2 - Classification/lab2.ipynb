{
 "cells": [
  {
   "cell_type": "code",
   "execution_count": 1,
   "id": "6ce3fa68",
   "metadata": {},
   "outputs": [],
   "source": [
    "from sklearn.datasets import fetch_openml\n",
    "mnist = fetch_openml('mnist_784', version=1)"
   ]
  },
  {
   "cell_type": "code",
   "execution_count": 2,
   "id": "bfccf303",
   "metadata": {},
   "outputs": [],
   "source": [
    "import numpy as np\n",
    "import pandas as pd\n",
    "from sklearn.model_selection import train_test_split\n",
    "import time\n",
    "from sklearn.model_selection import cross_val_score\n",
    "from sklearn.model_selection import cross_val_predict\n",
    "from sklearn.metrics import confusion_matrix"
   ]
  },
  {
   "cell_type": "code",
   "execution_count": 3,
   "id": "2207ae0a",
   "metadata": {},
   "outputs": [
    {
     "name": "stdout",
     "output_type": "stream",
     "text": [
      "(70000, 784) (70000,)\n"
     ]
    }
   ],
   "source": [
    "X = mnist.data\n",
    "y = mnist.target.astype(np.uint8)\n",
    "print(X.shape, y.shape)"
   ]
  },
  {
   "cell_type": "code",
   "execution_count": 4,
   "id": "630d094a",
   "metadata": {},
   "outputs": [],
   "source": [
    "# # try sorting\n",
    "# y = y.sort_values(ascending=True)\n",
    "# X = X.reindex()"
   ]
  },
  {
   "cell_type": "code",
   "execution_count": 5,
   "id": "a9850dec",
   "metadata": {},
   "outputs": [
    {
     "name": "stdout",
     "output_type": "stream",
     "text": [
      "(56000, 784) (14000, 784)\n",
      "(56000,) (14000,)\n"
     ]
    }
   ],
   "source": [
    "# splitting data\n",
    "X_train, X_test, y_train, y_test = train_test_split(X, y, test_size=.2, random_state=42)\n",
    "print(X_train.shape, X_test.shape)\n",
    "print(y_train.shape, y_test.shape)"
   ]
  },
  {
   "cell_type": "code",
   "execution_count": 6,
   "id": "35075508",
   "metadata": {},
   "outputs": [
    {
     "name": "stdout",
     "output_type": "stream",
     "text": [
      "[0 1 2 3 4 5 6 7 8 9]\n",
      "[0 1 2 3 4 5 6 7 8 9]\n"
     ]
    }
   ],
   "source": [
    "# testing uniqueness\n",
    "print(np.unique(y_train))\n",
    "print(np.unique(y_test))"
   ]
  },
  {
   "cell_type": "code",
   "execution_count": 7,
   "id": "f21da0cb",
   "metadata": {},
   "outputs": [],
   "source": [
    "# checking only zeros\n",
    "y_train_0 = (y_train == 0)\n",
    "y_test_0 = (y_test == 0)"
   ]
  },
  {
   "cell_type": "code",
   "execution_count": 8,
   "id": "7a1d64ea",
   "metadata": {},
   "outputs": [],
   "source": [
    "# importing the classifier\n",
    "from sklearn.linear_model import SGDClassifier"
   ]
  },
  {
   "cell_type": "code",
   "execution_count": 9,
   "id": "7c687c78",
   "metadata": {},
   "outputs": [
    {
     "name": "stdout",
     "output_type": "stream",
     "text": [
      "5.442911148071289\n"
     ]
    }
   ],
   "source": [
    "# feeding the model data\n",
    "start = time.time()\n",
    "sgd_clf = SGDClassifier(random_state=42)\n",
    "sgd_clf.fit(X_train, y_train_0)\n",
    "print(time.time() - start)"
   ]
  },
  {
   "cell_type": "code",
   "execution_count": 10,
   "id": "830e0899",
   "metadata": {},
   "outputs": [
    {
     "name": "stdout",
     "output_type": "stream",
     "text": [
      "10.670475959777832\n",
      "[0.98687523 0.98762522 0.98649952]\n"
     ]
    }
   ],
   "source": [
    "# measuring the accuracy of the clf\n",
    "start = time.time()\n",
    "score = cross_val_score(sgd_clf, X_train, y_train_0, cv=3, scoring=\"accuracy\", n_jobs=-1)\n",
    "print(time.time() - start)\n",
    "print(score)"
   ]
  },
  {
   "cell_type": "code",
   "execution_count": 11,
   "id": "ead0c605",
   "metadata": {},
   "outputs": [
    {
     "name": "stdout",
     "output_type": "stream",
     "text": [
      "[False False False ... False  True  True]\n",
      "[[49966   474]\n",
      " [  254  5306]]\n"
     ]
    }
   ],
   "source": [
    "y_train_pred = cross_val_predict(sgd_clf, X_train, y_train_0, cv=3, n_jobs=-1)\n",
    "print(y_train_pred)\n",
    "print(confusion_matrix(y_train_0, y_train_pred))"
   ]
  },
  {
   "cell_type": "code",
   "execution_count": 12,
   "id": "838e4e14",
   "metadata": {},
   "outputs": [],
   "source": [
    "import pickle"
   ]
  },
  {
   "cell_type": "code",
   "execution_count": 13,
   "id": "0f097c04",
   "metadata": {},
   "outputs": [],
   "source": [
    "accuracies = [sgd_clf.score(X_train, y_train_0), sgd_clf.score(X_test, y_test_0)]\n",
    "with open('sgd_acc.pkl', 'wb') as f:\n",
    "    pickle.dump(accuracies, f, pickle.HIGHEST_PROTOCOL)"
   ]
  },
  {
   "cell_type": "code",
   "execution_count": 14,
   "id": "4cfc1749",
   "metadata": {},
   "outputs": [],
   "source": [
    "cross_score = cross_val_score(sgd_clf, X_train, y_train_0, cv=3, scoring=\"accuracy\", n_jobs=-1)\n",
    "with open('sgd_cva.pkl', 'wb') as f:\n",
    "    pickle.dump(cross_score, f, pickle.HIGHEST_PROTOCOL)"
   ]
  },
  {
   "cell_type": "code",
   "execution_count": 15,
   "id": "1d04e662",
   "metadata": {},
   "outputs": [
    {
     "name": "stdout",
     "output_type": "stream",
     "text": [
      "70.96468496322632\n"
     ]
    }
   ],
   "source": [
    "# feeding the model data\n",
    "start = time.time()\n",
    "sgd_wiel_clf = SGDClassifier(random_state=42,n_jobs=-1)\n",
    "sgd_wiel_clf.fit(X_train, y_train)\n",
    "print(time.time() - start)"
   ]
  },
  {
   "cell_type": "code",
   "execution_count": 16,
   "id": "2da7f4ae",
   "metadata": {},
   "outputs": [],
   "source": [
    "y_train_pred = cross_val_predict(sgd_wiel_clf, X_train, y_train, cv=3, n_jobs=-1)\n",
    "matrix = confusion_matrix(y_train, y_train_pred)\n",
    "with open('sgd_cmx.pkl', 'wb') as f:\n",
    "    pickle.dump(matrix, f, pickle.HIGHEST_PROTOCOL)"
   ]
  },
  {
   "cell_type": "code",
   "execution_count": 17,
   "id": "6088fd32",
   "metadata": {},
   "outputs": [
    {
     "name": "stdout",
     "output_type": "stream",
     "text": [
      "[0.9918571428571429, 0.9903571428571428]\n",
      "[0.98687523 0.98762522 0.98649952]\n",
      "[[5193    2   71   17   10   34   46    4  155   28]\n",
      " [   3 6121   49    9   14   17   20    8   30    6]\n",
      " [  42  109 4896  113   68   21   93   86  163   19]\n",
      " [  37   44  361 4312   26  497   28   86  224   93]\n",
      " [  15   31   49    2 5123    8   39   38   88  136]\n",
      " [  57   35   65  173  111 4069  127   36  298   69]\n",
      " [  56   33  204    3   66  122 4925    4   66    1]\n",
      " [  24   48   77   18  133   11    3 5225   44  207]\n",
      " [  47  216  705  130  133  446   77   68 3435  211]\n",
      " [  25   49   28   58  606   89    0  320  107 4256]]\n"
     ]
    }
   ],
   "source": [
    "with open('sgd_acc.pkl', 'rb') as f:\n",
    "    print(pickle.load(f))\n",
    "    \n",
    "with open('sgd_cva.pkl', 'rb') as f:\n",
    "    print(pickle.load(f))\n",
    "    \n",
    "with open('sgd_cmx.pkl', 'rb') as f:\n",
    "    print(pickle.load(f))"
   ]
  },
  {
   "cell_type": "code",
   "execution_count": null,
   "id": "02e84fc1",
   "metadata": {},
   "outputs": [],
   "source": []
  }
 ],
 "metadata": {
  "kernelspec": {
   "display_name": "Python 3 (ipykernel)",
   "language": "python",
   "name": "python3"
  },
  "language_info": {
   "codemirror_mode": {
    "name": "ipython",
    "version": 3
   },
   "file_extension": ".py",
   "mimetype": "text/x-python",
   "name": "python",
   "nbconvert_exporter": "python",
   "pygments_lexer": "ipython3",
   "version": "3.9.12"
  }
 },
 "nbformat": 4,
 "nbformat_minor": 5
}

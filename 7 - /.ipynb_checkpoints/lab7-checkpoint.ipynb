{
 "cells": [
  {
   "cell_type": "markdown",
   "id": "390f0303-3739-43d4-b1ff-9555c3850b3b",
   "metadata": {},
   "source": [
    "# imports"
   ]
  },
  {
   "cell_type": "code",
   "execution_count": 8,
   "id": "c63760a4-034f-4bf6-bb7f-cf2339f24051",
   "metadata": {},
   "outputs": [],
   "source": [
    "import numpy as np\n",
    "import pandas as pd\n",
    "\n",
    "from sklearn.datasets import fetch_openml\n",
    "from sklearn.cluster import KMeans\n",
    "\n",
    "from sklearn.metrics import silhouette_score"
   ]
  },
  {
   "cell_type": "markdown",
   "id": "ee639698-18b6-4132-83fd-c2affebfa419",
   "metadata": {},
   "source": [
    "# data"
   ]
  },
  {
   "cell_type": "code",
   "execution_count": 3,
   "id": "c6cd41a0-6087-435d-bff1-b0a83ee93043",
   "metadata": {},
   "outputs": [],
   "source": [
    "mnist = fetch_openml('mnist_784', version=1, as_frame=True)\n",
    "mnist.target = mnist.target.astype(np.uint8)"
   ]
  },
  {
   "cell_type": "code",
   "execution_count": 4,
   "id": "e7dd7c0a-8bf1-4433-8fd2-e5add081ff0a",
   "metadata": {},
   "outputs": [],
   "source": [
    "X = mnist[\"data\"]\n",
    "y = mnist[\"target\"]"
   ]
  },
  {
   "cell_type": "markdown",
   "id": "4ceef271-3a4e-4471-a5ac-046be757e842",
   "metadata": {},
   "source": [
    "## KMeans"
   ]
  },
  {
   "cell_type": "code",
   "execution_count": 18,
   "id": "c08889ce-fcad-4a35-9e80-530637eb54df",
   "metadata": {},
   "outputs": [],
   "source": [
    "n_kmeans = [8, 9, 10, 11, 12]\n",
    "kmeans_clfs = []\n",
    "preds = []"
   ]
  },
  {
   "cell_type": "code",
   "execution_count": 31,
   "id": "241eb8f4-51e2-4cf2-a434-48e0d2719181",
   "metadata": {},
   "outputs": [
    {
     "name": "stdout",
     "output_type": "stream",
     "text": [
      "n = 8\n",
      "\n",
      "n = 9\n",
      "\n",
      "n = 10\n",
      "\n",
      "n = 11\n",
      "\n",
      "n = 12\n",
      "\n"
     ]
    }
   ],
   "source": [
    "for n in range(len(n_kmeans)):\n",
    "    print(f\"n = {n_kmeans[n]}\\n\")\n",
    "    clf = KMeans(n_clusters=n_kmeans[n], random_state=42)\n",
    "    kmeans_clfs.append(clf)\n",
    "    preds.append(clf.fit_predict(X))"
   ]
  },
  {
   "cell_type": "code",
   "execution_count": 33,
   "id": "1165f170-93c3-42c8-b9e3-d22d2a6740dc",
   "metadata": {},
   "outputs": [
    {
     "data": {
      "text/plain": [
       "[KMeans(random_state=42),\n",
       " KMeans(n_clusters=9, random_state=42),\n",
       " KMeans(n_clusters=10, random_state=42),\n",
       " KMeans(n_clusters=11, random_state=42),\n",
       " KMeans(n_clusters=12, random_state=42),\n",
       " array([4, 3, 6, ..., 1, 4, 5], dtype=int32),\n",
       " array([1, 0, 7, ..., 3, 1, 5], dtype=int32),\n",
       " array([8, 9, 3, ..., 5, 2, 6], dtype=int32),\n",
       " array([ 3, 10,  7, ...,  9,  2,  5], dtype=int32),\n",
       " array([0, 3, 1, ..., 2, 7, 5], dtype=int32),\n",
       " array([4, 3, 6, ..., 1, 4, 5], dtype=int32),\n",
       " array([1, 0, 7, ..., 3, 1, 5], dtype=int32),\n",
       " array([8, 9, 3, ..., 5, 2, 6], dtype=int32),\n",
       " array([ 3, 10,  7, ...,  9,  2,  5], dtype=int32),\n",
       " array([0, 3, 1, ..., 2, 7, 5], dtype=int32),\n",
       " array([4, 3, 6, ..., 1, 4, 5], dtype=int32),\n",
       " array([1, 0, 7, ..., 3, 1, 5], dtype=int32),\n",
       " array([8, 9, 3, ..., 5, 2, 6], dtype=int32),\n",
       " array([ 3, 10,  7, ...,  9,  2,  5], dtype=int32),\n",
       " array([0, 3, 1, ..., 2, 7, 5], dtype=int32)]"
      ]
     },
     "execution_count": 33,
     "metadata": {},
     "output_type": "execute_result"
    }
   ],
   "source": [
    "preds"
   ]
  },
  {
   "cell_type": "markdown",
   "id": "0881cdc0-5a79-47cd-b78c-96a1715d1875",
   "metadata": {},
   "source": [
    "## Silhoutte scores"
   ]
  },
  {
   "cell_type": "code",
   "execution_count": 35,
   "id": "3e87f7cc-9726-4f37-a8aa-d58002f9dcfe",
   "metadata": {},
   "outputs": [],
   "source": [
    "s_scores = []"
   ]
  },
  {
   "cell_type": "code",
   "execution_count": 39,
   "id": "d905401f-330f-485b-86cb-bd7f0b664163",
   "metadata": {},
   "outputs": [
    {
     "name": "stdout",
     "output_type": "stream",
     "text": [
      "KMeans(random_state=42)\n",
      "KMeans(n_clusters=9, random_state=42)\n",
      "KMeans(n_clusters=10, random_state=42)\n",
      "KMeans(n_clusters=11, random_state=42)\n",
      "KMeans(n_clusters=12, random_state=42)\n",
      "KMeans(random_state=42)\n",
      "KMeans(n_clusters=9, random_state=42)\n",
      "KMeans(n_clusters=10, random_state=42)\n",
      "KMeans(n_clusters=11, random_state=42)\n",
      "KMeans(n_clusters=12, random_state=42)\n",
      "KMeans(random_state=42)\n",
      "KMeans(n_clusters=9, random_state=42)\n",
      "KMeans(n_clusters=10, random_state=42)\n",
      "KMeans(n_clusters=11, random_state=42)\n",
      "KMeans(n_clusters=12, random_state=42)\n",
      "KMeans(random_state=42)\n",
      "KMeans(n_clusters=9, random_state=42)\n",
      "KMeans(n_clusters=10, random_state=42)\n",
      "KMeans(n_clusters=11, random_state=42)\n",
      "KMeans(n_clusters=12, random_state=42)\n"
     ]
    }
   ],
   "source": [
    "for clf in kmeans_clfs:\n",
    "    print(clf)"
   ]
  },
  {
   "cell_type": "code",
   "execution_count": null,
   "id": "aa674669-96d3-486e-9675-73ed44765615",
   "metadata": {},
   "outputs": [],
   "source": []
  },
  {
   "cell_type": "code",
   "execution_count": null,
   "id": "39307549-d89b-4876-b531-fcf4999fe0b5",
   "metadata": {},
   "outputs": [],
   "source": []
  },
  {
   "cell_type": "code",
   "execution_count": null,
   "id": "4ff9b921-8dd5-4d4c-b24c-19bdf042b493",
   "metadata": {},
   "outputs": [],
   "source": []
  },
  {
   "cell_type": "code",
   "execution_count": null,
   "id": "b0554eaf-7736-489a-97e7-4e7e751c13ac",
   "metadata": {},
   "outputs": [],
   "source": []
  },
  {
   "cell_type": "code",
   "execution_count": null,
   "id": "e7d5c1c8-939b-4ee7-91a4-f9a6e65d1546",
   "metadata": {},
   "outputs": [],
   "source": []
  },
  {
   "cell_type": "code",
   "execution_count": null,
   "id": "826b89f4-4f95-49da-82a4-222b15870879",
   "metadata": {},
   "outputs": [],
   "source": []
  },
  {
   "cell_type": "code",
   "execution_count": null,
   "id": "31dcdd1c-8a31-4491-ae94-94fcad199e7e",
   "metadata": {},
   "outputs": [],
   "source": []
  },
  {
   "cell_type": "code",
   "execution_count": null,
   "id": "9af9c046-f576-4eb5-b96e-9e2413300b1d",
   "metadata": {},
   "outputs": [],
   "source": []
  },
  {
   "cell_type": "code",
   "execution_count": null,
   "id": "61bdcafe-e9ec-4402-a897-1bb9f0455cc1",
   "metadata": {},
   "outputs": [],
   "source": []
  },
  {
   "cell_type": "code",
   "execution_count": null,
   "id": "ff6bfc9d-116a-45f6-9aee-42ab9406c73b",
   "metadata": {},
   "outputs": [],
   "source": []
  },
  {
   "cell_type": "code",
   "execution_count": null,
   "id": "928268e8-eb40-4d00-8fa5-3bd6ec7de2e1",
   "metadata": {},
   "outputs": [],
   "source": []
  }
 ],
 "metadata": {
  "kernelspec": {
   "display_name": "Python 3 (ipykernel)",
   "language": "python",
   "name": "python3"
  },
  "language_info": {
   "codemirror_mode": {
    "name": "ipython",
    "version": 3
   },
   "file_extension": ".py",
   "mimetype": "text/x-python",
   "name": "python",
   "nbconvert_exporter": "python",
   "pygments_lexer": "ipython3",
   "version": "3.9.10"
  }
 },
 "nbformat": 4,
 "nbformat_minor": 5
}

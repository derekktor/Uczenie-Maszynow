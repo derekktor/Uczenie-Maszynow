{
 "cells": [
  {
   "cell_type": "markdown",
   "id": "2c082005-91ed-4545-8686-c4101a7bed3e",
   "metadata": {
    "tags": []
   },
   "source": [
    "## Imports"
   ]
  },
  {
   "cell_type": "code",
   "execution_count": 1,
   "id": "5d04016c-880b-4596-bca5-19eb24f77b08",
   "metadata": {},
   "outputs": [],
   "source": [
    "import pandas as pd\n",
    "import numpy as np"
   ]
  },
  {
   "cell_type": "code",
   "execution_count": 2,
   "id": "82eccc39-3f7e-442f-8357-246df4d2581f",
   "metadata": {},
   "outputs": [],
   "source": [
    "from sklearn.model_selection import train_test_split"
   ]
  },
  {
   "cell_type": "code",
   "execution_count": 54,
   "id": "75355a90-ddea-4242-8451-e14aa585b1ba",
   "metadata": {},
   "outputs": [],
   "source": [
    "from sklearn.metrics import f1_score\n",
    "from sklearn.metrics import mean_squared_error\n",
    "from sklearn.metrics import accuracy_score"
   ]
  },
  {
   "cell_type": "code",
   "execution_count": 4,
   "id": "5b19145e-fe25-4088-82ee-fb4ad1cbe0b1",
   "metadata": {},
   "outputs": [],
   "source": [
    "from sklearn.tree import DecisionTreeClassifier\n",
    "from sklearn.tree import DecisionTreeRegressor"
   ]
  },
  {
   "cell_type": "code",
   "execution_count": 5,
   "id": "eee19d4a-5a99-4f43-8d11-5ccdf6e492f1",
   "metadata": {},
   "outputs": [],
   "source": [
    "from sklearn.tree import export_graphviz"
   ]
  },
  {
   "cell_type": "code",
   "execution_count": 62,
   "id": "1f040862-8ac5-44a3-9977-54697b995153",
   "metadata": {},
   "outputs": [],
   "source": [
    "import graphviz"
   ]
  },
  {
   "cell_type": "code",
   "execution_count": 63,
   "id": "b898bcfa-fbb3-4740-9b48-e91f2d0a5b2d",
   "metadata": {},
   "outputs": [],
   "source": [
    "import pickle"
   ]
  },
  {
   "cell_type": "markdown",
   "id": "381a1d12-16c1-4065-aeb8-ef429a410aa9",
   "metadata": {
    "tags": []
   },
   "source": [
    "## Importing dataset: data_breast_cancer"
   ]
  },
  {
   "cell_type": "code",
   "execution_count": 7,
   "id": "11113165-e610-47dd-878b-75ad15af5675",
   "metadata": {},
   "outputs": [],
   "source": [
    "from sklearn import datasets\n",
    "dbc = datasets.load_breast_cancer(as_frame=True)"
   ]
  },
  {
   "cell_type": "code",
   "execution_count": 8,
   "id": "66ef0c90-6694-4466-a9fd-e7d2342e69a9",
   "metadata": {},
   "outputs": [],
   "source": [
    "X_bc = dbc.data[[\"mean texture\", \"mean symmetry\"]]\n",
    "y_bc = dbc.target"
   ]
  },
  {
   "cell_type": "markdown",
   "id": "39f39402-0777-4bc3-a502-5733af385e26",
   "metadata": {
    "tags": []
   },
   "source": [
    "## Creating poly function: df"
   ]
  },
  {
   "cell_type": "markdown",
   "id": "3622f741-68c5-4ab5-ae1a-50ea55c3c9eb",
   "metadata": {
    "tags": []
   },
   "source": [
    "#### x4 + 2x3 + x2 - 4x + 2 + [-4, 4]"
   ]
  },
  {
   "cell_type": "code",
   "execution_count": 9,
   "id": "54dc2874-91c7-4c0c-902b-4c07458f07ce",
   "metadata": {},
   "outputs": [],
   "source": [
    "size = 300"
   ]
  },
  {
   "cell_type": "code",
   "execution_count": 10,
   "id": "efa05007-a091-4ced-86de-fce8e7198e60",
   "metadata": {},
   "outputs": [
    {
     "data": {
      "text/plain": [
       "<AxesSubplot:xlabel='x', ylabel='y'>"
      ]
     },
     "execution_count": 10,
     "metadata": {},
     "output_type": "execute_result"
    },
    {
     "data": {
      "image/png": "[encoded data removed]",
      "text/plain": [
       "<Figure size 432x288 with 1 Axes>"
      ]
     },
     "metadata": {
      "needs_background": "light"
     },
     "output_type": "display_data"
    }
   ],
   "source": [
    "X = np.random.rand(size)*5-2.5\n",
    "w4, w3, w2, w1, w0 = 1, 2, 1, -4, 2\n",
    "y = w4*(X**4) + w3*(X**3) + w2*(X**2) + w1*X + w0 + np.random.randn(size)*8-4\n",
    "df = pd.DataFrame({'x': X, 'y': y})\n",
    "df.plot.scatter(x='x',y='y')"
   ]
  },
  {
   "cell_type": "markdown",
   "id": "e031e2f2-29c7-4051-a18c-83a5734cb7e1",
   "metadata": {
    "tags": []
   },
   "source": [
    "## Classification"
   ]
  },
  {
   "cell_type": "markdown",
   "id": "9a3d9b99-7dd9-48b7-a05d-dc5d26b5c942",
   "metadata": {},
   "source": [
    "### Spliting data"
   ]
  },
  {
   "cell_type": "code",
   "execution_count": 11,
   "id": "8df65043-2c01-491b-b0a7-008defeed66e",
   "metadata": {},
   "outputs": [],
   "source": [
    "X_bc_train, X_bc_test, y_bc_train, y_bc_test = train_test_split(X_bc, y_bc, test_size=.2)"
   ]
  },
  {
   "cell_type": "markdown",
   "id": "f4dc5265-dbd2-4dea-9499-7c5d6e284967",
   "metadata": {
    "tags": []
   },
   "source": [
    "### Finding tree depth"
   ]
  },
  {
   "cell_type": "code",
   "execution_count": 31,
   "id": "9fa198e6-4669-4d42-aa0c-d46a245f7498",
   "metadata": {},
   "outputs": [],
   "source": [
    "def check_depth(depth):\n",
    "    clfs = DecisionTreeClassifier(max_depth=depth, random_state=42)\n",
    "    clfs.fit(X_bc_train, y_bc_train)\n",
    "    preds_train = clfs.predict(X_bc_train)\n",
    "    preds_test = clfs.predict(X_bc_test)\n",
    "    f1_train = f1_score(y_bc_train, preds_train)\n",
    "    f1_test = f1_score(y_bc_test, preds_test)\n",
    "    f1_dif = f1_train - f1_test\n",
    "    print(f\"\"\"\n",
    "    {depth}\n",
    "    train: { f1_train }\n",
    "    test:  { f1_test }\n",
    "    train - test : { f1_dif }\n",
    "          \"\"\")\n",
    "    return f1_dif"
   ]
  },
  {
   "cell_type": "code",
   "execution_count": 37,
   "id": "cf63744d-c84a-4f2d-a0a8-233bbb26f993",
   "metadata": {},
   "outputs": [
    {
     "name": "stdout",
     "output_type": "stream",
     "text": [
      "\n",
      "    1\n",
      "    train: 0.7985739750445633\n",
      "    test:  0.6776859504132232\n",
      "    train - test : 0.12088802463134007\n",
      "          \n",
      "\n",
      "    2\n",
      "    train: 0.8403361344537815\n",
      "    test:  0.725925925925926\n",
      "    train - test : 0.11441020852785555\n",
      "          \n",
      "\n",
      "    3\n",
      "    train: 0.8589951377633711\n",
      "    test:  0.736111111111111\n",
      "    train - test : 0.12288402665226006\n",
      "          \n",
      "\n",
      "    4\n",
      "    train: 0.862129144851658\n",
      "    test:  0.6875\n",
      "    train - test : 0.17462914485165804\n",
      "          \n",
      "\n",
      "    5\n",
      "    train: 0.8767123287671232\n",
      "    test:  0.6976744186046512\n",
      "    train - test : 0.17903791016247206\n",
      "          \n",
      "\n",
      "    6\n",
      "    train: 0.904201680672269\n",
      "    test:  0.6976744186046512\n",
      "    train - test : 0.20652726206761784\n",
      "          \n",
      "\n",
      "    7\n",
      "    train: 0.9199999999999999\n",
      "    test:  0.7164179104477612\n",
      "    train - test : 0.20358208955223878\n",
      "          \n",
      "\n",
      "    8\n",
      "    train: 0.9346405228758169\n",
      "    test:  0.7111111111111111\n",
      "    train - test : 0.22352941176470575\n",
      "          \n",
      "\n",
      "    9\n",
      "    train: 0.9466666666666668\n",
      "    test:  0.7328244274809161\n",
      "    train - test : 0.21384223918575063\n",
      "          \n",
      "\n",
      "    10\n",
      "    train: 0.957983193277311\n",
      "    test:  0.7164179104477612\n",
      "    train - test : 0.2415652828295498\n",
      "          \n",
      "\n",
      "    11\n",
      "    train: 0.9732441471571907\n",
      "    test:  0.7014925373134329\n",
      "    train - test : 0.2717516098437578\n",
      "          \n",
      "\n",
      "    12\n",
      "    train: 0.9830508474576272\n",
      "    test:  0.6766917293233082\n",
      "    train - test : 0.30635911813431893\n",
      "          \n",
      "\n",
      "    13\n",
      "    train: 0.9915397631133671\n",
      "    test:  0.6917293233082706\n",
      "    train - test : 0.2998104398050965\n",
      "          \n",
      "\n",
      "    14\n",
      "    train: 0.9983136593591906\n",
      "    test:  0.6870229007633588\n",
      "    train - test : 0.3112907585958318\n",
      "          \n",
      "\n",
      "    15\n",
      "    train: 0.9983136593591906\n",
      "    test:  0.7111111111111111\n",
      "    train - test : 0.28720254824807945\n",
      "          \n",
      "\n",
      "    16\n",
      "    train: 1.0\n",
      "    test:  0.7014925373134329\n",
      "    train - test : 0.29850746268656714\n",
      "          \n",
      "\n",
      "    17\n",
      "    train: 1.0\n",
      "    test:  0.7014925373134329\n",
      "    train - test : 0.29850746268656714\n",
      "          \n",
      "\n",
      "    18\n",
      "    train: 1.0\n",
      "    test:  0.7014925373134329\n",
      "    train - test : 0.29850746268656714\n",
      "          \n",
      "\n",
      "    19\n",
      "    train: 1.0\n",
      "    test:  0.7014925373134329\n",
      "    train - test : 0.29850746268656714\n",
      "          \n",
      "1 0.12088802463134007\n",
      "2 0.11441020852785555\n",
      "3 0.12288402665226006\n",
      "4 0.17462914485165804\n",
      "5 0.17903791016247206\n",
      "6 0.20652726206761784\n",
      "7 0.20358208955223878\n",
      "8 0.22352941176470575\n",
      "9 0.21384223918575063\n",
      "10 0.2415652828295498\n",
      "11 0.2717516098437578\n",
      "12 0.30635911813431893\n",
      "13 0.2998104398050965\n",
      "14 0.3112907585958318\n",
      "15 0.28720254824807945\n",
      "16 0.29850746268656714\n",
      "17 0.29850746268656714\n",
      "18 0.29850746268656714\n",
      "19 0.29850746268656714\n"
     ]
    }
   ],
   "source": [
    "res = dict()\n",
    "for d in range(1, 20):\n",
    "    res[d] = check_depth(d)\n",
    "\n",
    "depth = 2"
   ]
  },
  {
   "cell_type": "markdown",
   "id": "5d2bf2a8-1552-453d-93e5-401e5c0c5cab",
   "metadata": {
    "tags": []
   },
   "source": [
    "### Drawing the tree"
   ]
  },
  {
   "cell_type": "code",
   "execution_count": 14,
   "id": "d450afb7-2430-4599-b8e3-7f686265bb4f",
   "metadata": {},
   "outputs": [],
   "source": [
    "file_name = \"bc\""
   ]
  },
  {
   "cell_type": "code",
   "execution_count": 15,
   "id": "ef8a4db1-dd2f-4eae-8b0d-dd44676c0711",
   "metadata": {},
   "outputs": [
    {
     "data": {
      "text/plain": [
       "DecisionTreeClassifier(max_depth=2, random_state=42)"
      ]
     },
     "execution_count": 15,
     "metadata": {},
     "output_type": "execute_result"
    }
   ],
   "source": [
    "clf = DecisionTreeClassifier(max_depth=depth, random_state=42)\n",
    "clf.fit(X_bc_train, y_bc_train)"
   ]
  },
  {
   "cell_type": "code",
   "execution_count": 16,
   "id": "ea3f52a6-56d3-4224-bb30-1b29d52bed54",
   "metadata": {},
   "outputs": [
    {
     "data": {
      "text/plain": [
       "'bc.png'"
      ]
     },
     "execution_count": 16,
     "metadata": {},
     "output_type": "execute_result"
    }
   ],
   "source": [
    "str_dot = export_graphviz(clf, out_file=file_name, feature_names=[\"mean texture\", \"mean symmetry\"], class_names=[str(num) + \", \" + name for num, name in zip(set(dbc.target), dbc.target_names)], rounded=True, filled=True)\n",
    "graph = graphviz.render('dot', \"png\", file_name)\n",
    "graph"
   ]
  },
  {
   "cell_type": "code",
   "execution_count": 56,
   "id": "ffe556ef-82d6-412f-977b-67234b6a9143",
   "metadata": {},
   "outputs": [],
   "source": [
    "f1acc_list = []"
   ]
  },
  {
   "cell_type": "code",
   "execution_count": 57,
   "id": "7da9a253-9d41-4b1e-845f-f730d8af032d",
   "metadata": {},
   "outputs": [
    {
     "data": {
      "text/plain": [
       "DecisionTreeClassifier(max_depth=2, random_state=42)"
      ]
     },
     "execution_count": 57,
     "metadata": {},
     "output_type": "execute_result"
    }
   ],
   "source": [
    "clfs = DecisionTreeClassifier(max_depth=depth, random_state=42)\n",
    "clfs.fit(X_bc_train, y_bc_train)"
   ]
  },
  {
   "cell_type": "code",
   "execution_count": 58,
   "id": "0ffe802a-fc75-4608-8e7c-9b565de10cc5",
   "metadata": {},
   "outputs": [],
   "source": [
    "preds_train = clfs.predict(X_bc_train)\n",
    "preds_test = clfs.predict(X_bc_test)"
   ]
  },
  {
   "cell_type": "code",
   "execution_count": 59,
   "id": "52d2dbb9-8b8d-4570-b5d2-7dc662b453c9",
   "metadata": {},
   "outputs": [],
   "source": [
    "f1_train = f1_score(y_bc_train, preds_train)\n",
    "f1_test = f1_score(y_bc_test, preds_test)"
   ]
  },
  {
   "cell_type": "code",
   "execution_count": 60,
   "id": "15174710-8ce0-4caf-899a-d81119f405c5",
   "metadata": {},
   "outputs": [],
   "source": [
    "acc_train = accuracy_score(preds_train, y_bc_train)\n",
    "acc_test = accuracy_score(preds_test, y_bc_test)"
   ]
  },
  {
   "cell_type": "code",
   "execution_count": 61,
   "id": "d0f1a2f5-8dfc-4d41-bb2f-828cdedf52d4",
   "metadata": {},
   "outputs": [
    {
     "data": {
      "text/plain": [
       "[2,\n",
       " 0.8403361344537815,\n",
       " 0.725925925925926,\n",
       " 0.7912087912087912,\n",
       " 0.6754385964912281]"
      ]
     },
     "execution_count": 61,
     "metadata": {},
     "output_type": "execute_result"
    }
   ],
   "source": [
    "f1acc_list.append(depth)\n",
    "f1acc_list.append(f1_train)\n",
    "f1acc_list.append(f1_test)\n",
    "f1acc_list.append(acc_train)\n",
    "f1acc_list.append(acc_test)\n",
    "f1acc_list"
   ]
  },
  {
   "cell_type": "code",
   "execution_count": 64,
   "id": "66cace35-ff17-4ebb-beb9-56bc9614ffb2",
   "metadata": {},
   "outputs": [],
   "source": [
    "with open('f1acc_tree.pkl', 'wb') as f:\n",
    "    pickle.dump(f1acc_list, f, pickle.HIGHEST_PROTOCOL)"
   ]
  },
  {
   "cell_type": "markdown",
   "id": "1f494fb1-a900-40d5-8f67-1a966d6b8e82",
   "metadata": {},
   "source": [
    "## Regression"
   ]
  },
  {
   "cell_type": "markdown",
   "id": "59842c59-f31a-4d79-936c-efc97ada019d",
   "metadata": {},
   "source": [
    "### Splitting the data"
   ]
  },
  {
   "cell_type": "code",
   "execution_count": 17,
   "id": "7a51f3bd-f4b1-458b-a897-bd5f4e02a657",
   "metadata": {},
   "outputs": [],
   "source": [
    "X_train, X_test, y_train, y_test = train_test_split(df.x, df.y, test_size=.2)"
   ]
  },
  {
   "cell_type": "code",
   "execution_count": 18,
   "id": "c9b5d635-3872-4c8c-954e-edb4f761ef74",
   "metadata": {},
   "outputs": [],
   "source": [
    "def check_depth_reg(depth):\n",
    "    reg_mod = DecisionTreeRegressor(max_depth=depth, random_state=42)\n",
    "    reg_mod.fit(X_train.array.reshape(-1, 1), y_train.array.reshape(-1, 1))\n",
    "    preds_train = reg_mod.predict(X_train.array.reshape(-1, 1))\n",
    "    preds_test = reg_mod.predict(X_test.array.reshape(-1, 1))\n",
    "    mse_train = mean_squared_error(y_train, preds_train)\n",
    "    mse_test = mean_squared_error(y_test, preds_test)\n",
    "    dif = mse_train - mse_test\n",
    "    # print(f\"\"\"\n",
    "    # {depth}\n",
    "    # train: { mse_train }\n",
    "    # test:  { mse_test }\n",
    "    # dif:   { dif }\n",
    "    #       \"\"\")"
   ]
  },
  {
   "cell_type": "code",
   "execution_count": 19,
   "id": "0b45eacf-d1a7-42e2-b5de-03997c6ec7fe",
   "metadata": {},
   "outputs": [],
   "source": [
    "res_reg = []\n",
    "\n",
    "for d in range(1, 20):\n",
    "    res.append(check_depth_reg(d))\n",
    "    \n",
    "depth = 2"
   ]
  },
  {
   "cell_type": "markdown",
   "id": "e3fc89a3-7cab-48ad-aa78-539c751d98a7",
   "metadata": {
    "tags": []
   },
   "source": [
    "### Drawing the tree"
   ]
  },
  {
   "cell_type": "code",
   "execution_count": 20,
   "id": "71718639-d8f2-462c-97f2-a269e5f99016",
   "metadata": {},
   "outputs": [],
   "source": [
    "file_name = \"reg\""
   ]
  },
  {
   "cell_type": "code",
   "execution_count": 15,
   "id": "d4de582d-0376-4dd5-9900-3b5603356004",
   "metadata": {},
   "outputs": [
    {
     "data": {
      "text/plain": [
       "DecisionTreeClassifier(max_depth=2, random_state=42)"
      ]
     },
     "execution_count": 15,
     "metadata": {},
     "output_type": "execute_result"
    }
   ],
   "source": [
    "clf = DecisionTreeClassifier(max_depth=depth, random_state=42)\n",
    "clf.fit(X_bc_train, y_bc_train)"
   ]
  },
  {
   "cell_type": "code",
   "execution_count": 16,
   "id": "03b93997-5641-4b04-93e2-384f4b89922d",
   "metadata": {},
   "outputs": [
    {
     "data": {
      "text/plain": [
       "'bc.png'"
      ]
     },
     "execution_count": 16,
     "metadata": {},
     "output_type": "execute_result"
    }
   ],
   "source": [
    "str_dot = export_graphviz(clf, out_file=file_name, feature_names=[\"mean texture\", \"mean symmetry\"], class_names=[str(num) + \", \" + name for num, name in zip(set(dbc.target), dbc.target_names)], rounded=True, filled=True)\n",
    "graph = graphviz.render('dot', \"png\", file_name)\n",
    "graph"
   ]
  }
 ],
 "metadata": {
  "kernelspec": {
   "display_name": "Python 3 (ipykernel)",
   "language": "python",
   "name": "python3"
  },
  "language_info": {
   "codemirror_mode": {
    "name": "ipython",
    "version": 3
   },
   "file_extension": ".py",
   "mimetype": "text/x-python",
   "name": "python",
   "nbconvert_exporter": "python",
   "pygments_lexer": "ipython3",
   "version": "3.9.12"
  }
 },
 "nbformat": 4,
 "nbformat_minor": 5
}

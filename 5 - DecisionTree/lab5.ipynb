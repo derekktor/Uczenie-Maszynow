{
 "cells": [
  {
   "cell_type": "markdown",
   "id": "2c082005-91ed-4545-8686-c4101a7bed3e",
   "metadata": {
    "tags": []
   },
   "source": [
    "## Imports"
   ]
  },
  {
   "cell_type": "code",
   "execution_count": 1,
   "id": "5d04016c-880b-4596-bca5-19eb24f77b08",
   "metadata": {},
   "outputs": [],
   "source": [
    "import pandas as pd\n",
    "import numpy as np"
   ]
  },
  {
   "cell_type": "code",
   "execution_count": 2,
   "id": "82eccc39-3f7e-442f-8357-246df4d2581f",
   "metadata": {},
   "outputs": [],
   "source": [
    "from sklearn.model_selection import train_test_split"
   ]
  },
  {
   "cell_type": "code",
   "execution_count": 3,
   "id": "75355a90-ddea-4242-8451-e14aa585b1ba",
   "metadata": {},
   "outputs": [],
   "source": [
    "from sklearn.metrics import f1_score\n",
    "from sklearn.metrics import mean_squared_error\n",
    "from sklearn.metrics import accuracy_score"
   ]
  },
  {
   "cell_type": "code",
   "execution_count": 4,
   "id": "5b19145e-fe25-4088-82ee-fb4ad1cbe0b1",
   "metadata": {},
   "outputs": [],
   "source": [
    "from sklearn.tree import DecisionTreeClassifier\n",
    "from sklearn.tree import DecisionTreeRegressor"
   ]
  },
  {
   "cell_type": "code",
   "execution_count": 5,
   "id": "eee19d4a-5a99-4f43-8d11-5ccdf6e492f1",
   "metadata": {},
   "outputs": [],
   "source": [
    "from sklearn.tree import export_graphviz"
   ]
  },
  {
   "cell_type": "code",
   "execution_count": 6,
   "id": "1f040862-8ac5-44a3-9977-54697b995153",
   "metadata": {},
   "outputs": [],
   "source": [
    "import graphviz"
   ]
  },
  {
   "cell_type": "code",
   "execution_count": 7,
   "id": "b898bcfa-fbb3-4740-9b48-e91f2d0a5b2d",
   "metadata": {},
   "outputs": [],
   "source": [
    "import pickle"
   ]
  },
  {
   "cell_type": "markdown",
   "id": "381a1d12-16c1-4065-aeb8-ef429a410aa9",
   "metadata": {
    "tags": []
   },
   "source": [
    "## Importing dataset: data_breast_cancer"
   ]
  },
  {
   "cell_type": "code",
   "execution_count": 8,
   "id": "11113165-e610-47dd-878b-75ad15af5675",
   "metadata": {},
   "outputs": [],
   "source": [
    "from sklearn import datasets\n",
    "dbc = datasets.load_breast_cancer(as_frame=True)"
   ]
  },
  {
   "cell_type": "code",
   "execution_count": 9,
   "id": "66ef0c90-6694-4466-a9fd-e7d2342e69a9",
   "metadata": {},
   "outputs": [],
   "source": [
    "X_bc = dbc.data[[\"mean texture\", \"mean symmetry\"]]\n",
    "y_bc = dbc.target"
   ]
  },
  {
   "cell_type": "markdown",
   "id": "39f39402-0777-4bc3-a502-5733af385e26",
   "metadata": {
    "tags": []
   },
   "source": [
    "## Creating poly function: df"
   ]
  },
  {
   "cell_type": "markdown",
   "id": "3622f741-68c5-4ab5-ae1a-50ea55c3c9eb",
   "metadata": {
    "tags": []
   },
   "source": [
    "#### x4 + 2x3 + x2 - 4x + 2 + [-4, 4]"
   ]
  },
  {
   "cell_type": "code",
   "execution_count": 10,
   "id": "54dc2874-91c7-4c0c-902b-4c07458f07ce",
   "metadata": {},
   "outputs": [],
   "source": [
    "size = 300"
   ]
  },
  {
   "cell_type": "code",
   "execution_count": 11,
   "id": "efa05007-a091-4ced-86de-fce8e7198e60",
   "metadata": {},
   "outputs": [
    {
     "data": {
      "text/plain": [
       "<AxesSubplot:xlabel='x', ylabel='y'>"
      ]
     },
     "execution_count": 11,
     "metadata": {},
     "output_type": "execute_result"
    },
    {
     "data": {
      "image/png": "[encoded data removed]",
      "text/plain": [
       "<Figure size 432x288 with 1 Axes>"
      ]
     },
     "metadata": {
      "needs_background": "light"
     },
     "output_type": "display_data"
    }
   ],
   "source": [
    "X = np.random.rand(size)*5-2.5\n",
    "w4, w3, w2, w1, w0 = 1, 2, 1, -4, 2\n",
    "y = w4*(X**4) + w3*(X**3) + w2*(X**2) + w1*X + w0 + np.random.randn(size)*8-4\n",
    "df = pd.DataFrame({'x': X, 'y': y})\n",
    "df.plot.scatter(x='x',y='y')"
   ]
  },
  {
   "cell_type": "markdown",
   "id": "e031e2f2-29c7-4051-a18c-83a5734cb7e1",
   "metadata": {
    "tags": []
   },
   "source": [
    "## Classification"
   ]
  },
  {
   "cell_type": "markdown",
   "id": "9a3d9b99-7dd9-48b7-a05d-dc5d26b5c942",
   "metadata": {},
   "source": [
    "### Spliting data"
   ]
  },
  {
   "cell_type": "code",
   "execution_count": 12,
   "id": "8df65043-2c01-491b-b0a7-008defeed66e",
   "metadata": {},
   "outputs": [],
   "source": [
    "X_bc_train, X_bc_test, y_bc_train, y_bc_test = train_test_split(X_bc, y_bc, test_size=.2)"
   ]
  },
  {
   "cell_type": "markdown",
   "id": "f4dc5265-dbd2-4dea-9499-7c5d6e284967",
   "metadata": {
    "tags": []
   },
   "source": [
    "### Finding tree depth"
   ]
  },
  {
   "cell_type": "code",
   "execution_count": 13,
   "id": "9fa198e6-4669-4d42-aa0c-d46a245f7498",
   "metadata": {},
   "outputs": [],
   "source": [
    "def check_depth(depth):\n",
    "    clfs = DecisionTreeClassifier(max_depth=depth, random_state=42)\n",
    "    clfs.fit(X_bc_train, y_bc_train)\n",
    "    preds_train = clfs.predict(X_bc_train)\n",
    "    preds_test = clfs.predict(X_bc_test)\n",
    "    f1_train = f1_score(y_bc_train, preds_train)\n",
    "    f1_test = f1_score(y_bc_test, preds_test)\n",
    "    f1_dif = f1_train - f1_test\n",
    "    print(f\"\"\"\n",
    "    {depth}\n",
    "    train: { f1_train }\n",
    "    test:  { f1_test }\n",
    "    train - test : { f1_dif }\n",
    "          \"\"\")\n",
    "    return f1_dif"
   ]
  },
  {
   "cell_type": "code",
   "execution_count": 14,
   "id": "cf63744d-c84a-4f2d-a0a8-233bbb26f993",
   "metadata": {},
   "outputs": [
    {
     "name": "stdout",
     "output_type": "stream",
     "text": [
      "\n",
      "    1\n",
      "    train: 0.7918968692449355\n",
      "    test:  0.7076923076923077\n",
      "    train - test : 0.08420456155262779\n",
      "          \n",
      "\n",
      "    2\n",
      "    train: 0.8396694214876034\n",
      "    test:  0.7870967741935484\n",
      "    train - test : 0.052572647294054975\n",
      "          \n",
      "\n",
      "    3\n",
      "    train: 0.8387096774193549\n",
      "    test:  0.7246376811594202\n",
      "    train - test : 0.1140719962599347\n",
      "          \n",
      "\n",
      "    4\n",
      "    train: 0.8535714285714286\n",
      "    test:  0.7246376811594202\n",
      "    train - test : 0.12893374741200847\n",
      "          \n",
      "\n",
      "    5\n",
      "    train: 0.8846153846153846\n",
      "    test:  0.7123287671232877\n",
      "    train - test : 0.17228661749209684\n",
      "          \n",
      "\n",
      "    6\n",
      "    train: 0.9058614564831262\n",
      "    test:  0.7123287671232877\n",
      "    train - test : 0.19353268935983847\n",
      "          \n",
      "\n",
      "    7\n",
      "    train: 0.9249999999999999\n",
      "    test:  0.689655172413793\n",
      "    train - test : 0.2353448275862069\n",
      "          \n",
      "\n",
      "    8\n",
      "    train: 0.9443447037701975\n",
      "    test:  0.6993006993006993\n",
      "    train - test : 0.24504400446949826\n",
      "          \n",
      "\n",
      "    9\n",
      "    train: 0.9630931458699472\n",
      "    test:  0.676056338028169\n",
      "    train - test : 0.2870368078417782\n",
      "          \n",
      "\n",
      "    10\n",
      "    train: 0.9732620320855615\n",
      "    test:  0.7132867132867133\n",
      "    train - test : 0.25997531879884817\n",
      "          \n",
      "\n",
      "    11\n",
      "    train: 0.9841269841269842\n",
      "    test:  0.6853146853146853\n",
      "    train - test : 0.29881229881229887\n",
      "          \n",
      "\n",
      "    12\n",
      "    train: 0.9930555555555556\n",
      "    test:  0.6802721088435373\n",
      "    train - test : 0.3127834467120183\n",
      "          \n",
      "\n",
      "    13\n",
      "    train: 0.9982547993019197\n",
      "    test:  0.6802721088435373\n",
      "    train - test : 0.31798269045838246\n",
      "          \n",
      "\n",
      "    14\n",
      "    train: 1.0\n",
      "    test:  0.6756756756756757\n",
      "    train - test : 0.32432432432432434\n",
      "          \n",
      "\n",
      "    15\n",
      "    train: 1.0\n",
      "    test:  0.6756756756756757\n",
      "    train - test : 0.32432432432432434\n",
      "          \n",
      "\n",
      "    16\n",
      "    train: 1.0\n",
      "    test:  0.6756756756756757\n",
      "    train - test : 0.32432432432432434\n",
      "          \n",
      "\n",
      "    17\n",
      "    train: 1.0\n",
      "    test:  0.6756756756756757\n",
      "    train - test : 0.32432432432432434\n",
      "          \n",
      "\n",
      "    18\n",
      "    train: 1.0\n",
      "    test:  0.6756756756756757\n",
      "    train - test : 0.32432432432432434\n",
      "          \n",
      "\n",
      "    19\n",
      "    train: 1.0\n",
      "    test:  0.6756756756756757\n",
      "    train - test : 0.32432432432432434\n",
      "          \n"
     ]
    }
   ],
   "source": [
    "res = dict()\n",
    "for d in range(1, 20):\n",
    "    res[d] = check_depth(d)\n",
    "\n",
    "depth = 2"
   ]
  },
  {
   "cell_type": "markdown",
   "id": "5d2bf2a8-1552-453d-93e5-401e5c0c5cab",
   "metadata": {
    "tags": []
   },
   "source": [
    "### Drawing the tree"
   ]
  },
  {
   "cell_type": "code",
   "execution_count": 15,
   "id": "d450afb7-2430-4599-b8e3-7f686265bb4f",
   "metadata": {},
   "outputs": [],
   "source": [
    "file_name = \"bc\""
   ]
  },
  {
   "cell_type": "code",
   "execution_count": 16,
   "id": "ef8a4db1-dd2f-4eae-8b0d-dd44676c0711",
   "metadata": {},
   "outputs": [
    {
     "data": {
      "text/plain": [
       "DecisionTreeClassifier(max_depth=2, random_state=42)"
      ]
     },
     "execution_count": 16,
     "metadata": {},
     "output_type": "execute_result"
    }
   ],
   "source": [
    "clf = DecisionTreeClassifier(max_depth=depth, random_state=42)\n",
    "clf.fit(X_bc_train, y_bc_train)"
   ]
  },
  {
   "cell_type": "code",
   "execution_count": 17,
   "id": "ea3f52a6-56d3-4224-bb30-1b29d52bed54",
   "metadata": {},
   "outputs": [
    {
     "data": {
      "text/plain": [
       "'bc.png'"
      ]
     },
     "execution_count": 17,
     "metadata": {},
     "output_type": "execute_result"
    }
   ],
   "source": [
    "str_dot = export_graphviz(clf, out_file=file_name, feature_names=[\"mean texture\", \"mean symmetry\"], class_names=[str(num) + \", \" + name for num, name in zip(set(dbc.target), dbc.target_names)], rounded=True, filled=True)\n",
    "graph = graphviz.render('dot', \"png\", file_name)\n",
    "graph"
   ]
  },
  {
   "cell_type": "code",
   "execution_count": 18,
   "id": "ffe556ef-82d6-412f-977b-67234b6a9143",
   "metadata": {},
   "outputs": [],
   "source": [
    "f1acc_list = []"
   ]
  },
  {
   "cell_type": "code",
   "execution_count": 19,
   "id": "7da9a253-9d41-4b1e-845f-f730d8af032d",
   "metadata": {},
   "outputs": [
    {
     "data": {
      "text/plain": [
       "DecisionTreeClassifier(max_depth=2, random_state=42)"
      ]
     },
     "execution_count": 19,
     "metadata": {},
     "output_type": "execute_result"
    }
   ],
   "source": [
    "clfs = DecisionTreeClassifier(max_depth=depth, random_state=42)\n",
    "clfs.fit(X_bc_train, y_bc_train)"
   ]
  },
  {
   "cell_type": "code",
   "execution_count": 20,
   "id": "0ffe802a-fc75-4608-8e7c-9b565de10cc5",
   "metadata": {},
   "outputs": [],
   "source": [
    "preds_train = clfs.predict(X_bc_train)\n",
    "preds_test = clfs.predict(X_bc_test)"
   ]
  },
  {
   "cell_type": "code",
   "execution_count": 21,
   "id": "52d2dbb9-8b8d-4570-b5d2-7dc662b453c9",
   "metadata": {},
   "outputs": [],
   "source": [
    "f1_train = f1_score(y_bc_train, preds_train)\n",
    "f1_test = f1_score(y_bc_test, preds_test)"
   ]
  },
  {
   "cell_type": "code",
   "execution_count": 22,
   "id": "15174710-8ce0-4caf-899a-d81119f405c5",
   "metadata": {},
   "outputs": [],
   "source": [
    "acc_train = accuracy_score(preds_train, y_bc_train)\n",
    "acc_test = accuracy_score(preds_test, y_bc_test)"
   ]
  },
  {
   "cell_type": "code",
   "execution_count": 23,
   "id": "d0f1a2f5-8dfc-4d41-bb2f-828cdedf52d4",
   "metadata": {},
   "outputs": [
    {
     "data": {
      "text/plain": [
       "[2,\n",
       " 0.8396694214876034,\n",
       " 0.7870967741935484,\n",
       " 0.7868131868131868,\n",
       " 0.7105263157894737]"
      ]
     },
     "execution_count": 23,
     "metadata": {},
     "output_type": "execute_result"
    }
   ],
   "source": [
    "f1acc_list.append(depth)\n",
    "f1acc_list.append(f1_train)\n",
    "f1acc_list.append(f1_test)\n",
    "f1acc_list.append(acc_train)\n",
    "f1acc_list.append(acc_test)\n",
    "f1acc_list"
   ]
  },
  {
   "cell_type": "code",
   "execution_count": 24,
   "id": "66cace35-ff17-4ebb-beb9-56bc9614ffb2",
   "metadata": {},
   "outputs": [],
   "source": [
    "with open('f1acc_tree.pkl', 'wb') as f:\n",
    "    pickle.dump(f1acc_list, f, pickle.HIGHEST_PROTOCOL)"
   ]
  },
  {
   "cell_type": "markdown",
   "id": "1f494fb1-a900-40d5-8f67-1a966d6b8e82",
   "metadata": {},
   "source": [
    "## Regression"
   ]
  },
  {
   "cell_type": "markdown",
   "id": "59842c59-f31a-4d79-936c-efc97ada019d",
   "metadata": {},
   "source": [
    "### Splitting the data"
   ]
  },
  {
   "cell_type": "code",
   "execution_count": 25,
   "id": "7a51f3bd-f4b1-458b-a897-bd5f4e02a657",
   "metadata": {},
   "outputs": [],
   "source": [
    "X_train, X_test, y_train, y_test = train_test_split(df.x, df.y, test_size=.2)"
   ]
  },
  {
   "cell_type": "code",
   "execution_count": 26,
   "id": "0f12feb0-47e1-4664-868f-f34f2fabd74a",
   "metadata": {},
   "outputs": [
    {
     "data": {
      "text/plain": [
       "((240,), (60,), (240,), (60,))"
      ]
     },
     "execution_count": 26,
     "metadata": {},
     "output_type": "execute_result"
    }
   ],
   "source": [
    "X_train.shape, X_test.shape, y_train.shape, y_test.shape"
   ]
  },
  {
   "cell_type": "code",
   "execution_count": 27,
   "id": "c9b5d635-3872-4c8c-954e-edb4f761ef74",
   "metadata": {},
   "outputs": [],
   "source": [
    "def check_depth_reg(depth):\n",
    "    reg_mod = DecisionTreeRegressor(max_depth=depth, random_state=42)\n",
    "    reg_mod.fit(X_train.array.reshape(-1, 1), y_train.array.reshape(-1, 1))\n",
    "    preds_train = reg_mod.predict(X_train.array.reshape(-1, 1))\n",
    "    preds_test = reg_mod.predict(X_test.array.reshape(-1, 1))\n",
    "    mse_train = mean_squared_error(y_train, preds_train)\n",
    "    mse_test = mean_squared_error(y_test, preds_test)\n",
    "    dif = mse_train - mse_test\n",
    "    # print(f\"\"\"\n",
    "    # {depth}\n",
    "    # train: { mse_train }\n",
    "    # test:  { mse_test }\n",
    "    # dif:   { dif }\n",
    "    #       \"\"\")"
   ]
  },
  {
   "cell_type": "code",
   "execution_count": 28,
   "id": "0b45eacf-d1a7-42e2-b5de-03997c6ec7fe",
   "metadata": {},
   "outputs": [],
   "source": [
    "res_reg = []\n",
    "\n",
    "for d in range(1, 20):\n",
    "    res_reg.append(check_depth_reg(d))\n",
    "    \n",
    "depth = 2"
   ]
  },
  {
   "cell_type": "markdown",
   "id": "e3fc89a3-7cab-48ad-aa78-539c751d98a7",
   "metadata": {
    "tags": []
   },
   "source": [
    "### Drawing the tree"
   ]
  },
  {
   "cell_type": "code",
   "execution_count": 29,
   "id": "71718639-d8f2-462c-97f2-a269e5f99016",
   "metadata": {},
   "outputs": [],
   "source": [
    "file_name = \"reg\""
   ]
  },
  {
   "cell_type": "code",
   "execution_count": 30,
   "id": "d4de582d-0376-4dd5-9900-3b5603356004",
   "metadata": {},
   "outputs": [
    {
     "data": {
      "text/plain": [
       "DecisionTreeRegressor(max_depth=2, random_state=42)"
      ]
     },
     "execution_count": 30,
     "metadata": {},
     "output_type": "execute_result"
    }
   ],
   "source": [
    "clf = DecisionTreeRegressor(max_depth=depth, random_state=42)\n",
    "clf.fit(X_bc_train, y_bc_train)"
   ]
  },
  {
   "cell_type": "code",
   "execution_count": 31,
   "id": "03b93997-5641-4b04-93e2-384f4b89922d",
   "metadata": {},
   "outputs": [
    {
     "data": {
      "text/plain": [
       "'reg.png'"
      ]
     },
     "execution_count": 31,
     "metadata": {},
     "output_type": "execute_result"
    }
   ],
   "source": [
    "str_dot = export_graphviz(clf, out_file=file_name, feature_names=[\"mean texture\", \"mean symmetry\"], class_names=[str(num) + \", \" + name for num, name in zip(set(dbc.target), dbc.target_names)], rounded=True, filled=True)\n",
    "graph = graphviz.render('dot', \"png\", file_name)\n",
    "graph"
   ]
  },
  {
   "cell_type": "code",
   "execution_count": 32,
   "id": "9a9b339a-e84a-4a9f-aecf-1d334776c426",
   "metadata": {},
   "outputs": [],
   "source": [
    "mse_list = []"
   ]
  },
  {
   "cell_type": "code",
   "execution_count": 33,
   "id": "99112ebb-06ab-4b94-9437-021d687cbd79",
   "metadata": {},
   "outputs": [
    {
     "data": {
      "text/plain": [
       "DecisionTreeRegressor(max_depth=2, random_state=42)"
      ]
     },
     "execution_count": 33,
     "metadata": {},
     "output_type": "execute_result"
    }
   ],
   "source": [
    "clfs = DecisionTreeRegressor(max_depth=depth, random_state=42)\n",
    "clfs.fit(X_train.array.reshape(-1,1), y_train.array.reshape(-1,1))"
   ]
  },
  {
   "cell_type": "code",
   "execution_count": 34,
   "id": "aa0e3c70-ceb2-438f-9fa3-7e77c66747e6",
   "metadata": {},
   "outputs": [],
   "source": [
    "preds_train = clfs.predict(X_train.array.reshape(-1,1))\n",
    "preds_test = clfs.predict(X_test.array.reshape(-1,1))"
   ]
  },
  {
   "cell_type": "code",
   "execution_count": 35,
   "id": "800fc19e-8c8e-4ac1-8845-0a065664f87f",
   "metadata": {},
   "outputs": [],
   "source": [
    "mse_train = mean_squared_error(y_train, preds_train)\n",
    "mse_test = mean_squared_error(y_test, preds_test)"
   ]
  },
  {
   "cell_type": "code",
   "execution_count": 36,
   "id": "66be969c-0f29-4af2-8f9d-5082c5979fd9",
   "metadata": {},
   "outputs": [
    {
     "data": {
      "text/plain": [
       "[2, 85.63356350745602, 74.20596611373774]"
      ]
     },
     "execution_count": 36,
     "metadata": {},
     "output_type": "execute_result"
    }
   ],
   "source": [
    "mse_list.append(depth)\n",
    "mse_list.append(mse_train)\n",
    "mse_list.append(mse_test)\n",
    "mse_list"
   ]
  },
  {
   "cell_type": "code",
   "execution_count": 37,
   "id": "d4fb46d3-3898-459c-9083-920f8dd88dfa",
   "metadata": {},
   "outputs": [],
   "source": [
    "with open('mse_tree.pkl', 'wb') as f:\n",
    "    pickle.dump(mse_list, f, pickle.HIGHEST_PROTOCOL)"
   ]
  },
  {
   "cell_type": "code",
   "execution_count": null,
   "id": "90ee9292-e3d0-4731-ba84-10036f798017",
   "metadata": {},
   "outputs": [],
   "source": []
  },
  {
   "cell_type": "code",
   "execution_count": null,
   "id": "f81ed069-0661-4bcf-b593-e71c8f05d687",
   "metadata": {},
   "outputs": [],
   "source": []
  }
 ],
 "metadata": {
  "kernelspec": {
   "display_name": "Python 3 (ipykernel)",
   "language": "python",
   "name": "python3"
  },
  "language_info": {
   "codemirror_mode": {
    "name": "ipython",
    "version": 3
   },
   "file_extension": ".py",
   "mimetype": "text/x-python",
   "name": "python",
   "nbconvert_exporter": "python",
   "pygments_lexer": "ipython3",
   "version": "3.9.12"
  }
 },
 "nbformat": 4,
 "nbformat_minor": 5
}

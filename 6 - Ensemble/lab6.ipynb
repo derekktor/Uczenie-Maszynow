{
 "cells": [
  {
   "cell_type": "markdown",
   "id": "b9d6ccb1-af04-4569-af67-ff0acb545d51",
   "metadata": {},
   "source": [
    "# Imports"
   ]
  },
  {
   "cell_type": "code",
   "execution_count": 1,
   "id": "4c018dea-a35d-4615-9d09-3b394ef70919",
   "metadata": {},
   "outputs": [],
   "source": [
    "from sklearn.datasets import load_breast_cancer\n",
    "from sklearn.model_selection import train_test_split\n",
    "from sklearn.metrics import accuracy_score\n",
    "import pandas as pd\n",
    "import numpy as np\n",
    "\n",
    "from sklearn.tree import DecisionTreeClassifier\n",
    "from sklearn.linear_model import LogisticRegression\n",
    "from sklearn.neighbors import KNeighborsClassifier\n",
    "from sklearn.ensemble import VotingClassifier\n",
    "\n",
    "from sklearn.ensemble import BaggingClassifier\n",
    "from sklearn.tree import DecisionTreeClassifier\n",
    "from sklearn.ensemble import RandomForestClassifier\n",
    "from sklearn.ensemble import AdaBoostClassifier\n",
    "from sklearn.ensemble import GradientBoostingClassifier\n",
    "\n",
    "import pickle"
   ]
  },
  {
   "cell_type": "markdown",
   "id": "a87414b1-9a22-4a22-9bf8-f8f6c2078ed0",
   "metadata": {
    "tags": []
   },
   "source": [
    "# Load Data"
   ]
  },
  {
   "cell_type": "code",
   "execution_count": 2,
   "id": "5cfdf768-f603-4446-8c80-8f7ad96f1582",
   "metadata": {},
   "outputs": [],
   "source": [
    "dbc = load_breast_cancer(as_frame=True)"
   ]
  },
  {
   "cell_type": "markdown",
   "id": "48751d8d-0166-4426-bcf2-4d13b4e8f897",
   "metadata": {
    "tags": []
   },
   "source": [
    "## Features"
   ]
  },
  {
   "cell_type": "code",
   "execution_count": 3,
   "id": "8228d34b-e041-4988-ae3f-78f09897dbab",
   "metadata": {},
   "outputs": [
    {
     "data": {
      "text/html": [
       "<div>\n",
       "<style scoped>\n",
       "    .dataframe tbody tr th:only-of-type {\n",
       "        vertical-align: middle;\n",
       "    }\n",
       "\n",
       "    .dataframe tbody tr th {\n",
       "        vertical-align: top;\n",
       "    }\n",
       "\n",
       "    .dataframe thead th {\n",
       "        text-align: right;\n",
       "    }\n",
       "</style>\n",
       "<table border=\"1\" class=\"dataframe\">\n",
       "  <thead>\n",
       "    <tr style=\"text-align: right;\">\n",
       "      <th></th>\n",
       "      <th>mean radius</th>\n",
       "      <th>mean texture</th>\n",
       "      <th>mean perimeter</th>\n",
       "      <th>mean area</th>\n",
       "      <th>mean smoothness</th>\n",
       "      <th>mean compactness</th>\n",
       "      <th>mean concavity</th>\n",
       "      <th>mean concave points</th>\n",
       "      <th>mean symmetry</th>\n",
       "      <th>mean fractal dimension</th>\n",
       "      <th>...</th>\n",
       "      <th>worst radius</th>\n",
       "      <th>worst texture</th>\n",
       "      <th>worst perimeter</th>\n",
       "      <th>worst area</th>\n",
       "      <th>worst smoothness</th>\n",
       "      <th>worst compactness</th>\n",
       "      <th>worst concavity</th>\n",
       "      <th>worst concave points</th>\n",
       "      <th>worst symmetry</th>\n",
       "      <th>worst fractal dimension</th>\n",
       "    </tr>\n",
       "  </thead>\n",
       "  <tbody>\n",
       "    <tr>\n",
       "      <th>0</th>\n",
       "      <td>17.99</td>\n",
       "      <td>10.38</td>\n",
       "      <td>122.80</td>\n",
       "      <td>1001.0</td>\n",
       "      <td>0.11840</td>\n",
       "      <td>0.27760</td>\n",
       "      <td>0.3001</td>\n",
       "      <td>0.14710</td>\n",
       "      <td>0.2419</td>\n",
       "      <td>0.07871</td>\n",
       "      <td>...</td>\n",
       "      <td>25.38</td>\n",
       "      <td>17.33</td>\n",
       "      <td>184.60</td>\n",
       "      <td>2019.0</td>\n",
       "      <td>0.1622</td>\n",
       "      <td>0.6656</td>\n",
       "      <td>0.7119</td>\n",
       "      <td>0.2654</td>\n",
       "      <td>0.4601</td>\n",
       "      <td>0.11890</td>\n",
       "    </tr>\n",
       "    <tr>\n",
       "      <th>1</th>\n",
       "      <td>20.57</td>\n",
       "      <td>17.77</td>\n",
       "      <td>132.90</td>\n",
       "      <td>1326.0</td>\n",
       "      <td>0.08474</td>\n",
       "      <td>0.07864</td>\n",
       "      <td>0.0869</td>\n",
       "      <td>0.07017</td>\n",
       "      <td>0.1812</td>\n",
       "      <td>0.05667</td>\n",
       "      <td>...</td>\n",
       "      <td>24.99</td>\n",
       "      <td>23.41</td>\n",
       "      <td>158.80</td>\n",
       "      <td>1956.0</td>\n",
       "      <td>0.1238</td>\n",
       "      <td>0.1866</td>\n",
       "      <td>0.2416</td>\n",
       "      <td>0.1860</td>\n",
       "      <td>0.2750</td>\n",
       "      <td>0.08902</td>\n",
       "    </tr>\n",
       "    <tr>\n",
       "      <th>2</th>\n",
       "      <td>19.69</td>\n",
       "      <td>21.25</td>\n",
       "      <td>130.00</td>\n",
       "      <td>1203.0</td>\n",
       "      <td>0.10960</td>\n",
       "      <td>0.15990</td>\n",
       "      <td>0.1974</td>\n",
       "      <td>0.12790</td>\n",
       "      <td>0.2069</td>\n",
       "      <td>0.05999</td>\n",
       "      <td>...</td>\n",
       "      <td>23.57</td>\n",
       "      <td>25.53</td>\n",
       "      <td>152.50</td>\n",
       "      <td>1709.0</td>\n",
       "      <td>0.1444</td>\n",
       "      <td>0.4245</td>\n",
       "      <td>0.4504</td>\n",
       "      <td>0.2430</td>\n",
       "      <td>0.3613</td>\n",
       "      <td>0.08758</td>\n",
       "    </tr>\n",
       "    <tr>\n",
       "      <th>3</th>\n",
       "      <td>11.42</td>\n",
       "      <td>20.38</td>\n",
       "      <td>77.58</td>\n",
       "      <td>386.1</td>\n",
       "      <td>0.14250</td>\n",
       "      <td>0.28390</td>\n",
       "      <td>0.2414</td>\n",
       "      <td>0.10520</td>\n",
       "      <td>0.2597</td>\n",
       "      <td>0.09744</td>\n",
       "      <td>...</td>\n",
       "      <td>14.91</td>\n",
       "      <td>26.50</td>\n",
       "      <td>98.87</td>\n",
       "      <td>567.7</td>\n",
       "      <td>0.2098</td>\n",
       "      <td>0.8663</td>\n",
       "      <td>0.6869</td>\n",
       "      <td>0.2575</td>\n",
       "      <td>0.6638</td>\n",
       "      <td>0.17300</td>\n",
       "    </tr>\n",
       "    <tr>\n",
       "      <th>4</th>\n",
       "      <td>20.29</td>\n",
       "      <td>14.34</td>\n",
       "      <td>135.10</td>\n",
       "      <td>1297.0</td>\n",
       "      <td>0.10030</td>\n",
       "      <td>0.13280</td>\n",
       "      <td>0.1980</td>\n",
       "      <td>0.10430</td>\n",
       "      <td>0.1809</td>\n",
       "      <td>0.05883</td>\n",
       "      <td>...</td>\n",
       "      <td>22.54</td>\n",
       "      <td>16.67</td>\n",
       "      <td>152.20</td>\n",
       "      <td>1575.0</td>\n",
       "      <td>0.1374</td>\n",
       "      <td>0.2050</td>\n",
       "      <td>0.4000</td>\n",
       "      <td>0.1625</td>\n",
       "      <td>0.2364</td>\n",
       "      <td>0.07678</td>\n",
       "    </tr>\n",
       "  </tbody>\n",
       "</table>\n",
       "<p>5 rows × 30 columns</p>\n",
       "</div>"
      ],
      "text/plain": [
       "   mean radius  mean texture  mean perimeter  mean area  mean smoothness  \\\n",
       "0        17.99         10.38          122.80     1001.0          0.11840   \n",
       "1        20.57         17.77          132.90     1326.0          0.08474   \n",
       "2        19.69         21.25          130.00     1203.0          0.10960   \n",
       "3        11.42         20.38           77.58      386.1          0.14250   \n",
       "4        20.29         14.34          135.10     1297.0          0.10030   \n",
       "\n",
       "   mean compactness  mean concavity  mean concave points  mean symmetry  \\\n",
       "0           0.27760          0.3001              0.14710         0.2419   \n",
       "1           0.07864          0.0869              0.07017         0.1812   \n",
       "2           0.15990          0.1974              0.12790         0.2069   \n",
       "3           0.28390          0.2414              0.10520         0.2597   \n",
       "4           0.13280          0.1980              0.10430         0.1809   \n",
       "\n",
       "   mean fractal dimension  ...  worst radius  worst texture  worst perimeter  \\\n",
       "0                 0.07871  ...         25.38          17.33           184.60   \n",
       "1                 0.05667  ...         24.99          23.41           158.80   \n",
       "2                 0.05999  ...         23.57          25.53           152.50   \n",
       "3                 0.09744  ...         14.91          26.50            98.87   \n",
       "4                 0.05883  ...         22.54          16.67           152.20   \n",
       "\n",
       "   worst area  worst smoothness  worst compactness  worst concavity  \\\n",
       "0      2019.0            0.1622             0.6656           0.7119   \n",
       "1      1956.0            0.1238             0.1866           0.2416   \n",
       "2      1709.0            0.1444             0.4245           0.4504   \n",
       "3       567.7            0.2098             0.8663           0.6869   \n",
       "4      1575.0            0.1374             0.2050           0.4000   \n",
       "\n",
       "   worst concave points  worst symmetry  worst fractal dimension  \n",
       "0                0.2654          0.4601                  0.11890  \n",
       "1                0.1860          0.2750                  0.08902  \n",
       "2                0.2430          0.3613                  0.08758  \n",
       "3                0.2575          0.6638                  0.17300  \n",
       "4                0.1625          0.2364                  0.07678  \n",
       "\n",
       "[5 rows x 30 columns]"
      ]
     },
     "execution_count": 3,
     "metadata": {},
     "output_type": "execute_result"
    }
   ],
   "source": [
    "features = [\"mean texture\", \"mean symmetry\"]\n",
    "X = dbc[\"data\"][features]\n",
    "X_all = dbc[\"data\"]\n",
    "X_all.head()"
   ]
  },
  {
   "cell_type": "markdown",
   "id": "52a7ae70-256e-4a5a-9ef2-c2a53ee24a59",
   "metadata": {
    "tags": []
   },
   "source": [
    "## Target"
   ]
  },
  {
   "cell_type": "code",
   "execution_count": 4,
   "id": "67c0bdac-ff00-4823-b4e5-87100feb5325",
   "metadata": {},
   "outputs": [
    {
     "data": {
      "text/plain": [
       "0    0\n",
       "1    0\n",
       "2    0\n",
       "3    0\n",
       "4    0\n",
       "Name: target, dtype: int64"
      ]
     },
     "execution_count": 4,
     "metadata": {},
     "output_type": "execute_result"
    }
   ],
   "source": [
    "y = dbc[\"target\"]\n",
    "y.head()"
   ]
  },
  {
   "cell_type": "markdown",
   "id": "61a7be61-abaf-4bdb-987c-6016623941ed",
   "metadata": {
    "tags": []
   },
   "source": [
    "# Split data"
   ]
  },
  {
   "cell_type": "code",
   "execution_count": 5,
   "id": "231cbc6b-09ac-4410-aa4e-c515230648ca",
   "metadata": {},
   "outputs": [],
   "source": [
    "X_train, X_test, y_train, y_test = train_test_split(X, y, test_size=.2)"
   ]
  },
  {
   "cell_type": "code",
   "execution_count": 6,
   "id": "d29c9110-2426-4153-b4bb-06dd9b3c4717",
   "metadata": {},
   "outputs": [],
   "source": [
    "X_all_train, X_all_test, y_all_train, y_all_test = train_test_split(X_all, y, test_size=.2)"
   ]
  },
  {
   "cell_type": "markdown",
   "id": "81e950fb-e0c0-4abf-8329-1a71055eab75",
   "metadata": {},
   "source": [
    "# Classifiers"
   ]
  },
  {
   "cell_type": "code",
   "execution_count": 7,
   "id": "57a21ead-532c-436a-a737-d65a552ce7fb",
   "metadata": {},
   "outputs": [],
   "source": [
    "tree_clf = DecisionTreeClassifier(random_state=42)\n",
    "log_reg = LogisticRegression(random_state=42)\n",
    "knn_clf = KNeighborsClassifier(n_neighbors=3)\n",
    "vsoft_clf = VotingClassifier(\n",
    "    estimators=[\n",
    "        ('tree', tree_clf),\n",
    "        ('log', log_reg),\n",
    "        ('knn', knn_clf)\n",
    "    ],\n",
    "    voting='soft'\n",
    ")\n",
    "vhard_clf = VotingClassifier(\n",
    "    estimators=[\n",
    "        ('tree', tree_clf),\n",
    "        ('log', log_reg),\n",
    "        ('knn', knn_clf)\n",
    "    ],\n",
    "    voting='hard'\n",
    ")\n",
    "\n",
    "clfs = [tree_clf, log_reg, knn_clf, vsoft_clf, vhard_clf]"
   ]
  },
  {
   "cell_type": "markdown",
   "id": "c23ddb4a-dfcc-44d2-8261-cff4343362ab",
   "metadata": {},
   "source": [
    "## fit estimators"
   ]
  },
  {
   "cell_type": "code",
   "execution_count": 8,
   "id": "39b676a2-8a81-4a91-9722-21a4becd65d9",
   "metadata": {},
   "outputs": [],
   "source": [
    "for clf in clfs:\n",
    "    clf.fit(X_train, y_train)"
   ]
  },
  {
   "cell_type": "markdown",
   "id": "5d38b74d-3db3-4110-8fd9-7d34063e56b7",
   "metadata": {},
   "source": [
    "## get accuracy scores"
   ]
  },
  {
   "cell_type": "code",
   "execution_count": 9,
   "id": "9d80a13b-a2d7-4261-86bb-dd0a43563439",
   "metadata": {},
   "outputs": [],
   "source": [
    "def get_pred(clf, X_train, X_test):\n",
    "    y_pred_train = clf.predict(X_train)\n",
    "    y_pred_test = clf.predict(X_test)\n",
    "    return y_pred_train, y_pred_test"
   ]
  },
  {
   "cell_type": "code",
   "execution_count": 10,
   "id": "b69c0c7c-42ea-4945-83bb-9fbbe8c6b0c2",
   "metadata": {},
   "outputs": [],
   "source": [
    "def get_acc_score(clf, y_train, y_test, y_pred_train, y_pred_test):\n",
    "    acc_train = accuracy_score(y_train, y_pred_train)\n",
    "    acc_test = accuracy_score(y_test, y_pred_test)\n",
    "    return acc_train, acc_test"
   ]
  },
  {
   "cell_type": "code",
   "execution_count": 11,
   "id": "d8dce843-6779-474e-82a8-8eefca1452cd",
   "metadata": {},
   "outputs": [],
   "source": [
    "acc_scores = dict()"
   ]
  },
  {
   "cell_type": "code",
   "execution_count": 12,
   "id": "e5f7962b-9098-43f0-bb28-e41fb72070b2",
   "metadata": {},
   "outputs": [
    {
     "name": "stdout",
     "output_type": "stream",
     "text": [
      "('DecisionTreeClassifier', (1.0, 0.6403508771929824))\n",
      "('LogisticRegression', (0.6703296703296703, 0.7719298245614035))\n",
      "('KNeighborsClassifier', (0.8197802197802198, 0.6666666666666666))\n",
      "('VotingClassifier', (0.9934065934065934, 0.6666666666666666))\n",
      "('VotingClassifier', (0.9032967032967033, 0.7192982456140351))\n"
     ]
    }
   ],
   "source": [
    "for clf in clfs:\n",
    "    acc = get_acc_score(clf, y_train, y_test, get_pred(clf, X_train, X_test)[0], get_pred(clf, X_train, X_test)[1])\n",
    "    acc_scores[f\"{clf}\"] = (clf.__class__.__name__, acc)\n",
    "\n",
    "for s in acc_scores:\n",
    "    print(acc_scores[s])"
   ]
  },
  {
   "cell_type": "markdown",
   "id": "b07910e9-6e2a-4159-ae1c-f5579202bf4c",
   "metadata": {},
   "source": [
    "## pickle accuracies"
   ]
  },
  {
   "cell_type": "code",
   "execution_count": 13,
   "id": "f5dc38f5-b0fe-4d24-8676-7d1ed23266d8",
   "metadata": {},
   "outputs": [],
   "source": [
    "vote_acc_list = []"
   ]
  },
  {
   "cell_type": "code",
   "execution_count": 14,
   "id": "0f1f078f-e093-479b-975b-29f26f8d191e",
   "metadata": {},
   "outputs": [
    {
     "data": {
      "text/plain": [
       "[(1.0, 0.6403508771929824),\n",
       " (0.6703296703296703, 0.7719298245614035),\n",
       " (0.8197802197802198, 0.6666666666666666),\n",
       " (0.9934065934065934, 0.6666666666666666),\n",
       " (0.9032967032967033, 0.7192982456140351)]"
      ]
     },
     "execution_count": 14,
     "metadata": {},
     "output_type": "execute_result"
    }
   ],
   "source": [
    "for clf in clfs:\n",
    "    acc = get_acc_score(clf, y_train, y_test, get_pred(clf, X_train, X_test)[0], get_pred(clf, X_train, X_test)[1])\n",
    "    vote_acc_list.append(acc)\n",
    "\n",
    "vote_acc_list"
   ]
  },
  {
   "cell_type": "code",
   "execution_count": 15,
   "id": "687cfdb7-8e36-44b4-b1bb-87ad97b70ccf",
   "metadata": {},
   "outputs": [],
   "source": [
    "with open(\"acc_vote.pkl\", \"wb\") as f:\n",
    "    pickle.dump(vote_acc_list, f, pickle.HIGHEST_PROTOCOL)"
   ]
  },
  {
   "cell_type": "code",
   "execution_count": 16,
   "id": "1e1e2492-5ce6-4c55-84fa-5c710a6da198",
   "metadata": {},
   "outputs": [],
   "source": [
    "with open(\"vote.pkl\", \"wb\") as f:\n",
    "    pickle.dump(clfs, f, pickle.HIGHEST_PROTOCOL)"
   ]
  },
  {
   "cell_type": "markdown",
   "id": "7c5a35a7-43d4-42a4-a40e-b6c89a596be3",
   "metadata": {},
   "source": [
    "# Bagging, Pasting, AdaBoost..."
   ]
  },
  {
   "cell_type": "code",
   "execution_count": 17,
   "id": "b3f94ff1-3bd3-4d72-a813-cafaed0a1bed",
   "metadata": {},
   "outputs": [],
   "source": [
    "bag_clf = BaggingClassifier(\n",
    "    DecisionTreeClassifier(), n_estimators=30,\n",
    "    bootstrap=True, random_state=42, max_features=2\n",
    ")\n",
    "\n",
    "bag_clf50 = BaggingClassifier(\n",
    "    DecisionTreeClassifier(), n_estimators=30,\n",
    "    max_samples=.5, bootstrap=True, random_state=42, max_features=2\n",
    ")\n",
    "\n",
    "pas_clf = BaggingClassifier(\n",
    "    DecisionTreeClassifier(), n_estimators=30,\n",
    "    bootstrap=False, random_state=42, max_features=2\n",
    ")\n",
    "\n",
    "pas_clf50 = BaggingClassifier(\n",
    "    DecisionTreeClassifier(), n_estimators=30,\n",
    "    max_samples=.5, bootstrap=False, random_state=42, max_features=2\n",
    ")\n",
    "\n",
    "frst_clf = RandomForestClassifier(\n",
    "    n_estimators=30, random_state=42\n",
    ")\n",
    "\n",
    "ada_clf = AdaBoostClassifier(n_estimators=30)\n",
    "\n",
    "grad_clf = GradientBoostingClassifier(n_estimators=30, random_state=42)\n",
    "\n",
    "clfs2 = [bag_clf, bag_clf50, pas_clf, pas_clf50, frst_clf, ada_clf, grad_clf]"
   ]
  },
  {
   "cell_type": "markdown",
   "id": "d353d336-7d03-410b-875d-383abdc10cba",
   "metadata": {},
   "source": [
    "## fit classifiers"
   ]
  },
  {
   "cell_type": "code",
   "execution_count": 18,
   "id": "3c8665bf-36ee-4967-8199-0396d5697385",
   "metadata": {},
   "outputs": [],
   "source": [
    "for clf in clfs2:\n",
    "    clf.fit(X_train, y_train)"
   ]
  },
  {
   "cell_type": "markdown",
   "id": "d318bb0d-b6f8-4dc6-8ceb-175a857a81ae",
   "metadata": {},
   "source": [
    "## get accuracy scores"
   ]
  },
  {
   "cell_type": "code",
   "execution_count": 19,
   "id": "5bed3104-aa81-4a20-9d89-695fd0354430",
   "metadata": {},
   "outputs": [],
   "source": [
    "acc_scores2 = dict()"
   ]
  },
  {
   "cell_type": "code",
   "execution_count": 20,
   "id": "31701f22-da6f-453f-a099-fa094f14448b",
   "metadata": {},
   "outputs": [
    {
     "name": "stdout",
     "output_type": "stream",
     "text": [
      "('DecisionTreeClassifier', (1.0, 0.6403508771929824))\n",
      "('LogisticRegression', (0.6703296703296703, 0.7719298245614035))\n",
      "('KNeighborsClassifier', (0.8197802197802198, 0.6666666666666666))\n",
      "('VotingClassifier', (0.9934065934065934, 0.6666666666666666))\n",
      "('VotingClassifier', (0.9032967032967033, 0.7192982456140351))\n"
     ]
    }
   ],
   "source": [
    "for clf in clfs2:\n",
    "    acc = get_acc_score(clf, y_train, y_test, get_pred(clf, X_train, X_test)[0], get_pred(clf, X_train, X_test)[1])\n",
    "    acc_scores2[f\"{clf}\"] = (clf.__class__.__name__, acc)\n",
    "\n",
    "for s in acc_scores:\n",
    "    print(acc_scores[s])"
   ]
  },
  {
   "cell_type": "markdown",
   "id": "eaeef8bb-6dee-4ab3-b8de-312b54205a32",
   "metadata": {},
   "source": [
    "## pickle accuracies"
   ]
  },
  {
   "cell_type": "code",
   "execution_count": 21,
   "id": "56c4df76-68ba-4cf4-9b9a-a9b6a078dbda",
   "metadata": {},
   "outputs": [],
   "source": [
    "bag_acc_list = []"
   ]
  },
  {
   "cell_type": "code",
   "execution_count": 22,
   "id": "c9992bee-9217-47de-b86a-46f00e4ec738",
   "metadata": {},
   "outputs": [
    {
     "data": {
      "text/plain": [
       "[(0.9912087912087912, 0.7017543859649122),\n",
       " (0.9164835164835164, 0.6929824561403509),\n",
       " (1.0, 0.631578947368421),\n",
       " (0.967032967032967, 0.7192982456140351),\n",
       " (0.9912087912087912, 0.6929824561403509),\n",
       " (0.8, 0.7631578947368421),\n",
       " (0.8153846153846154, 0.7543859649122807)]"
      ]
     },
     "execution_count": 22,
     "metadata": {},
     "output_type": "execute_result"
    }
   ],
   "source": [
    "for clf in clfs2:\n",
    "    acc = get_acc_score(clf, y_train, y_test, get_pred(clf, X_train, X_test)[0], get_pred(clf, X_train, X_test)[1])\n",
    "    bag_acc_list.append(acc)\n",
    "\n",
    "bag_acc_list"
   ]
  },
  {
   "cell_type": "code",
   "execution_count": 23,
   "id": "be7f2bc8-89be-4531-a33d-b605b8038fe8",
   "metadata": {},
   "outputs": [],
   "source": [
    "with open(\"acc_bag.pkl\", \"wb\") as f:\n",
    "    pickle.dump(bag_acc_list, f, pickle.HIGHEST_PROTOCOL)"
   ]
  },
  {
   "cell_type": "code",
   "execution_count": 24,
   "id": "23c0514e-cdde-4e6c-8b94-81f653a3b1ce",
   "metadata": {},
   "outputs": [],
   "source": [
    "with open(\"bag.pkl\", \"wb\") as f:\n",
    "    pickle.dump(clfs2, f, pickle.HIGHEST_PROTOCOL)"
   ]
  },
  {
   "cell_type": "markdown",
   "id": "e24a9e5e-34df-4b92-8a94-47b49c6524d9",
   "metadata": {
    "tags": []
   },
   "source": [
    "# Max Features"
   ]
  },
  {
   "cell_type": "code",
   "execution_count": 25,
   "id": "d457875e-c2a6-4fd2-b2de-b0d2e75c2b2b",
   "metadata": {},
   "outputs": [],
   "source": [
    "fea_clf = BaggingClassifier(\n",
    "    DecisionTreeClassifier(), n_estimators = 30,\n",
    "    bootstrap = True, bootstrap_features = False,\n",
    "    max_samples = 0.5, max_features = 2)\n",
    "\n",
    "fea = [fea_clf]"
   ]
  },
  {
   "cell_type": "markdown",
   "id": "1932dd47-87e1-44f0-bc26-2ad60e2a6df3",
   "metadata": {},
   "source": [
    "## fit the classifier"
   ]
  },
  {
   "cell_type": "code",
   "execution_count": 26,
   "id": "42203e38-76cf-46fa-a92a-538f0e505219",
   "metadata": {},
   "outputs": [
    {
     "data": {
      "text/plain": [
       "BaggingClassifier(base_estimator=DecisionTreeClassifier(), max_features=2,\n",
       "                  max_samples=0.5, n_estimators=30)"
      ]
     },
     "execution_count": 26,
     "metadata": {},
     "output_type": "execute_result"
    }
   ],
   "source": [
    "fea_clf.fit(X_all_train, y_all_train)"
   ]
  },
  {
   "cell_type": "markdown",
   "id": "f8b93cfe-87a0-45b4-a2a1-d3390b32e415",
   "metadata": {},
   "source": [
    "## get predictions"
   ]
  },
  {
   "cell_type": "code",
   "execution_count": 27,
   "id": "57c53401-05db-4b03-b2a7-83a1c75ef78e",
   "metadata": {},
   "outputs": [],
   "source": [
    "y_pred_train_fea = fea_clf.predict(X_all_train)\n",
    "y_pred_test_fea = fea_clf.predict(X_all_test)"
   ]
  },
  {
   "cell_type": "markdown",
   "id": "c8cd93f6-3214-434d-b211-1f0bf0160f33",
   "metadata": {},
   "source": [
    "## get accuracies"
   ]
  },
  {
   "cell_type": "code",
   "execution_count": 28,
   "id": "48abeadf-be26-44a6-8cbf-86b274a0b715",
   "metadata": {},
   "outputs": [
    {
     "data": {
      "text/plain": [
       "0.9934065934065934"
      ]
     },
     "execution_count": 28,
     "metadata": {},
     "output_type": "execute_result"
    }
   ],
   "source": [
    "acc_train_fea = accuracy_score(y_all_train, y_pred_train_fea)\n",
    "acc_test_fea = accuracy_score(y_all_test, y_pred_test_fea)\n",
    "acc_train_fea"
   ]
  },
  {
   "cell_type": "markdown",
   "id": "d67d7ae2-c583-47ec-b4a9-c81c3f2459b6",
   "metadata": {},
   "source": [
    "## pickle the results"
   ]
  },
  {
   "cell_type": "code",
   "execution_count": 29,
   "id": "d3b5974b-6664-43db-b35e-12692e5801e9",
   "metadata": {},
   "outputs": [
    {
     "data": {
      "text/plain": [
       "[0.9934065934065934, 0.9649122807017544]"
      ]
     },
     "execution_count": 29,
     "metadata": {},
     "output_type": "execute_result"
    }
   ],
   "source": [
    "fea_acc_list = [acc_train_fea, acc_test_fea]\n",
    "fea_acc_list"
   ]
  },
  {
   "cell_type": "code",
   "execution_count": 30,
   "id": "67f713d4-ee79-4694-8e80-92d2c2fa6574",
   "metadata": {},
   "outputs": [],
   "source": [
    "with open(\"acc_fea.pkl\", \"wb\") as f:\n",
    "    pickle.dump(fea_acc_list, f, pickle.HIGHEST_PROTOCOL)"
   ]
  },
  {
   "cell_type": "code",
   "execution_count": 31,
   "id": "2ea457af-2143-4fcc-9ff8-7db9e7da7443",
   "metadata": {},
   "outputs": [],
   "source": [
    "with open(\"fea.pkl\", \"wb\") as f:\n",
    "    pickle.dump(fea, f, pickle.HIGHEST_PROTOCOL)"
   ]
  },
  {
   "cell_type": "markdown",
   "id": "1aa3ded8-9112-4996-914f-7a0e16085da0",
   "metadata": {},
   "source": [
    "# DataFrame"
   ]
  },
  {
   "cell_type": "code",
   "execution_count": 32,
   "id": "fd313cae-563c-4c15-abfa-9281eb39ba53",
   "metadata": {},
   "outputs": [
    {
     "data": {
      "text/html": [
       "<div>\n",
       "<style scoped>\n",
       "    .dataframe tbody tr th:only-of-type {\n",
       "        vertical-align: middle;\n",
       "    }\n",
       "\n",
       "    .dataframe tbody tr th {\n",
       "        vertical-align: top;\n",
       "    }\n",
       "\n",
       "    .dataframe thead th {\n",
       "        text-align: right;\n",
       "    }\n",
       "</style>\n",
       "<table border=\"1\" class=\"dataframe\">\n",
       "  <thead>\n",
       "    <tr style=\"text-align: right;\">\n",
       "      <th></th>\n",
       "      <th>acc_train</th>\n",
       "      <th>acc_test</th>\n",
       "      <th>features</th>\n",
       "    </tr>\n",
       "  </thead>\n",
       "  <tbody>\n",
       "  </tbody>\n",
       "</table>\n",
       "</div>"
      ],
      "text/plain": [
       "Empty DataFrame\n",
       "Columns: [acc_train, acc_test, features]\n",
       "Index: []"
      ]
     },
     "execution_count": 32,
     "metadata": {},
     "output_type": "execute_result"
    }
   ],
   "source": [
    "fea_accuracies = []\n",
    "df_fea = pd.DataFrame(columns=[\"acc_train\", \"acc_test\", \"features\"])\n",
    "df_fea"
   ]
  },
  {
   "cell_type": "code",
   "execution_count": 33,
   "id": "89d75762-adef-41d8-a422-48af25762a97",
   "metadata": {},
   "outputs": [],
   "source": [
    "names = []\n",
    "\n",
    "for ft in fea_clf.estimators_features_:\n",
    "    names.append([X_all_train.columns[ft[0]], X_all_train.columns[ft[1]]])"
   ]
  },
  {
   "cell_type": "code",
   "execution_count": 34,
   "id": "f2d5ebe6-4ba5-4795-bb45-73aabc165d7d",
   "metadata": {},
   "outputs": [],
   "source": [
    "for i in range(len(fea_clf.estimators_)):\n",
    "    \n",
    "    X = dbc[\"data\"][names[i]]\n",
    "    y = dbc[\"target\"]\n",
    "    \n",
    "    X_train, X_test, y_train, y_test = train_test_split(X, y, test_size=.2)\n",
    "    \n",
    "    clf.fit(X_train, y_train)\n",
    "    \n",
    "    y_pred_train = clf.predict(X_train)\n",
    "    y_pred_test = clf.predict(X_test)\n",
    "    \n",
    "    acc_train = accuracy_score(y_train, y_pred_train)\n",
    "    acc_test = accuracy_score(y_test, y_pred_test)\n",
    "    \n",
    "    df_fea.loc[len(df_fea.index)] = [acc_train, acc_test, names[i]]\n"
   ]
  },
  {
   "cell_type": "markdown",
   "id": "d19c0770-fb7e-4148-b14b-02702a200124",
   "metadata": {},
   "source": [
    "## sort dataframe"
   ]
  },
  {
   "cell_type": "code",
   "execution_count": 35,
   "id": "ec85217f-1da1-41f5-bd9d-eda8c888b88a",
   "metadata": {},
   "outputs": [],
   "source": [
    "df_sorted = df_fea.sort_values(by=[\"acc_test\", \"acc_train\"], ascending=False)"
   ]
  },
  {
   "cell_type": "markdown",
   "id": "a715733a-701a-44a6-8ab8-6651a15a8267",
   "metadata": {},
   "source": [
    "## pickle results"
   ]
  },
  {
   "cell_type": "code",
   "execution_count": 36,
   "id": "496185ea-c802-47f3-9aa5-4afe4dca5588",
   "metadata": {},
   "outputs": [],
   "source": [
    "with open(\"acc_fea_rank.pkl\", \"wb\") as f:\n",
    "    pickle.dump(df_sorted, f, pickle.HIGHEST_PROTOCOL)"
   ]
  }
 ],
 "metadata": {
  "kernelspec": {
   "display_name": "Python 3 (ipykernel)",
   "language": "python",
   "name": "python3"
  },
  "language_info": {
   "codemirror_mode": {
    "name": "ipython",
    "version": 3
   },
   "file_extension": ".py",
   "mimetype": "text/x-python",
   "name": "python",
   "nbconvert_exporter": "python",
   "pygments_lexer": "ipython3",
   "version": "3.9.12"
  }
 },
 "nbformat": 4,
 "nbformat_minor": 5
}
